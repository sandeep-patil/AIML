{
  "nbformat": 4,
  "nbformat_minor": 0,
  "metadata": {
    "colab": {
      "provenance": []
    },
    "kernelspec": {
      "name": "python3",
      "display_name": "Python 3"
    },
    "language_info": {
      "name": "python"
    }
  },
  "cells": [
    {
      "cell_type": "markdown",
      "source": [
        "# **Perceptron**"
      ],
      "metadata": {
        "id": "BYK727p3I4m3"
      }
    },
    {
      "cell_type": "markdown",
      "source": [
        "## 📌 1. Technical Introduction\n",
        "\n",
        "### 🧭 Where It Fits:\n",
        "\n",
        "* The **Perceptron** is the simplest form of a **neural network** — it’s a **single-layer, single-neuron model**.\n",
        "* It belongs to **supervised learning**.\n",
        "* It was originally designed for **binary classification** problems (e.g., yes/no, 0/1, cat/not-cat).\n",
        "\n",
        "### 🛠 How It Works Conceptually:\n",
        "\n",
        "* Takes multiple inputs, applies weights to them, adds a bias, and passes the result through an **activation function**.\n",
        "* If the result is above a threshold, it outputs 1; otherwise, it outputs 0.\n",
        "\n",
        "---\n",
        "\n",
        "## 🧸 2. Simplified Explanation\n",
        "\n",
        "Imagine a **voting machine**:\n",
        "\n",
        "* Each input (like “is the road clear?”, “is speed safe?”) **votes** with a certain **weight**.\n",
        "* The machine **adds up the votes**, and if the total is above a limit, it says “Go” (1); otherwise, “Stop” (0).\n",
        "\n",
        "That’s what a Perceptron does — **a smart yes/no decider**.\n",
        "\n",
        "---\n",
        "\n",
        "## 📕 3. Definition\n",
        "\n",
        "> A **Perceptron** is a linear binary classifier that computes a weighted sum of input features, adds a bias, and passes the result through an activation function (usually a step function) to produce a binary output (0 or 1).\n",
        "\n",
        "---\n",
        "Got it! For foundational concepts like perceptrons or activations, I’ll keep the explanations natural and intuitive — no rigid #Explain format. Let’s continue. Here's the rest of the explanation on **Perceptron**:\n",
        "\n",
        "---\n",
        "\n",
        "## 🧮 Perceptron: How It Works (Simple Math)\n",
        "\n",
        "Given:\n",
        "\n",
        "* Inputs: $x_1, x_2, ..., x_n$\n",
        "* Weights: $w_1, w_2, ..., w_n$\n",
        "* Bias: $b$\n",
        "\n",
        "The perceptron calculates:\n",
        "\n",
        "$$\n",
        "z = w_1x_1 + w_2x_2 + \\dots + w_nx_n + b\n",
        "$$\n",
        "\n",
        "Then it applies an **activation function**. In a basic perceptron, it’s a **step function**:\n",
        "\n",
        "$$\n",
        "\\text{output} =\n",
        "\\begin{cases}\n",
        "1 & \\text{if } z \\geq 0 \\\\\n",
        "0 & \\text{otherwise}\n",
        "\\end{cases}\n",
        "$$\n",
        "\n",
        "---\n",
        "\n",
        "## 🧪 Example:\n",
        "\n",
        "Say a car should go if:\n",
        "\n",
        "* Road is clear ($x_1 = 1$)\n",
        "* Speed is safe ($x_2 = 1$)\n",
        "\n",
        "You assign:\n",
        "\n",
        "* $w_1 = 0.6, w_2 = 0.4, b = -0.8$\n",
        "\n",
        "$$\n",
        "z = (0.6 \\cdot 1) + (0.4 \\cdot 1) - 0.8 = 0.2 \\Rightarrow \\text{output} = 1 \\ (\\text{Go})\n",
        "$$\n",
        "\n",
        "---\n",
        "\n",
        "## ✅ What Perceptron Can and Cannot Do\n",
        "\n",
        "### What It Can Do:\n",
        "\n",
        "* Learn simple binary classification (e.g., yes/no)\n",
        "* Solve **linearly separable** problems (like AND, OR logic)\n",
        "\n",
        "### What It Can’t Do:\n",
        "\n",
        "* **Cannot solve XOR** or complex problems\n",
        "* Can’t learn curved or abstract patterns — for that, we need **multi-layer networks**\n",
        "\n",
        "---"
      ],
      "metadata": {
        "id": "WsOCL78oI-IX"
      }
    },
    {
      "cell_type": "code",
      "source": [],
      "metadata": {
        "id": "33U3yTvQJi1f"
      },
      "execution_count": null,
      "outputs": []
    },
    {
      "cell_type": "markdown",
      "source": [],
      "metadata": {
        "id": "Zbv0l2dLHys5"
      }
    }
  ]
}