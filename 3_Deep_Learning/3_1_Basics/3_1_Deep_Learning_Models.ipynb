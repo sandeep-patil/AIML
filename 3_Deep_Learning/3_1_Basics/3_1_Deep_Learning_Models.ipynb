{
  "nbformat": 4,
  "nbformat_minor": 0,
  "metadata": {
    "colab": {
      "provenance": []
    },
    "kernelspec": {
      "name": "python3",
      "display_name": "Python 3"
    },
    "language_info": {
      "name": "python"
    }
  },
  "cells": [
    {
      "cell_type": "markdown",
      "source": [
        "# **Perceptron**"
      ],
      "metadata": {
        "id": "rmi_7yQSJ1SL"
      }
    },
    {
      "cell_type": "markdown",
      "source": [
        "##  **1 .Learn the OR function**"
      ],
      "metadata": {
        "id": "lOkQWd2dJ4LE"
      }
    },
    {
      "cell_type": "markdown",
      "source": [
        "### 🧪 Example Task: Learn the **OR** function\n",
        "\n",
        "### 🔢 OR Truth Table:\n",
        "\n",
        "| x1 | x2 | Output |\n",
        "| -- | -- | ------ |\n",
        "| 0  | 0  | 0      |\n",
        "| 0  | 1  | 1      |\n",
        "| 1  | 0  | 1      |\n",
        "| 1  | 1  | 1      |\n",
        "\n",
        "---\n",
        "\n",
        "### 🧠 Perceptron Formula\n",
        "\n",
        "$$\n",
        "\\text{output} =\n",
        "\\begin{cases}\n",
        "1 & \\text{if } (w \\cdot x + b) \\geq 0 \\\\\n",
        "0 & \\text{otherwise}\n",
        "\\end{cases}\n",
        "$$\n",
        "\n",
        "We’ll use:\n",
        "\n",
        "* **Step function** as activation\n",
        "* **Manual training with epochs**\n",
        "\n",
        "---"
      ],
      "metadata": {
        "id": "DBEm4HlnJ9fB"
      }
    },
    {
      "cell_type": "code",
      "execution_count": null,
      "metadata": {
        "colab": {
          "base_uri": "https://localhost:8080/"
        },
        "id": "hkoFIesFJxaN",
        "outputId": "ecf9676a-6150-463e-de27-271f43c950ad"
      },
      "outputs": [
        {
          "output_type": "stream",
          "name": "stdout",
          "text": [
            "Epoch 1\n",
            "Input: [0 0], Target: 0, Prediction: 1, Error: -1\n",
            "Input: [0 1], Target: 1, Prediction: 0, Error: 1\n",
            "Input: [1 0], Target: 1, Prediction: 1, Error: 0\n",
            "Input: [1 1], Target: 1, Prediction: 1, Error: 0\n",
            "Weights: [0.  0.1], Bias: 0.0\n",
            "\n",
            "Epoch 2\n",
            "Input: [0 0], Target: 0, Prediction: 1, Error: -1\n",
            "Input: [0 1], Target: 1, Prediction: 1, Error: 0\n",
            "Input: [1 0], Target: 1, Prediction: 0, Error: 1\n",
            "Input: [1 1], Target: 1, Prediction: 1, Error: 0\n",
            "Weights: [0.1 0.1], Bias: 0.0\n",
            "\n",
            "Epoch 3\n",
            "Input: [0 0], Target: 0, Prediction: 1, Error: -1\n",
            "Input: [0 1], Target: 1, Prediction: 1, Error: 0\n",
            "Input: [1 0], Target: 1, Prediction: 1, Error: 0\n",
            "Input: [1 1], Target: 1, Prediction: 1, Error: 0\n",
            "Weights: [0.1 0.1], Bias: -0.1\n",
            "\n",
            "Epoch 4\n",
            "Input: [0 0], Target: 0, Prediction: 0, Error: 0\n",
            "Input: [0 1], Target: 1, Prediction: 1, Error: 0\n",
            "Input: [1 0], Target: 1, Prediction: 1, Error: 0\n",
            "Input: [1 1], Target: 1, Prediction: 1, Error: 0\n",
            "Weights: [0.1 0.1], Bias: -0.1\n",
            "\n",
            "Epoch 5\n",
            "Input: [0 0], Target: 0, Prediction: 0, Error: 0\n",
            "Input: [0 1], Target: 1, Prediction: 1, Error: 0\n",
            "Input: [1 0], Target: 1, Prediction: 1, Error: 0\n",
            "Input: [1 1], Target: 1, Prediction: 1, Error: 0\n",
            "Weights: [0.1 0.1], Bias: -0.1\n",
            "\n",
            "Epoch 6\n",
            "Input: [0 0], Target: 0, Prediction: 0, Error: 0\n",
            "Input: [0 1], Target: 1, Prediction: 1, Error: 0\n",
            "Input: [1 0], Target: 1, Prediction: 1, Error: 0\n",
            "Input: [1 1], Target: 1, Prediction: 1, Error: 0\n",
            "Weights: [0.1 0.1], Bias: -0.1\n",
            "\n",
            "Epoch 7\n",
            "Input: [0 0], Target: 0, Prediction: 0, Error: 0\n",
            "Input: [0 1], Target: 1, Prediction: 1, Error: 0\n",
            "Input: [1 0], Target: 1, Prediction: 1, Error: 0\n",
            "Input: [1 1], Target: 1, Prediction: 1, Error: 0\n",
            "Weights: [0.1 0.1], Bias: -0.1\n",
            "\n",
            "Epoch 8\n",
            "Input: [0 0], Target: 0, Prediction: 0, Error: 0\n",
            "Input: [0 1], Target: 1, Prediction: 1, Error: 0\n",
            "Input: [1 0], Target: 1, Prediction: 1, Error: 0\n",
            "Input: [1 1], Target: 1, Prediction: 1, Error: 0\n",
            "Weights: [0.1 0.1], Bias: -0.1\n",
            "\n",
            "Epoch 9\n",
            "Input: [0 0], Target: 0, Prediction: 0, Error: 0\n",
            "Input: [0 1], Target: 1, Prediction: 1, Error: 0\n",
            "Input: [1 0], Target: 1, Prediction: 1, Error: 0\n",
            "Input: [1 1], Target: 1, Prediction: 1, Error: 0\n",
            "Weights: [0.1 0.1], Bias: -0.1\n",
            "\n",
            "Epoch 10\n",
            "Input: [0 0], Target: 0, Prediction: 0, Error: 0\n",
            "Input: [0 1], Target: 1, Prediction: 1, Error: 0\n",
            "Input: [1 0], Target: 1, Prediction: 1, Error: 0\n",
            "Input: [1 1], Target: 1, Prediction: 1, Error: 0\n",
            "Weights: [0.1 0.1], Bias: -0.1\n",
            "\n",
            "Final predictions:\n",
            "[0 0] => 0\n",
            "[0 1] => 1\n",
            "[1 0] => 1\n",
            "[1 1] => 1\n"
          ]
        }
      ],
      "source": [
        "import numpy as np\n",
        "\n",
        "# Step activation function\n",
        "def step_function(x):\n",
        "    return 1 if x >= 0 else 0\n",
        "\n",
        "# Perceptron class\n",
        "class Perceptron:\n",
        "    def __init__(self, input_size, learning_rate=0.1):\n",
        "        self.weights = np.zeros(input_size)\n",
        "        self.bias = 0\n",
        "        self.lr = learning_rate\n",
        "\n",
        "    def predict(self, x):\n",
        "        z = np.dot(self.weights, x) + self.bias\n",
        "        return step_function(z)\n",
        "\n",
        "    def train(self, X, y, epochs=10):\n",
        "        for epoch in range(epochs):\n",
        "            print(f\"Epoch {epoch+1}\")\n",
        "            for xi, target in zip(X, y):\n",
        "                prediction = self.predict(xi)\n",
        "                error = target - prediction\n",
        "                # Weight and bias update rule\n",
        "                self.weights += self.lr * error * xi\n",
        "                self.bias += self.lr * error\n",
        "                print(f\"Input: {xi}, Target: {target}, Prediction: {prediction}, Error: {error}\")\n",
        "            print(f\"Weights: {self.weights}, Bias: {self.bias}\\n\")\n",
        "\n",
        "# Training data for OR\n",
        "X = np.array([[0,0], [0,1], [1,0], [1,1]])\n",
        "y = np.array([0, 1, 1, 1])\n",
        "\n",
        "# Create and train perceptron\n",
        "p = Perceptron(input_size=2)\n",
        "p.train(X, y)\n",
        "\n",
        "# Test\n",
        "print(\"Final predictions:\")\n",
        "for xi in X:\n",
        "    print(f\"{xi} => {p.predict(xi)}\")\n"
      ]
    },
    {
      "cell_type": "markdown",
      "source": [
        "### ✅ Result Analysis\n",
        "\n",
        "* Weights and bias updating after each input\n",
        "* Eventually it will **correctly classify OR** logic\n",
        "* Final predictions: \\[0, 1, 1, 1]"
      ],
      "metadata": {
        "id": "TAmdIUjhKlb8"
      }
    }
  ]
}