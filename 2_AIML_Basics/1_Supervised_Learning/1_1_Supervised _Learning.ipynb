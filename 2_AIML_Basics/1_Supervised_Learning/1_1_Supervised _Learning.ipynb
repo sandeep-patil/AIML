{
  "nbformat": 4,
  "nbformat_minor": 0,
  "metadata": {
    "colab": {
      "provenance": [],
      "include_colab_link": true
    },
    "kernelspec": {
      "name": "python3",
      "display_name": "Python 3"
    },
    "language_info": {
      "name": "python"
    }
  },
  "cells": [
    {
      "cell_type": "markdown",
      "metadata": {
        "id": "view-in-github",
        "colab_type": "text"
      },
      "source": [
        "<a href=\"https://colab.research.google.com/github/sandeep-patil/AIML/blob/main/2_AIML_Basics/1_Supervised_Learning/1_1_Supervised%20_Learning.ipynb\" target=\"_parent\"><img src=\"https://colab.research.google.com/assets/colab-badge.svg\" alt=\"Open In Colab\"/></a>"
      ]
    },
    {
      "cell_type": "markdown",
      "source": [
        "# **Supervised Learning**\n",
        "Supervised Learning is a type of machine learning where a model is trained using a labeled dataset. That means each input data point has a corresponding correct output (label), and the model learns to map inputs to outputs.\n",
        "\n",
        "**Simple Definition:**\n",
        "You teach the model by giving it questions and answers, so it can learn to answer similar questions in the future.\n",
        "\n",
        "**Example:**\n",
        "Imagine you want a model to identify if an image is of a cat or a dog.\n",
        "\n",
        "Input (X): Image of an animal\n",
        "\n",
        "Label (Y): “Cat” or “Dog”\n",
        "\n",
        "The model learns patterns from many such image-label pairs.\n",
        "\n",
        "\n",
        "**Types of Supervised Learning**\n",
        "1. Regression\n",
        "2. Classification\n",
        "\n",
        "\n",
        "**Bonus: Special Categories**\n",
        "\n",
        "These are hybrid or advanced forms but still use supervised principles:\n",
        "\n",
        "Multi-label Classification: Assign multiple labels (e.g., YouTube video → comedy & music)\n",
        "\n",
        "Ordinal Regression: Predict ranked categories (e.g., rating = bad < average < good)\n",
        "\n",
        "Time-Series Forecasting (with supervised framing): Predict future values using labeled past data\n",
        "\n"
      ],
      "metadata": {
        "id": "SbOQ__mFZjq6"
      }
    },
    {
      "cell_type": "markdown",
      "source": [
        "\n",
        "# **1. Regression**\n",
        "\n",
        "**Output**: A continuous numeric value\n",
        "\n",
        "**Goal**: Predict a number based on input\n",
        "\n",
        "\n",
        "**Examples**:\n",
        "\n",
        "      Predict house price from size, location, etc.\n",
        "\n",
        "      Predict temperature for a given day\n",
        "\n",
        "      Predict student marks from study hours\n",
        "\n",
        "**Important Algorithms:**\n",
        "\n",
        "1. Linear Regression\n",
        "\n",
        "2. Polynomial Regression\n",
        "   \n",
        "3. Ridge Regression\n",
        "   \n",
        "4. Lasso Regression\n",
        "   \n",
        "5. Elastic Net Regression\n",
        "   \n",
        "6. Support Vector Regression (SVR)\n",
        "   \n",
        "7. Decision Tree Regression\n",
        "   \n",
        "8. Random Forest Regression\n",
        "   \n",
        "9. Neural Network Regression\n"
      ],
      "metadata": {
        "id": "QgobTqH_bPYU"
      }
    },
    {
      "cell_type": "markdown",
      "source": [
        "\n",
        "# **2. Classification**\n",
        "\n",
        "**Output**: A category or class\n",
        "\n",
        "**Goal**: Predict which class a new input belongs to\n",
        "\n",
        "**Examples**:\n",
        "\n",
        "      Email → Spam or Not Spam\n",
        "\n",
        "      Image → Cat, Dog, or Horse\n",
        "\n",
        "      Tumor Data → Benign or Malignant\n",
        "\n",
        "**Imortant Algorithms:**\n",
        "\n",
        "1. Logistic Regression\n",
        "2. K-Nearest Neighbors (KNN)\n",
        "3. Support Vector Machine (SVM)\n",
        "4. Decision Tree Classifier\n",
        "5. Random Forest Classifier\n",
        "6. Naive Bayes\n",
        "7. Gradient Boosting (e.g., XGBoost, LightGBM)\n",
        "8. Neural Networks (MLP, CNN, etc.)\n",
        "9. Ensemble Methods (Voting, Bagging, Stacking)\n",
        "10. Convolutional Neural Networks (CNNs)\n"
      ],
      "metadata": {
        "id": "E8ISNTfla85-"
      }
    }
  ]
}