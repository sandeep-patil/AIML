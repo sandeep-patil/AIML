{
  "nbformat": 4,
  "nbformat_minor": 0,
  "metadata": {
    "colab": {
      "provenance": []
    },
    "kernelspec": {
      "name": "python3",
      "display_name": "Python 3"
    },
    "language_info": {
      "name": "python"
    }
  },
  "cells": [
    {
      "cell_type": "markdown",
      "source": [
        "# **Ridge Regression - Comparison**"
      ],
      "metadata": {
        "id": "E0k3IV-sAVpf"
      }
    },
    {
      "cell_type": "markdown",
      "source": [
        "### 🔧 What is Ridge Regression?\n",
        "\n",
        "> A regularized version of Linear Regression that uses **L2 penalty**\n",
        "> It **shrinks** weights but **doesn’t make them zero**\n",
        "> Great when you suspect **all features are important**, but want to reduce overfitting\n",
        "\n",
        "---\n",
        "\n",
        "## 🆚 Key Difference vs Lasso\n",
        "\n",
        "| Aspect              | Lasso Regression (`Lasso`) | Ridge Regression (`Ridge`) |\n",
        "| ------------------- | -------------------------- | -------------------------- |\n",
        "| Regularization Type | L1 (absolute value)        | L2 (squared value)         |\n",
        "| Feature Selection   | Yes (some weights = 0) ✅   | No (keeps all features) ✅  |\n",
        "| Use Case            | Want to select features    | Want to keep & shrink all  |\n",
        "\n",
        "---\n",
        "\n",
        "## ✅ What Will Stay the Same\n",
        "\n",
        "* Dataset: ✅ Same (`X_final`, `y`)\n",
        "* Preprocessing: ✅ Same pipeline with `StandardScaler` + `OneHotEncoder`\n",
        "* Train-test split: ✅ Same `X_train`, `X_test`, etc.\n",
        "\n",
        "---\n",
        "\n",
        "## 🔁 What Changes\n",
        "\n",
        "| Step         | Lasso                                    | Ridge                                    |\n",
        "| ------------ | ---------------------------------------- | ---------------------------------------- |\n",
        "| Model import | `from sklearn.linear_model import Lasso` | `from sklearn.linear_model import Ridge` |\n",
        "| Model used   | `Lasso(alpha=0.1)`                       | `Ridge(alpha=1.0)`                       |\n",
        "| Coefficients | Some zeroed                              | All small but non-zero                   |\n",
        "\n",
        "---"
      ],
      "metadata": {
        "id": "127pJCqn_r1p"
      }
    },
    {
      "cell_type": "markdown",
      "source": [
        "**## 📘 Model Summary: Ridge Regression for Car Resale Price Prediction**\n",
        "\n",
        "This project uses Ridge Regression to predict the resale price of cars based on various features such as year, present price, kms driven, fuel type, seller type, and transmission type.\n",
        "\n",
        "### 🧾 Dataset Description\n",
        "\n",
        "The dataset includes the following features:\n",
        "- **Year**: Manufacturing year of the car\n",
        "- **Present_Price**: Current ex-showroom price\n",
        "- **Kms_Driven**: Kilometers driven\n",
        "- **Fuel_Type**: Type of fuel used (Petrol/Diesel)\n",
        "- **Seller_Type**: Individual or dealer\n",
        "- **Transmission**: Manual or automatic\n",
        "- **Owner**: Number of previous owners\n",
        "- **Selling_Price**: Target variable\n",
        "\n",
        "### 🧠 Why Ridge Regression?\n",
        "\n",
        "Ridge Regression helps tackle multicollinearity in the dataset by adding a penalty (L2 regularization) to the loss function. This model:\n",
        "- Stabilizes coefficients even in the presence of correlated features\n",
        "- Prevents overfitting in high-dimensional data\n",
        "- Improves generalization on unseen data\n",
        "\n",
        "### 📈 Output Summary\n",
        "\n",
        "- Optimal alpha value determined using `RidgeCV`\n",
        "- Feature importance visualized through model coefficients\n",
        "- Final model saved using `joblib` for reuse or deployment\n"
      ],
      "metadata": {
        "id": "XkNsEbTYPuBZ"
      }
    },
    {
      "cell_type": "markdown",
      "source": [
        "# **Step 1 - Dataset download**"
      ],
      "metadata": {
        "id": "JosnPONFAl3X"
      }
    },
    {
      "cell_type": "code",
      "source": [
        "import pandas as pd\n",
        "\n",
        "# Replace with your actual filename if different\n",
        "df = pd.read_csv('/content/car data.csv')\n",
        "#df = pd.read_csv('/content/CAR DETAILS FROM CAR DEKHO.csv')\n",
        "#df = pd.read_csv('/content/Car details v3.csv')\n",
        "#df = pd.read_csv('/content/car details v4.csv')\n",
        "\n",
        "# Preview the data\n",
        "df.head()\n",
        "\n",
        "\n",
        "\n"
      ],
      "metadata": {
        "colab": {
          "base_uri": "https://localhost:8080/",
          "height": 206
        },
        "id": "-zFHuDUdAyYH",
        "outputId": "ec3b3213-d899-438b-ccd6-708df2bb0945"
      },
      "execution_count": 1,
      "outputs": [
        {
          "output_type": "execute_result",
          "data": {
            "text/plain": [
              "  Car_Name  Year  Selling_Price  Present_Price  Kms_Driven Fuel_Type  \\\n",
              "0     ritz  2014           3.35           5.59       27000    Petrol   \n",
              "1      sx4  2013           4.75           9.54       43000    Diesel   \n",
              "2     ciaz  2017           7.25           9.85        6900    Petrol   \n",
              "3  wagon r  2011           2.85           4.15        5200    Petrol   \n",
              "4    swift  2014           4.60           6.87       42450    Diesel   \n",
              "\n",
              "  Seller_Type Transmission  Owner  \n",
              "0      Dealer       Manual      0  \n",
              "1      Dealer       Manual      0  \n",
              "2      Dealer       Manual      0  \n",
              "3      Dealer       Manual      0  \n",
              "4      Dealer       Manual      0  "
            ],
            "text/html": [
              "\n",
              "  <div id=\"df-4b8079a1-ce64-470d-9783-50ea2404362f\" class=\"colab-df-container\">\n",
              "    <div>\n",
              "<style scoped>\n",
              "    .dataframe tbody tr th:only-of-type {\n",
              "        vertical-align: middle;\n",
              "    }\n",
              "\n",
              "    .dataframe tbody tr th {\n",
              "        vertical-align: top;\n",
              "    }\n",
              "\n",
              "    .dataframe thead th {\n",
              "        text-align: right;\n",
              "    }\n",
              "</style>\n",
              "<table border=\"1\" class=\"dataframe\">\n",
              "  <thead>\n",
              "    <tr style=\"text-align: right;\">\n",
              "      <th></th>\n",
              "      <th>Car_Name</th>\n",
              "      <th>Year</th>\n",
              "      <th>Selling_Price</th>\n",
              "      <th>Present_Price</th>\n",
              "      <th>Kms_Driven</th>\n",
              "      <th>Fuel_Type</th>\n",
              "      <th>Seller_Type</th>\n",
              "      <th>Transmission</th>\n",
              "      <th>Owner</th>\n",
              "    </tr>\n",
              "  </thead>\n",
              "  <tbody>\n",
              "    <tr>\n",
              "      <th>0</th>\n",
              "      <td>ritz</td>\n",
              "      <td>2014</td>\n",
              "      <td>3.35</td>\n",
              "      <td>5.59</td>\n",
              "      <td>27000</td>\n",
              "      <td>Petrol</td>\n",
              "      <td>Dealer</td>\n",
              "      <td>Manual</td>\n",
              "      <td>0</td>\n",
              "    </tr>\n",
              "    <tr>\n",
              "      <th>1</th>\n",
              "      <td>sx4</td>\n",
              "      <td>2013</td>\n",
              "      <td>4.75</td>\n",
              "      <td>9.54</td>\n",
              "      <td>43000</td>\n",
              "      <td>Diesel</td>\n",
              "      <td>Dealer</td>\n",
              "      <td>Manual</td>\n",
              "      <td>0</td>\n",
              "    </tr>\n",
              "    <tr>\n",
              "      <th>2</th>\n",
              "      <td>ciaz</td>\n",
              "      <td>2017</td>\n",
              "      <td>7.25</td>\n",
              "      <td>9.85</td>\n",
              "      <td>6900</td>\n",
              "      <td>Petrol</td>\n",
              "      <td>Dealer</td>\n",
              "      <td>Manual</td>\n",
              "      <td>0</td>\n",
              "    </tr>\n",
              "    <tr>\n",
              "      <th>3</th>\n",
              "      <td>wagon r</td>\n",
              "      <td>2011</td>\n",
              "      <td>2.85</td>\n",
              "      <td>4.15</td>\n",
              "      <td>5200</td>\n",
              "      <td>Petrol</td>\n",
              "      <td>Dealer</td>\n",
              "      <td>Manual</td>\n",
              "      <td>0</td>\n",
              "    </tr>\n",
              "    <tr>\n",
              "      <th>4</th>\n",
              "      <td>swift</td>\n",
              "      <td>2014</td>\n",
              "      <td>4.60</td>\n",
              "      <td>6.87</td>\n",
              "      <td>42450</td>\n",
              "      <td>Diesel</td>\n",
              "      <td>Dealer</td>\n",
              "      <td>Manual</td>\n",
              "      <td>0</td>\n",
              "    </tr>\n",
              "  </tbody>\n",
              "</table>\n",
              "</div>\n",
              "    <div class=\"colab-df-buttons\">\n",
              "\n",
              "  <div class=\"colab-df-container\">\n",
              "    <button class=\"colab-df-convert\" onclick=\"convertToInteractive('df-4b8079a1-ce64-470d-9783-50ea2404362f')\"\n",
              "            title=\"Convert this dataframe to an interactive table.\"\n",
              "            style=\"display:none;\">\n",
              "\n",
              "  <svg xmlns=\"http://www.w3.org/2000/svg\" height=\"24px\" viewBox=\"0 -960 960 960\">\n",
              "    <path d=\"M120-120v-720h720v720H120Zm60-500h600v-160H180v160Zm220 220h160v-160H400v160Zm0 220h160v-160H400v160ZM180-400h160v-160H180v160Zm440 0h160v-160H620v160ZM180-180h160v-160H180v160Zm440 0h160v-160H620v160Z\"/>\n",
              "  </svg>\n",
              "    </button>\n",
              "\n",
              "  <style>\n",
              "    .colab-df-container {\n",
              "      display:flex;\n",
              "      gap: 12px;\n",
              "    }\n",
              "\n",
              "    .colab-df-convert {\n",
              "      background-color: #E8F0FE;\n",
              "      border: none;\n",
              "      border-radius: 50%;\n",
              "      cursor: pointer;\n",
              "      display: none;\n",
              "      fill: #1967D2;\n",
              "      height: 32px;\n",
              "      padding: 0 0 0 0;\n",
              "      width: 32px;\n",
              "    }\n",
              "\n",
              "    .colab-df-convert:hover {\n",
              "      background-color: #E2EBFA;\n",
              "      box-shadow: 0px 1px 2px rgba(60, 64, 67, 0.3), 0px 1px 3px 1px rgba(60, 64, 67, 0.15);\n",
              "      fill: #174EA6;\n",
              "    }\n",
              "\n",
              "    .colab-df-buttons div {\n",
              "      margin-bottom: 4px;\n",
              "    }\n",
              "\n",
              "    [theme=dark] .colab-df-convert {\n",
              "      background-color: #3B4455;\n",
              "      fill: #D2E3FC;\n",
              "    }\n",
              "\n",
              "    [theme=dark] .colab-df-convert:hover {\n",
              "      background-color: #434B5C;\n",
              "      box-shadow: 0px 1px 3px 1px rgba(0, 0, 0, 0.15);\n",
              "      filter: drop-shadow(0px 1px 2px rgba(0, 0, 0, 0.3));\n",
              "      fill: #FFFFFF;\n",
              "    }\n",
              "  </style>\n",
              "\n",
              "    <script>\n",
              "      const buttonEl =\n",
              "        document.querySelector('#df-4b8079a1-ce64-470d-9783-50ea2404362f button.colab-df-convert');\n",
              "      buttonEl.style.display =\n",
              "        google.colab.kernel.accessAllowed ? 'block' : 'none';\n",
              "\n",
              "      async function convertToInteractive(key) {\n",
              "        const element = document.querySelector('#df-4b8079a1-ce64-470d-9783-50ea2404362f');\n",
              "        const dataTable =\n",
              "          await google.colab.kernel.invokeFunction('convertToInteractive',\n",
              "                                                    [key], {});\n",
              "        if (!dataTable) return;\n",
              "\n",
              "        const docLinkHtml = 'Like what you see? Visit the ' +\n",
              "          '<a target=\"_blank\" href=https://colab.research.google.com/notebooks/data_table.ipynb>data table notebook</a>'\n",
              "          + ' to learn more about interactive tables.';\n",
              "        element.innerHTML = '';\n",
              "        dataTable['output_type'] = 'display_data';\n",
              "        await google.colab.output.renderOutput(dataTable, element);\n",
              "        const docLink = document.createElement('div');\n",
              "        docLink.innerHTML = docLinkHtml;\n",
              "        element.appendChild(docLink);\n",
              "      }\n",
              "    </script>\n",
              "  </div>\n",
              "\n",
              "\n",
              "    <div id=\"df-1e8b13e9-552f-41ff-b96d-e4cbce60835f\">\n",
              "      <button class=\"colab-df-quickchart\" onclick=\"quickchart('df-1e8b13e9-552f-41ff-b96d-e4cbce60835f')\"\n",
              "                title=\"Suggest charts\"\n",
              "                style=\"display:none;\">\n",
              "\n",
              "<svg xmlns=\"http://www.w3.org/2000/svg\" height=\"24px\"viewBox=\"0 0 24 24\"\n",
              "     width=\"24px\">\n",
              "    <g>\n",
              "        <path d=\"M19 3H5c-1.1 0-2 .9-2 2v14c0 1.1.9 2 2 2h14c1.1 0 2-.9 2-2V5c0-1.1-.9-2-2-2zM9 17H7v-7h2v7zm4 0h-2V7h2v10zm4 0h-2v-4h2v4z\"/>\n",
              "    </g>\n",
              "</svg>\n",
              "      </button>\n",
              "\n",
              "<style>\n",
              "  .colab-df-quickchart {\n",
              "      --bg-color: #E8F0FE;\n",
              "      --fill-color: #1967D2;\n",
              "      --hover-bg-color: #E2EBFA;\n",
              "      --hover-fill-color: #174EA6;\n",
              "      --disabled-fill-color: #AAA;\n",
              "      --disabled-bg-color: #DDD;\n",
              "  }\n",
              "\n",
              "  [theme=dark] .colab-df-quickchart {\n",
              "      --bg-color: #3B4455;\n",
              "      --fill-color: #D2E3FC;\n",
              "      --hover-bg-color: #434B5C;\n",
              "      --hover-fill-color: #FFFFFF;\n",
              "      --disabled-bg-color: #3B4455;\n",
              "      --disabled-fill-color: #666;\n",
              "  }\n",
              "\n",
              "  .colab-df-quickchart {\n",
              "    background-color: var(--bg-color);\n",
              "    border: none;\n",
              "    border-radius: 50%;\n",
              "    cursor: pointer;\n",
              "    display: none;\n",
              "    fill: var(--fill-color);\n",
              "    height: 32px;\n",
              "    padding: 0;\n",
              "    width: 32px;\n",
              "  }\n",
              "\n",
              "  .colab-df-quickchart:hover {\n",
              "    background-color: var(--hover-bg-color);\n",
              "    box-shadow: 0 1px 2px rgba(60, 64, 67, 0.3), 0 1px 3px 1px rgba(60, 64, 67, 0.15);\n",
              "    fill: var(--button-hover-fill-color);\n",
              "  }\n",
              "\n",
              "  .colab-df-quickchart-complete:disabled,\n",
              "  .colab-df-quickchart-complete:disabled:hover {\n",
              "    background-color: var(--disabled-bg-color);\n",
              "    fill: var(--disabled-fill-color);\n",
              "    box-shadow: none;\n",
              "  }\n",
              "\n",
              "  .colab-df-spinner {\n",
              "    border: 2px solid var(--fill-color);\n",
              "    border-color: transparent;\n",
              "    border-bottom-color: var(--fill-color);\n",
              "    animation:\n",
              "      spin 1s steps(1) infinite;\n",
              "  }\n",
              "\n",
              "  @keyframes spin {\n",
              "    0% {\n",
              "      border-color: transparent;\n",
              "      border-bottom-color: var(--fill-color);\n",
              "      border-left-color: var(--fill-color);\n",
              "    }\n",
              "    20% {\n",
              "      border-color: transparent;\n",
              "      border-left-color: var(--fill-color);\n",
              "      border-top-color: var(--fill-color);\n",
              "    }\n",
              "    30% {\n",
              "      border-color: transparent;\n",
              "      border-left-color: var(--fill-color);\n",
              "      border-top-color: var(--fill-color);\n",
              "      border-right-color: var(--fill-color);\n",
              "    }\n",
              "    40% {\n",
              "      border-color: transparent;\n",
              "      border-right-color: var(--fill-color);\n",
              "      border-top-color: var(--fill-color);\n",
              "    }\n",
              "    60% {\n",
              "      border-color: transparent;\n",
              "      border-right-color: var(--fill-color);\n",
              "    }\n",
              "    80% {\n",
              "      border-color: transparent;\n",
              "      border-right-color: var(--fill-color);\n",
              "      border-bottom-color: var(--fill-color);\n",
              "    }\n",
              "    90% {\n",
              "      border-color: transparent;\n",
              "      border-bottom-color: var(--fill-color);\n",
              "    }\n",
              "  }\n",
              "</style>\n",
              "\n",
              "      <script>\n",
              "        async function quickchart(key) {\n",
              "          const quickchartButtonEl =\n",
              "            document.querySelector('#' + key + ' button');\n",
              "          quickchartButtonEl.disabled = true;  // To prevent multiple clicks.\n",
              "          quickchartButtonEl.classList.add('colab-df-spinner');\n",
              "          try {\n",
              "            const charts = await google.colab.kernel.invokeFunction(\n",
              "                'suggestCharts', [key], {});\n",
              "          } catch (error) {\n",
              "            console.error('Error during call to suggestCharts:', error);\n",
              "          }\n",
              "          quickchartButtonEl.classList.remove('colab-df-spinner');\n",
              "          quickchartButtonEl.classList.add('colab-df-quickchart-complete');\n",
              "        }\n",
              "        (() => {\n",
              "          let quickchartButtonEl =\n",
              "            document.querySelector('#df-1e8b13e9-552f-41ff-b96d-e4cbce60835f button');\n",
              "          quickchartButtonEl.style.display =\n",
              "            google.colab.kernel.accessAllowed ? 'block' : 'none';\n",
              "        })();\n",
              "      </script>\n",
              "    </div>\n",
              "\n",
              "    </div>\n",
              "  </div>\n"
            ],
            "application/vnd.google.colaboratory.intrinsic+json": {
              "type": "dataframe",
              "variable_name": "df",
              "summary": "{\n  \"name\": \"df\",\n  \"rows\": 301,\n  \"fields\": [\n    {\n      \"column\": \"Car_Name\",\n      \"properties\": {\n        \"dtype\": \"category\",\n        \"num_unique_values\": 98,\n        \"samples\": [\n          \"Hero Passion Pro\",\n          \"Honda CB Hornet 160R\",\n          \"city\"\n        ],\n        \"semantic_type\": \"\",\n        \"description\": \"\"\n      }\n    },\n    {\n      \"column\": \"Year\",\n      \"properties\": {\n        \"dtype\": \"number\",\n        \"std\": 2,\n        \"min\": 2003,\n        \"max\": 2018,\n        \"num_unique_values\": 16,\n        \"samples\": [\n          2014,\n          2013,\n          2015\n        ],\n        \"semantic_type\": \"\",\n        \"description\": \"\"\n      }\n    },\n    {\n      \"column\": \"Selling_Price\",\n      \"properties\": {\n        \"dtype\": \"number\",\n        \"std\": 5.082811556177804,\n        \"min\": 0.1,\n        \"max\": 35.0,\n        \"num_unique_values\": 156,\n        \"samples\": [\n          0.4,\n          7.05,\n          0.9\n        ],\n        \"semantic_type\": \"\",\n        \"description\": \"\"\n      }\n    },\n    {\n      \"column\": \"Present_Price\",\n      \"properties\": {\n        \"dtype\": \"number\",\n        \"std\": 8.644115402015785,\n        \"min\": 0.32,\n        \"max\": 92.6,\n        \"num_unique_values\": 147,\n        \"samples\": [\n          7.6,\n          36.23,\n          11.8\n        ],\n        \"semantic_type\": \"\",\n        \"description\": \"\"\n      }\n    },\n    {\n      \"column\": \"Kms_Driven\",\n      \"properties\": {\n        \"dtype\": \"number\",\n        \"std\": 38886,\n        \"min\": 500,\n        \"max\": 500000,\n        \"num_unique_values\": 206,\n        \"samples\": [\n          41678,\n          42367,\n          60076\n        ],\n        \"semantic_type\": \"\",\n        \"description\": \"\"\n      }\n    },\n    {\n      \"column\": \"Fuel_Type\",\n      \"properties\": {\n        \"dtype\": \"category\",\n        \"num_unique_values\": 3,\n        \"samples\": [\n          \"Petrol\",\n          \"Diesel\",\n          \"CNG\"\n        ],\n        \"semantic_type\": \"\",\n        \"description\": \"\"\n      }\n    },\n    {\n      \"column\": \"Seller_Type\",\n      \"properties\": {\n        \"dtype\": \"category\",\n        \"num_unique_values\": 2,\n        \"samples\": [\n          \"Individual\",\n          \"Dealer\"\n        ],\n        \"semantic_type\": \"\",\n        \"description\": \"\"\n      }\n    },\n    {\n      \"column\": \"Transmission\",\n      \"properties\": {\n        \"dtype\": \"category\",\n        \"num_unique_values\": 2,\n        \"samples\": [\n          \"Automatic\",\n          \"Manual\"\n        ],\n        \"semantic_type\": \"\",\n        \"description\": \"\"\n      }\n    },\n    {\n      \"column\": \"Owner\",\n      \"properties\": {\n        \"dtype\": \"number\",\n        \"std\": 0,\n        \"min\": 0,\n        \"max\": 3,\n        \"num_unique_values\": 3,\n        \"samples\": [\n          0,\n          1\n        ],\n        \"semantic_type\": \"\",\n        \"description\": \"\"\n      }\n    }\n  ]\n}"
            }
          },
          "metadata": {},
          "execution_count": 1
        }
      ]
    },
    {
      "cell_type": "markdown",
      "source": [],
      "metadata": {
        "id": "0gLIfesxAaw3"
      }
    },
    {
      "cell_type": "markdown",
      "source": [
        "# **Step 2: Data Exploration & Cleaning**"
      ],
      "metadata": {
        "id": "DjQJEpQWBklU"
      }
    },
    {
      "cell_type": "code",
      "source": [
        "# Basic info\n",
        "df.info()\n",
        "\n",
        "# Check for missing values\n",
        "print(\"\\nMissing Values:\\n\", df.isnull().sum())\n",
        "print(\"\\n\\n\\n\\n\")\n",
        "# Preview unique values for each column (especially categoricals)\n",
        "for col in df.columns:\n",
        "    print(f\"{col}: {df[col].unique()[:5]}\")\n"
      ],
      "metadata": {
        "colab": {
          "base_uri": "https://localhost:8080/"
        },
        "id": "Eu7C5CRpBmye",
        "outputId": "92082a97-18ae-4f47-d481-e406fb812942"
      },
      "execution_count": 2,
      "outputs": [
        {
          "output_type": "stream",
          "name": "stdout",
          "text": [
            "<class 'pandas.core.frame.DataFrame'>\n",
            "RangeIndex: 301 entries, 0 to 300\n",
            "Data columns (total 9 columns):\n",
            " #   Column         Non-Null Count  Dtype  \n",
            "---  ------         --------------  -----  \n",
            " 0   Car_Name       301 non-null    object \n",
            " 1   Year           301 non-null    int64  \n",
            " 2   Selling_Price  301 non-null    float64\n",
            " 3   Present_Price  301 non-null    float64\n",
            " 4   Kms_Driven     301 non-null    int64  \n",
            " 5   Fuel_Type      301 non-null    object \n",
            " 6   Seller_Type    301 non-null    object \n",
            " 7   Transmission   301 non-null    object \n",
            " 8   Owner          301 non-null    int64  \n",
            "dtypes: float64(2), int64(3), object(4)\n",
            "memory usage: 21.3+ KB\n",
            "\n",
            "Missing Values:\n",
            " Car_Name         0\n",
            "Year             0\n",
            "Selling_Price    0\n",
            "Present_Price    0\n",
            "Kms_Driven       0\n",
            "Fuel_Type        0\n",
            "Seller_Type      0\n",
            "Transmission     0\n",
            "Owner            0\n",
            "dtype: int64\n",
            "\n",
            "\n",
            "\n",
            "\n",
            "\n",
            "Car_Name: ['ritz' 'sx4' 'ciaz' 'wagon r' 'swift']\n",
            "Year: [2014 2013 2017 2011 2018]\n",
            "Selling_Price: [3.35 4.75 7.25 2.85 4.6 ]\n",
            "Present_Price: [5.59 9.54 9.85 4.15 6.87]\n",
            "Kms_Driven: [27000 43000  6900  5200 42450]\n",
            "Fuel_Type: ['Petrol' 'Diesel' 'CNG']\n",
            "Seller_Type: ['Dealer' 'Individual']\n",
            "Transmission: ['Manual' 'Automatic']\n",
            "Owner: [0 1 3]\n"
          ]
        }
      ]
    },
    {
      "cell_type": "markdown",
      "source": [
        "# **Step 3: Preprocessing or Feature Engineering**"
      ],
      "metadata": {
        "id": "LQ_vlBR_CSuG"
      }
    },
    {
      "cell_type": "code",
      "source": [
        "from sklearn.preprocessing import OneHotEncoder, StandardScaler\n",
        "from sklearn.compose import ColumnTransformer\n",
        "import pandas as pd\n",
        "\n",
        "# Step 1: Create Car_Age\n",
        "df['Car_Age'] = 2024 - df['Year']\n",
        "\n",
        "df.drop(['Car_Name', 'Year'], axis=1, inplace=True) # axis=1, drops columns\n",
        "\n",
        "# Step 2: Define features and target\n",
        "X = df.drop('Selling_Price', axis=1)\n",
        "y = df['Selling_Price']\n",
        "\n",
        "# Step 3: Define column types\n",
        "categorical_cols = ['Fuel_Type', 'Seller_Type', 'Transmission']\n",
        "numerical_cols = ['Present_Price', 'Kms_Driven', 'Owner', 'Car_Age']\n",
        "\n",
        "# Step 4: Preprocessing pipeline\n",
        "preprocessor = ColumnTransformer([\n",
        "    ('num', StandardScaler(), numerical_cols),\n",
        "    ('cat', OneHotEncoder(drop='first'), categorical_cols)\n",
        "])\n"
      ],
      "metadata": {
        "id": "d_j5mIl3CTJf"
      },
      "execution_count": 3,
      "outputs": []
    },
    {
      "cell_type": "markdown",
      "source": [
        "# **Step 4: Full Pipeline with Ridge**"
      ],
      "metadata": {
        "id": "_cPpnvExCdsV"
      }
    },
    {
      "cell_type": "code",
      "source": [
        "from sklearn.linear_model import Ridge\n",
        "from sklearn.pipeline import Pipeline\n",
        "\n",
        "ridge_pipeline = Pipeline([\n",
        "    ('preprocessing', preprocessor),\n",
        "    ('ridge', Ridge(alpha=1.0))\n",
        "])"
      ],
      "metadata": {
        "id": "nIAZVSSMCkSg"
      },
      "execution_count": 6,
      "outputs": []
    },
    {
      "cell_type": "markdown",
      "source": [
        "# **Step 5: Training the Ridge model**"
      ],
      "metadata": {
        "id": "VCs9pD8wCzij"
      }
    },
    {
      "cell_type": "code",
      "source": [
        "from sklearn.metrics import mean_squared_error, r2_score\n",
        "from sklearn.model_selection import train_test_split\n",
        "\n",
        "X_train, X_test, y_train, y_test = train_test_split(\n",
        "    X, y, test_size=0.2, random_state=42\n",
        ")\n",
        "\n",
        "# Step 8: Train Model\n",
        "ridge_pipeline.fit(X_train, y_train)\n",
        "\n",
        "# Step 9: Predict\n",
        "y_pred = ridge_pipeline.predict(X_test)\n",
        "\n",
        "# Step 10: Evaluate\n",
        "mse = mean_squared_error(y_test, y_pred)\n",
        "r2 = r2_score(y_test, y_pred)\n",
        "\n",
        "print(\"MSE:\", mse)\n",
        "print(\"R² Score:\", r2)"
      ],
      "metadata": {
        "colab": {
          "base_uri": "https://localhost:8080/"
        },
        "id": "fUwikH09C8i8",
        "outputId": "028e9e22-6e0b-4ce8-82ee-114274a86ee4"
      },
      "execution_count": 9,
      "outputs": [
        {
          "output_type": "stream",
          "name": "stdout",
          "text": [
            "MSE: 3.4734479840784047\n",
            "R² Score: 0.8492138117433523\n"
          ]
        }
      ]
    },
    {
      "cell_type": "markdown",
      "source": [
        "## **Ridge Coefficients**"
      ],
      "metadata": {
        "id": "oKT2ZAwuJC6v"
      }
    },
    {
      "cell_type": "code",
      "source": [
        "# Get feature names after encoding\n",
        "feature_names = (\n",
        "    numerical_cols +\n",
        "    list(preprocessor.named_transformers_['cat'].get_feature_names_out(categorical_cols))\n",
        ")\n",
        "\n",
        "# Extract the ridge model from the pipeline\n",
        "ridge_model = ridge_pipeline.named_steps['ridge']\n",
        "\n",
        "# Get coefficients and pair with feature names\n",
        "ridge_coefficients = pd.Series(ridge_model.coef_, index=feature_names)\n",
        "\n",
        "# Display all\n",
        "print(\"📊 Ridge Coefficients (alpha = 1.0):\\n\")\n",
        "print(ridge_coefficients)\n",
        "\n",
        "# Or just print top 5 biggest (positive or negative) contributors\n",
        "print(\"\\n Top Features by Absolute Impact:\\n\")\n",
        "print(ridge_coefficients.abs().sort_values(ascending=False).head(5))"
      ],
      "metadata": {
        "colab": {
          "base_uri": "https://localhost:8080/"
        },
        "id": "S5JXFKOIFu98",
        "outputId": "0c227a2b-7f52-4411-d06b-e0e49c862647"
      },
      "execution_count": 12,
      "outputs": [
        {
          "output_type": "stream",
          "name": "stdout",
          "text": [
            "📊 Ridge Coefficients (alpha = 1.0):\n",
            "\n",
            "Present_Price             3.850501\n",
            "Kms_Driven               -0.250466\n",
            "Owner                    -0.241936\n",
            "Car_Age                  -1.020718\n",
            "Fuel_Type_Diesel          1.694565\n",
            "Fuel_Type_Petrol         -0.075385\n",
            "Seller_Type_Individual   -1.166697\n",
            "Transmission_Manual      -1.588435\n",
            "dtype: float64\n",
            "\n",
            " Top Features by Absolute Impact:\n",
            "\n",
            "Present_Price             3.850501\n",
            "Fuel_Type_Diesel          1.694565\n",
            "Transmission_Manual       1.588435\n",
            "Seller_Type_Individual    1.166697\n",
            "Car_Age                   1.020718\n",
            "dtype: float64\n"
          ]
        }
      ]
    },
    {
      "cell_type": "markdown",
      "source": [
        "# **Step 6: RidgeCV model with cross-validation**"
      ],
      "metadata": {
        "id": "f8oUyi8ZDxCo"
      }
    },
    {
      "cell_type": "code",
      "source": [
        "from sklearn.linear_model import RidgeCV\n",
        "from sklearn.pipeline import Pipeline\n",
        "from sklearn.compose import ColumnTransformer\n",
        "from sklearn.preprocessing import StandardScaler, OneHotEncoder\n",
        "from sklearn.model_selection import train_test_split\n",
        "from sklearn.metrics import mean_squared_error, r2_score\n",
        "import pandas as pd\n",
        "\n",
        "# Step 1: Prepare Data (same as before)\n",
        "df = pd.read_csv(\"/content/car data.csv\")  # Adjust path if needed\n",
        "df['Car_Age'] = 2024 - df['Year']\n",
        "df.drop(['Car_Name', 'Year'], axis=1, inplace=True)\n",
        "\n",
        "X = df.drop('Selling_Price', axis=1)\n",
        "y = df['Selling_Price']\n",
        "\n",
        "# Step 2: Column groups\n",
        "categorical_cols = ['Fuel_Type', 'Seller_Type', 'Transmission']\n",
        "numerical_cols = ['Present_Price', 'Kms_Driven', 'Owner', 'Car_Age']\n",
        "\n",
        "# Step 3: Preprocessor\n",
        "preprocessor = ColumnTransformer([\n",
        "    ('num', StandardScaler(), numerical_cols),\n",
        "    ('cat', OneHotEncoder(drop='first'), categorical_cols)\n",
        "])\n",
        "\n",
        "# Step 4: RidgeCV model with cross-validation\n",
        "ridge_cv_model = RidgeCV(alphas=[0.001, 0.01, 0.1, 1.0, 5.0, 10.0], cv=5)\n",
        "\n",
        "# Step 5: Full pipeline\n",
        "ridge_cv_pipeline = Pipeline([\n",
        "    ('preprocessing', preprocessor),\n",
        "    ('ridge', ridge_cv_model)\n",
        "])\n",
        "\n",
        "# Step 6: Train/test split\n",
        "X_train, X_test, y_train, y_test = train_test_split(X, y, test_size=0.2, random_state=42)\n",
        "\n",
        "# Step 7: Fit model\n",
        "ridge_cv_pipeline.fit(X_train, y_train)\n",
        "\n",
        "# Step 8: Predict & Evaluate\n",
        "y_pred = ridge_cv_pipeline.predict(X_test)\n",
        "mse = mean_squared_error(y_test, y_pred)\n",
        "r2 = r2_score(y_test, y_pred)\n",
        "best_alpha = ridge_cv_model.alpha_\n",
        "\n",
        "print(\"✅ Best alpha from RidgeCV:\", best_alpha)\n",
        "print(\"📉 Mean Squared Error:\", mse)\n",
        "print(\"📈 R² Score:\", r2)\n"
      ],
      "metadata": {
        "colab": {
          "base_uri": "https://localhost:8080/"
        },
        "id": "CFrKr2u7JqRa",
        "outputId": "e6c56b94-78ce-4e08-9148-ef48e0252175"
      },
      "execution_count": 13,
      "outputs": [
        {
          "output_type": "stream",
          "name": "stdout",
          "text": [
            "✅ Best alpha from RidgeCV: 10.0\n",
            "📉 Mean Squared Error: 3.540141871675224\n",
            "📈 R² Score: 0.8463185569023877\n"
          ]
        }
      ]
    },
    {
      "cell_type": "markdown",
      "source": [
        "## **Visualize Alpha vs. Cross-Validation Error**"
      ],
      "metadata": {
        "id": "GSX4ZkMgKXos"
      }
    },
    {
      "cell_type": "code",
      "source": [
        "import numpy as np\n",
        "import matplotlib.pyplot as plt\n",
        "\n",
        "# Try alpha values manually and record MSE\n",
        "alphas = [0.001, 0.01, 0.1, 1.0, 5.0, 10.0]\n",
        "mse_values = []\n",
        "\n",
        "for a in alphas:\n",
        "    model = Pipeline([\n",
        "        ('preprocessing', preprocessor),\n",
        "        ('ridge', Ridge(alpha=a))\n",
        "    ])\n",
        "    model.fit(X_train, y_train)\n",
        "    pred = model.predict(X_test)\n",
        "    mse_values.append(mean_squared_error(y_test, pred))\n",
        "\n",
        "# Plot\n",
        "plt.figure(figsize=(8,5))\n",
        "plt.plot(alphas, mse_values, marker='o')\n",
        "plt.axvline(best_alpha, color='red', linestyle='--', label=f'Best alpha = {best_alpha}')\n",
        "plt.title(\"Alpha vs Test MSE (Simulated for Ridge)\")\n",
        "plt.xlabel(\"Alpha\")\n",
        "plt.ylabel(\"Test Mean Squared Error\")\n",
        "plt.grid(True)\n",
        "plt.legend()\n",
        "plt.tight_layout()\n",
        "plt.show()\n"
      ],
      "metadata": {
        "colab": {
          "base_uri": "https://localhost:8080/",
          "height": 507
        },
        "id": "-EwIBmGyKcUb",
        "outputId": "d11be8c4-4297-41f2-ea3d-8b7bdd749193"
      },
      "execution_count": 14,
      "outputs": [
        {
          "output_type": "display_data",
          "data": {
            "text/plain": [
              "<Figure size 800x500 with 1 Axes>"
            ],
            "image/png": "[encoded data removed]"
          },
          "metadata": {}
        }
      ]
    },
    {
      "cell_type": "markdown",
      "source": [
        "\n",
        "## 📊 What the Graph Shows (Alpha vs. MSE):\n",
        "\n",
        "* The **lowest MSE** (better performance) is **around alpha = 1**\n",
        "* MSE **increases** as alpha grows beyond that — especially at `alpha = 10`\n",
        "* But RidgeCV still chose **alpha = 10**\n",
        "\n",
        "---\n",
        "\n",
        "## ⚠️ So Why This Confusion?\n",
        "\n",
        "Because:\n",
        "\n",
        "* **RidgeCV chooses alpha based on internal CV score**, not your test MSE\n",
        "* You manually plotted **test set error**, which gives a **more realistic evaluation**\n",
        "\n",
        "---\n",
        "\n",
        "## 🔍 Interpretation:\n",
        "\n",
        "| Alpha | MSE (from plot)        | RidgeCV's Preference |\n",
        "| ----- | ---------------------- | -------------------- |\n",
        "| 1.0   | **\\~3.475** ✅ (lowest) | Not chosen ❌         |\n",
        "| 10.0  | \\~3.54 ❌ (worse)       | ✅ Chosen             |\n",
        "\n",
        "### 🎯 Conclusion:\n",
        "\n",
        "> While **RidgeCV chose `alpha = 10`**, your **test MSE plot shows `alpha = 1` gives better real-world performance**.\n",
        "\n",
        "This means:\n",
        "\n",
        "* RidgeCV’s cross-validation may have **over-regularized**\n",
        "* You might be better off manually choosing **alpha = 1** (based on your actual test error and R²)\n",
        "\n",
        "---\n",
        "\n",
        "## 🧠 Final Suggestion\n",
        "\n",
        "> In production or reporting, use:\n",
        "\n",
        "```python\n",
        "Ridge(alpha=1.0)\n",
        "```\n",
        "\n",
        "✅ It gives you **lower test error**, better generalization — and that's what matters.\n",
        "\n",
        "Would you like to:\n",
        "\n",
        "* Save this manually-tuned Ridge model now?\n",
        "* Update your README to reflect this choice?\n"
      ],
      "metadata": {
        "id": "zkl6cmunLbN9"
      }
    },
    {
      "cell_type": "markdown",
      "source": [
        "# ** Step 7 - Save RidgeCV Model Pipeline**"
      ],
      "metadata": {
        "id": "A98HnrA4KRS4"
      }
    },
    {
      "cell_type": "code",
      "source": [
        "import joblib\n",
        "joblib.dump(ridge_cv_pipeline, \"RidgeReg_CarResalePrice_pipeline.pkl\")\n",
        "print(\"✅ RidgeCV model pipeline saved as 'RidgeReg_CarResalePrice_pipeline.pkl'\")\n"
      ],
      "metadata": {
        "colab": {
          "base_uri": "https://localhost:8080/"
        },
        "id": "x_2QCmkgKVG7",
        "outputId": "98241ef0-e817-4aa5-fe1a-cd78353fa805"
      },
      "execution_count": 16,
      "outputs": [
        {
          "output_type": "stream",
          "name": "stdout",
          "text": [
            "✅ RidgeCV model pipeline saved as 'RidgeReg_CarResalePrice_pipeline.pkl'\n"
          ]
        }
      ]
    }
  ]
}