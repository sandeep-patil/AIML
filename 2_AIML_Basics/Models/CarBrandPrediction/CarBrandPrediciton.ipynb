{
 "cells": [
  {
   "cell_type": "markdown",
   "id": "7fa36e87-a17b-4575-b319-0a1d36311b5d",
   "metadata": {},
   "source": [
    "## **Model Summery**\n",
    "For this project, we'll use the Car Brand Classification Dataset from Kaggle, which contains images of various car brands suitable for training a deep learning model. You can download the dataset here: https://www.kaggle.com/datasets/ahmedelsany/car-brand-classification-dataset?utm_source=chatgpt.com"
   ]
  },
  {
   "cell_type": "code",
   "execution_count": null,
   "id": "cd4949fd-6857-40f3-82f2-3e06cdbafc49",
   "metadata": {},
   "outputs": [],
   "source": []
  }
 ],
 "metadata": {
  "kernelspec": {
   "display_name": "Python 3 (ipykernel)",
   "language": "python",
   "name": "python3"
  },
  "language_info": {
   "codemirror_mode": {
    "name": "ipython",
    "version": 3
   },
   "file_extension": ".py",
   "mimetype": "text/x-python",
   "name": "python",
   "nbconvert_exporter": "python",
   "pygments_lexer": "ipython3",
   "version": "3.12.8"
  }
 },
 "nbformat": 4,
 "nbformat_minor": 5
}
