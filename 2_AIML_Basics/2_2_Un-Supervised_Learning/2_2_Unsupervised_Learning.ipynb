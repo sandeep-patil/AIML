{
  "nbformat": 4,
  "nbformat_minor": 0,
  "metadata": {
    "colab": {
      "provenance": []
    },
    "kernelspec": {
      "name": "python3",
      "display_name": "Python 3"
    },
    "language_info": {
      "name": "python"
    }
  },
  "cells": [
    {
      "cell_type": "markdown",
      "source": [
        "# **Unsupervised Learning**\n",
        "\n",
        "Unsupervised learning is a type of machine learning where the model is not provided with labeled data.\n",
        "This means the algorithm tries to find patterns, structures, or groupings in the data on its own.\n",
        "\n",
        "It’s like giving a child a bunch of puzzle pieces without showing the final picture — the child learns how pieces fit together by trying different combinations."
      ],
      "metadata": {
        "id": "E7Bf9KrJHEfT"
      }
    },
    {
      "cell_type": "markdown",
      "source": [
        "In unsupervised learning, the algorithm works on unlabeled data and tries to:\n",
        "\n",
        "* Discover hidden patterns\n",
        "\n",
        "* Group similar data points\n",
        "\n",
        "* Reduce Data Dimensionality"
      ],
      "metadata": {
        "id": "HwgClygjHHOc"
      }
    },
    {
      "cell_type": "markdown",
      "source": [
        "| Type             | Supervised Learning         | Unsupervised Learning          |\n",
        "| ---------------- | --------------------------- | ------------------------------ |\n",
        "| **Input Data**   | Features **+ Labels**       | **Only Features**              |\n",
        "| **Goal**         | Predict labels or values    | Discover patterns or structure |\n",
        "| **Example Task** | Predict if an email is spam | Group similar emails together  |\n"
      ],
      "metadata": {
        "id": "qER1N5LuIXWM"
      }
    },
    {
      "cell_type": "markdown",
      "source": [
        "## **Common Unsupervised Learning Tasks**\n",
        "\n",
        "| Task                         | What it does                         | Real-world Example                   |\n",
        "| ---------------------------- | ------------------------------------ | ------------------------------------ |\n",
        "| **Clustering**               | Group similar items/data points      | Customer segmentation in marketing   |\n",
        "| **Dimensionality Reduction** | Reduce number of input variables     | Visualizing high-dimensional data    |\n",
        "| **Anomaly Detection**        | Find unusual/outlier data points     | Fraud detection in banking           |\n",
        "| **Association Rules**        | Discover relationships between items | Market Basket Analysis (e.g. Amazon) |\n"
      ],
      "metadata": {
        "id": "U5LgB05TIdpX"
      }
    },
    {
      "cell_type": "markdown",
      "source": [
        "## **Automotive Applications of Unsupervised Learning**\n",
        "\n",
        "\n",
        "| Technique                | Automotive Use Case                                 |\n",
        "| ------------------------ | --------------------------------------------------- |\n",
        "| Clustering               | Group similar driving behaviors or sensor patterns  |\n",
        "| Anomaly Detection        | Detect unusual driving events or component failures |\n",
        "| Dimensionality Reduction | Visualize sensor fusion data (e.g., LiDAR + camera) |\n"
      ],
      "metadata": {
        "id": "eqGq-OYAHWal"
      }
    },
    {
      "cell_type": "markdown",
      "source": [
        "## **Key Algorithms**\n",
        "\n",
        "| Algorithm                              | Category                 | Brief Description                            |\n",
        "| -------------------------------------- | ------------------------ | -------------------------------------------- |\n",
        "| **K-Means**                            | Clustering               | Divides data into K clusters                 |\n",
        "| **Hierarchical Clustering**            | Clustering               | Creates a tree of clusters                   |\n",
        "| **DBSCAN**                             | Clustering               | Finds clusters of varying density            |\n",
        "| **PCA (Principal Component Analysis)** | Dimensionality Reduction | Projects data to lower dimensions            |\n",
        "| **t-SNE / UMAP**                       | Visualization            | Useful for visualizing high-dimensional data |\n"
      ],
      "metadata": {
        "id": "StN5GHPIInSR"
      }
    }
  ]
}