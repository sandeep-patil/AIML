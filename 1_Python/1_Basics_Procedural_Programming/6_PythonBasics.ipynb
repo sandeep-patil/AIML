{
  "nbformat": 4,
  "nbformat_minor": 0,
  "metadata": {
    "colab": {
      "provenance": []
    },
    "kernelspec": {
      "name": "python3",
      "display_name": "Python 3"
    },
    "language_info": {
      "name": "python"
    }
  },
  "cells": [
    {
      "cell_type": "markdown",
      "source": [
        "# **Pattern Matching**"
      ],
      "metadata": {
        "id": "_dA8TK_LQ0Sg"
      }
    },
    {
      "cell_type": "code",
      "execution_count": null,
      "metadata": {
        "id": "YEDc4cDmQvt-"
      },
      "outputs": [],
      "source": []
    }
  ]
}