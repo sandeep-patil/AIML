{
  "nbformat": 4,
  "nbformat_minor": 0,
  "metadata": {
    "colab": {
      "provenance": [],
      "collapsed_sections": [
        "ioXQgB_oF4sf",
        "7RaQ5k8QnlEn",
        "nSzqFFivGCqo",
        "PjoOZhN3GMN1",
        "BsRLW7OHQzZU"
      ]
    },
    "kernelspec": {
      "name": "python3",
      "display_name": "Python 3"
    },
    "language_info": {
      "name": "python"
    }
  },
  "cells": [
    {
      "cell_type": "markdown",
      "source": [
        "# **Compiled Vs Interpretted**"
      ],
      "metadata": {
        "id": "ioXQgB_oF4sf"
      }
    },
    {
      "cell_type": "markdown",
      "source": [
        "\n",
        "\n",
        "**Compiled** :\n",
        "* Preprocess the instructions and create an executable which is ready to execute.\n",
        "\n",
        "* Faster. Important when speed of execution is critical\n",
        "\n",
        "* Compilation step is platform dependent\n",
        "\n",
        "\n",
        "**Interpretted**:\n",
        "\n",
        "* Processes instructions line by line during execution. Don't have build step.\n",
        "\n",
        "* NO PLATORM specific preprocessing.\n",
        "\n",
        "\n",
        "-----------------------------------------\n",
        "\n",
        "\n",
        "Python is using Hybrid Approach.\n",
        "\n",
        "**Step 1** : High level instructions(*.py) -> Byte-code equivalent(*.pyc)\n",
        "* Platform independent\n",
        "\n",
        "**Step -2** : Byte-code Instruction -> Python Virtual Machine(PVM)->Interpret and execute\n",
        "\n",
        "\n",
        "-------------------------------------------\n",
        "\n",
        "Code blocks segragated using White space.\n",
        "\n"
      ],
      "metadata": {
        "id": "QWcDbc3Fjqd5"
      }
    },
    {
      "cell_type": "markdown",
      "source": [
        "# **Storage and Access**\n",
        "\n"
      ],
      "metadata": {
        "id": "7RaQ5k8QnlEn"
      }
    },
    {
      "cell_type": "markdown",
      "source": [
        "* Python data is represented by **Objects**\n",
        "* Every python Object has 3 things associated with it :\n",
        "\n",
        "      1.  Value\n",
        "      2.  Type\n",
        "      3.  ID\n",
        "\n",
        "\n",
        "* Python doen't store pointers. So we cannot use any memory address to access some value.\n",
        "\n",
        "* Python object is stored in **Heap**\n",
        "\n",
        "* Based on where object is stored on heap, its ID value is determined and its associated with that oject throughout life time.\n",
        "\n",
        "\n"
      ],
      "metadata": {
        "id": "C0JQcKWCp2Id"
      }
    },
    {
      "cell_type": "code",
      "execution_count": 1,
      "metadata": {
        "colab": {
          "base_uri": "https://localhost:8080/"
        },
        "id": "FmKEx9dLjiyY",
        "outputId": "c743bf23-ccad-4f36-9324-b0bf2e18cc47"
      },
      "outputs": [
        {
          "output_type": "stream",
          "name": "stdout",
          "text": [
            "100 100.5 100\n",
            "10760904 133261791118768 10760904\n",
            "<class 'int'> <class 'float'> <class 'int'>\n"
          ]
        }
      ],
      "source": [
        "x = 100\n",
        "y = 100.5\n",
        "z = 100\n",
        "print(x,y,z)\n",
        "print(id(x),id(y),id(z))\n",
        "print(type(x),type(y),type(z))\n"
      ]
    },
    {
      "cell_type": "markdown",
      "source": [
        "* Above code shows x and z objects are associated with same ID.\n",
        "\n",
        "* When we say x=100, 100 is an object and x is label pointing to 100\n",
        "\n",
        "   So when we say y=100, there is another label created that points to 100.\n",
        "\n",
        "* IF we perfrom, x=1,y=1,z=1, then noone is pointing to 100 so object 100 will be deleted from heap."
      ],
      "metadata": {
        "id": "VyXtejf8r8ic"
      }
    },
    {
      "cell_type": "code",
      "source": [
        "x = 100\n",
        "y = x\n",
        "print(x,y)\n",
        "x = 5\n",
        "print(x,y)\n",
        "\n",
        "a = [1, 2, 3, 4]\n",
        "b = a\n",
        "print(a,b)\n",
        "\n",
        "a[0] = 100\n",
        "print(a,b)\n"
      ],
      "metadata": {
        "colab": {
          "base_uri": "https://localhost:8080/"
        },
        "id": "0b5vWBGttXDY",
        "outputId": "9a925992-f29f-449e-de53-c175211c255f"
      },
      "execution_count": 2,
      "outputs": [
        {
          "output_type": "stream",
          "name": "stdout",
          "text": [
            "100 100\n",
            "5 100\n",
            "[1, 2, 3, 4] [1, 2, 3, 4]\n",
            "[100, 2, 3, 4] [100, 2, 3, 4]\n"
          ]
        }
      ]
    },
    {
      "cell_type": "markdown",
      "source": [
        "In above example, as list is a mutable object, if we change after its creation, change happens at same place. But values(x,y) are not mutable. So when we change x, it startes refereing to another object.\n"
      ],
      "metadata": {
        "id": "3YFHHYTHx1r3"
      }
    },
    {
      "cell_type": "markdown",
      "source": [
        "## List of common **built-in object types** in Python\n",
        "\n",
        "int  \n",
        "float  \n",
        "complex  \n",
        "bool  \n",
        "str  \n",
        "list  \n",
        "tuple  \n",
        "set  \n",
        "frozenset  \n",
        "dict  \n",
        "bytes  \n",
        "bytearray  \n",
        "memoryview  \n",
        "range  \n",
        "NoneType  \n",
        "EllipsisType  \n",
        "NotImplementedType  \n",
        "function  \n",
        "lambda  \n",
        "generator  \n",
        "coroutine  \n",
        "async_generator  \n",
        "module  \n",
        "class  \n",
        "classmethod  \n",
        "staticmethod  \n",
        "property  \n",
        "object  \n",
        "type  \n",
        "slice  \n",
        "map  \n",
        "filter  \n",
        "zip  \n",
        "enumerate  \n",
        "reversed  \n",
        "super  \n",
        "Exception  \n",
        "BaseException  \n",
        "file (via open)  "
      ],
      "metadata": {
        "id": "EzfKajP1FCTM"
      }
    },
    {
      "cell_type": "markdown",
      "source": [
        "# **Mutability**"
      ],
      "metadata": {
        "id": "nSzqFFivGCqo"
      }
    },
    {
      "cell_type": "markdown",
      "source": [
        "Object is said to be mutable, if it can be changed post its creation.\n",
        "\n",
        "\n",
        "**List of Mutable Objects:**\n",
        "\n",
        "list  \n",
        "dict  \n",
        "set  \n",
        "bytearray\n"
      ],
      "metadata": {
        "id": "3hQa_MoDFBFI"
      }
    },
    {
      "cell_type": "code",
      "source": [
        "print(a[1])\n",
        "print(id(a))\n",
        "print(id(a[1]))\n",
        "a[1] = 200\n",
        "\n",
        "print(a[1])\n",
        "print(id(a))\n",
        "print(id(a[1]))"
      ],
      "metadata": {
        "colab": {
          "base_uri": "https://localhost:8080/"
        },
        "id": "71SB4PxdWho4",
        "outputId": "dd6877df-7214-48fa-e3a9-94f0fff88862"
      },
      "execution_count": 3,
      "outputs": [
        {
          "output_type": "stream",
          "name": "stdout",
          "text": [
            "2\n",
            "133261796176256\n",
            "10757768\n",
            "200\n",
            "133261796176256\n",
            "10764104\n"
          ]
        }
      ]
    },
    {
      "cell_type": "markdown",
      "source": [
        "* As per above example, ID of list remains same, even after change of values in list.\n",
        "\n",
        "* ID of list elements changes with value change\n"
      ],
      "metadata": {
        "id": "zOXiD_LiW8XL"
      }
    },
    {
      "cell_type": "code",
      "source": [
        "#Number of Labels present for Value 1\n",
        "import sys\n",
        "print(sys.getrefcount(1))"
      ],
      "metadata": {
        "colab": {
          "base_uri": "https://localhost:8080/"
        },
        "id": "izIzqfxOXf0T",
        "outputId": "57a2cc8f-e561-4fa7-bc6d-3da27c565443"
      },
      "execution_count": 6,
      "outputs": [
        {
          "output_type": "stream",
          "name": "stdout",
          "text": [
            "1000006290\n"
          ]
        }
      ]
    },
    {
      "cell_type": "markdown",
      "source": [
        "* There are 1000006290 references to Object \"1\""
      ],
      "metadata": {
        "id": "1lkrKMi-X22a"
      }
    },
    {
      "cell_type": "markdown",
      "source": [
        "## List of Immutable Objects:\n",
        "int  \n",
        "float  \n",
        "complex  \n",
        "bool  \n",
        "str  \n",
        "tuple  \n",
        "frozenset  \n",
        "bytes  \n",
        "range  \n",
        "NoneType  \n"
      ],
      "metadata": {
        "id": "9Zfd5iqVFvX4"
      }
    },
    {
      "cell_type": "markdown",
      "source": [
        "# **Identifiers**"
      ],
      "metadata": {
        "id": "PjoOZhN3GMN1"
      }
    },
    {
      "cell_type": "markdown",
      "source": [
        "\n",
        "\n",
        "* Same as C - Start with alphabet,digits allowed afterwards\n"
      ],
      "metadata": {
        "id": "QdF4scCxY6Qq"
      }
    },
    {
      "cell_type": "code",
      "source": [
        "help(\"keywords\")\n",
        "help(\"and\")\n",
        "#1.11.35"
      ],
      "metadata": {
        "colab": {
          "base_uri": "https://localhost:8080/"
        },
        "id": "VTu_pcpvZTLj",
        "outputId": "ffc475ca-a454-4c11-c6b8-2fcbad55701e"
      },
      "execution_count": 8,
      "outputs": [
        {
          "output_type": "stream",
          "name": "stdout",
          "text": [
            "\n",
            "Here is a list of the Python keywords.  Enter any keyword to get more help.\n",
            "\n",
            "False               class               from                or\n",
            "None                continue            global              pass\n",
            "True                def                 if                  raise\n",
            "and                 del                 import              return\n",
            "as                  elif                in                  try\n",
            "assert              else                is                  while\n",
            "async               except              lambda              with\n",
            "await               finally             nonlocal            yield\n",
            "break               for                 not                 \n",
            "\n",
            "Boolean operations\n",
            "******************\n",
            "\n",
            "   or_test  ::= and_test | or_test \"or\" and_test\n",
            "   and_test ::= not_test | and_test \"and\" not_test\n",
            "   not_test ::= comparison | \"not\" not_test\n",
            "\n",
            "In the context of Boolean operations, and also when expressions are\n",
            "used by control flow statements, the following values are interpreted\n",
            "as false: \"False\", \"None\", numeric zero of all types, and empty\n",
            "strings and containers (including strings, tuples, lists,\n",
            "dictionaries, sets and frozensets).  All other values are interpreted\n",
            "as true.  User-defined objects can customize their truth value by\n",
            "providing a \"__bool__()\" method.\n",
            "\n",
            "The operator \"not\" yields \"True\" if its argument is false, \"False\"\n",
            "otherwise.\n",
            "\n",
            "The expression \"x and y\" first evaluates *x*; if *x* is false, its\n",
            "value is returned; otherwise, *y* is evaluated and the resulting value\n",
            "is returned.\n",
            "\n",
            "The expression \"x or y\" first evaluates *x*; if *x* is true, its value\n",
            "is returned; otherwise, *y* is evaluated and the resulting value is\n",
            "returned.\n",
            "\n",
            "Note that neither \"and\" nor \"or\" restrict the value and type they\n",
            "return to \"False\" and \"True\", but rather return the last evaluated\n",
            "argument.  This is sometimes useful, e.g., if \"s\" is a string that\n",
            "should be replaced by a default value if it is empty, the expression\n",
            "\"s or 'foo'\" yields the desired value.  Because \"not\" has to create a\n",
            "new value, it returns a boolean value regardless of the type of its\n",
            "argument (for example, \"not 'foo'\" produces \"False\" rather than \"''\".)\n",
            "\n",
            "Related help topics: EXPRESSIONS, TRUTHVALUE\n",
            "\n"
          ]
        }
      ]
    },
    {
      "cell_type": "markdown",
      "source": [
        "# **Modes of operation : Interactive and Script**"
      ],
      "metadata": {
        "id": "BsRLW7OHQzZU"
      }
    },
    {
      "cell_type": "code",
      "source": [
        "x = \"python\"\n",
        "dir(x)"
      ],
      "metadata": {
        "colab": {
          "base_uri": "https://localhost:8080/"
        },
        "id": "SH_caUbhRyX4",
        "outputId": "6ff7fe9a-ab63-4c9b-caf6-678cee8de212"
      },
      "execution_count": 9,
      "outputs": [
        {
          "output_type": "execute_result",
          "data": {
            "text/plain": [
              "['__add__',\n",
              " '__class__',\n",
              " '__contains__',\n",
              " '__delattr__',\n",
              " '__dir__',\n",
              " '__doc__',\n",
              " '__eq__',\n",
              " '__format__',\n",
              " '__ge__',\n",
              " '__getattribute__',\n",
              " '__getitem__',\n",
              " '__getnewargs__',\n",
              " '__getstate__',\n",
              " '__gt__',\n",
              " '__hash__',\n",
              " '__init__',\n",
              " '__init_subclass__',\n",
              " '__iter__',\n",
              " '__le__',\n",
              " '__len__',\n",
              " '__lt__',\n",
              " '__mod__',\n",
              " '__mul__',\n",
              " '__ne__',\n",
              " '__new__',\n",
              " '__reduce__',\n",
              " '__reduce_ex__',\n",
              " '__repr__',\n",
              " '__rmod__',\n",
              " '__rmul__',\n",
              " '__setattr__',\n",
              " '__sizeof__',\n",
              " '__str__',\n",
              " '__subclasshook__',\n",
              " 'capitalize',\n",
              " 'casefold',\n",
              " 'center',\n",
              " 'count',\n",
              " 'encode',\n",
              " 'endswith',\n",
              " 'expandtabs',\n",
              " 'find',\n",
              " 'format',\n",
              " 'format_map',\n",
              " 'index',\n",
              " 'isalnum',\n",
              " 'isalpha',\n",
              " 'isascii',\n",
              " 'isdecimal',\n",
              " 'isdigit',\n",
              " 'isidentifier',\n",
              " 'islower',\n",
              " 'isnumeric',\n",
              " 'isprintable',\n",
              " 'isspace',\n",
              " 'istitle',\n",
              " 'isupper',\n",
              " 'join',\n",
              " 'ljust',\n",
              " 'lower',\n",
              " 'lstrip',\n",
              " 'maketrans',\n",
              " 'partition',\n",
              " 'removeprefix',\n",
              " 'removesuffix',\n",
              " 'replace',\n",
              " 'rfind',\n",
              " 'rindex',\n",
              " 'rjust',\n",
              " 'rpartition',\n",
              " 'rsplit',\n",
              " 'rstrip',\n",
              " 'split',\n",
              " 'splitlines',\n",
              " 'startswith',\n",
              " 'strip',\n",
              " 'swapcase',\n",
              " 'title',\n",
              " 'translate',\n",
              " 'upper',\n",
              " 'zfill']"
            ]
          },
          "metadata": {},
          "execution_count": 9
        }
      ]
    },
    {
      "cell_type": "code",
      "source": [
        "print(x)\n",
        "x.upper()\n"
      ],
      "metadata": {
        "id": "ukylHD7KR5Ua",
        "colab": {
          "base_uri": "https://localhost:8080/",
          "height": 53
        },
        "outputId": "27cf0534-80ea-4bac-db9f-70a4d1c009ab"
      },
      "execution_count": 10,
      "outputs": [
        {
          "output_type": "stream",
          "name": "stdout",
          "text": [
            "python\n"
          ]
        },
        {
          "output_type": "execute_result",
          "data": {
            "text/plain": [
              "'PYTHON'"
            ],
            "application/vnd.google.colaboratory.intrinsic+json": {
              "type": "string"
            }
          },
          "metadata": {},
          "execution_count": 10
        }
      ]
    },
    {
      "cell_type": "code",
      "source": [
        "\n",
        "x = []\n",
        "bool(x)"
      ],
      "metadata": {
        "id": "1VI9u8C9T61j",
        "colab": {
          "base_uri": "https://localhost:8080/"
        },
        "outputId": "b7463d1d-c19c-4b33-e923-0354472a1357"
      },
      "execution_count": 11,
      "outputs": [
        {
          "output_type": "execute_result",
          "data": {
            "text/plain": [
              "False"
            ]
          },
          "metadata": {},
          "execution_count": 11
        }
      ]
    },
    {
      "cell_type": "code",
      "source": [
        "#Multi-line string\n",
        "x = \"\"\" .py file (your code) → compiled into bytecode (.pyc)\n",
        "*Platform independent\n",
        "*This happens automatically during import or first run\n",
        "\n",
        "Bytecode is sent to PVM (Python Virtual Machine)\n",
        "*PVM interprets and runs line-by-line\n",
        "*PVM itself is platform-dependent\n",
        "\"\"\"\n",
        "print(x)"
      ],
      "metadata": {
        "colab": {
          "base_uri": "https://localhost:8080/"
        },
        "id": "YG-2zEeBV34a",
        "outputId": "a3a8cca7-035c-4e2c-d58e-82bee2c08df6"
      },
      "execution_count": 14,
      "outputs": [
        {
          "output_type": "stream",
          "name": "stdout",
          "text": [
            " .py file (your code) → compiled into bytecode (.pyc)\n",
            "*Platform independent\n",
            "*This happens automatically during import or first run\n",
            "\n",
            "Bytecode is sent to PVM (Python Virtual Machine)\n",
            "*PVM interprets and runs line-by-line\n",
            "*PVM itself is platform-dependent\n",
            "\n"
          ]
        }
      ]
    },
    {
      "cell_type": "markdown",
      "source": [
        "# **String Operations**"
      ],
      "metadata": {
        "id": "kJTU_C8fGYar"
      }
    },
    {
      "cell_type": "markdown",
      "source": [
        "\n",
        "String is :\n",
        " Immutable\n",
        " Iterable\n"
      ],
      "metadata": {
        "id": "X8JaOuMHW8vp"
      }
    },
    {
      "cell_type": "code",
      "source": [
        "s = \"Wipro Technologies\"\n",
        "print(s[3])\n",
        "print(s[-1])\n",
        "print(s[-3])\n",
        "print(s[0])\n",
        "print(s[1])\n",
        "print(s[-1])\n",
        "print(len(s))"
      ],
      "metadata": {
        "colab": {
          "base_uri": "https://localhost:8080/"
        },
        "id": "0deNPsCxW4xo",
        "outputId": "c3ffef9e-f874-4ac4-b348-2c892e7acbd0"
      },
      "execution_count": 16,
      "outputs": [
        {
          "output_type": "stream",
          "name": "stdout",
          "text": [
            "r\n",
            "s\n",
            "i\n",
            "W\n",
            "i\n",
            "s\n",
            "18\n"
          ]
        }
      ]
    },
    {
      "cell_type": "code",
      "source": [
        "#slicing\n",
        "#[start,end,step]\n",
        "print(s[::1])\n",
        "print(s[6:9:1]) #9 is upto and non-inclusive\n",
        "print(s[::-1]) # Most impotant : Reerse a string\n"
      ],
      "metadata": {
        "colab": {
          "base_uri": "https://localhost:8080/"
        },
        "id": "KgxEpInKX3Gm",
        "outputId": "6253e9bc-aa8e-4cc7-9f5f-22a3ce0a8211"
      },
      "execution_count": 17,
      "outputs": [
        {
          "output_type": "stream",
          "name": "stdout",
          "text": [
            "Wipro Technologies\n",
            "Tec\n",
            "seigolonhceT orpiW\n"
          ]
        }
      ]
    },
    {
      "cell_type": "markdown",
      "source": [
        "---\n",
        "\n",
        "### 🔤 **Basic String Operations**\n",
        "\n",
        "| Operation           | Description        | Example                                |\n",
        "| ------------------- | ------------------ | -------------------------------------- |\n",
        "| `+` (concatenation) | Joins two strings  | `\"Hello\" + \" World\"` → `'Hello World'` |\n",
        "| `*` (repetition)    | Repeats string     | `\"Hi\" * 3` → `'HiHiHi'`                |\n",
        "| `in`                | Checks substring   | `'lo' in 'Hello'` → `True`             |\n",
        "| `len()`             | Gets length        | `len(\"Python\")` → `6`                  |\n",
        "| `str()`             | Converts to string | `str(123)` → `'123'`                   |\n",
        "\n",
        "---\n",
        "\n",
        "### ✂️ **String Slicing & Indexing**\n",
        "\n",
        "| Operation  | Description                 | Example                   |\n",
        "| ---------- | --------------------------- | ------------------------- |\n",
        "| `s[i]`     | Character at index `i`      | `\"abc\"[1]` → `'b'`        |\n",
        "| `s[i:j]`   | Substring from `i` to `j-1` | `\"python\"[1:4]` → `'yth'` |\n",
        "| `s[i:j:k]` | Slicing with step `k`       | `\"abcdef\"[::2]` → `'ace'` |\n",
        "\n",
        "---\n",
        "\n",
        "### 🧼 **String Methods**\n",
        "\n",
        "| Method               | Description                       | Example                                   |\n",
        "| -------------------- | --------------------------------- | ----------------------------------------- |\n",
        "| `.lower()`           | Lowercase                         | `'Hello'.lower()` → `'hello'`             |\n",
        "| `.upper()`           | Uppercase                         | `'hello'.upper()` → `'HELLO'`             |\n",
        "| `.capitalize()`      | First letter uppercase            | `'python'.capitalize()` → `'Python'`      |\n",
        "| `.title()`           | Each word capitalized             | `'hello world'.title()` → `'Hello World'` |\n",
        "| `.strip()`           | Remove surrounding spaces         | `' hello '.strip()` → `'hello'`           |\n",
        "| `.replace(old, new)` | Replace substring                 | `'apple'.replace('p', 'b')` → `'abble'`   |\n",
        "| `.split(sep)`        | Split into list                   | `'a,b,c'.split(',')` → `['a', 'b', 'c']`  |\n",
        "| `.join(iterable)`    | Join elements with separator      | `'--'.join(['a', 'b'])` → `'a--b'`        |\n",
        "| `.find(sub)`         | Index of first occurrence         | `'banana'.find('na')` → `2`               |\n",
        "| `.count(sub)`        | Count occurrences                 | `'banana'.count('a')` → `3`               |\n",
        "| `.startswith(sub)`   | Checks start                      | `'Python'.startswith('Py')` → `True`      |\n",
        "| `.endswith(sub)`     | Checks end                        | `'script.py'.endswith('.py')` → `True`    |\n",
        "| `.isdigit()`         | Checks if all chars are digits    | `'123'.isdigit()` → `True`                |\n",
        "| `.isalpha()`         | Checks if all chars are alphabets | `'abc'.isalpha()` → `True`                |\n",
        "\n",
        "---\n"
      ],
      "metadata": {
        "id": "yYt_6JW5ICwX"
      }
    },
    {
      "cell_type": "markdown",
      "source": [
        "\n",
        "---\n",
        "\n",
        "### 🔤 **Python String Operations – Cheat Sheet**\n",
        "\n",
        "| Operation / Method   | Description                             | Example                                   |\n",
        "| -------------------- | --------------------------------------- | ----------------------------------------- |\n",
        "| `+` (concatenation)  | Joins two strings                       | `\"Hello\" + \" World\"` → `\"Hello World\"`    |\n",
        "| `*` (repetition)     | Repeats the string                      | `\"Hi\" * 3` → `\"HiHiHi\"`                   |\n",
        "| `in` (membership)    | Checks if substring exists              | `'lo' in 'Hello'` → `True`                |\n",
        "| `len()`              | Gets length of string                   | `len('Python')` → `6`                     |\n",
        "| `str()`              | Converts to string                      | `str(123)` → `'123'`                      |\n",
        "| `s[i]`               | Character at index `i`                  | `'abc'[1]` → `'b'`                        |\n",
        "| `s[i:j]`             | Substring from i to j-1                 | `'python'[1:4]` → `'yth'`                 |\n",
        "| `s[i:j:k]`           | Substring with step `k`                 | `'abcdef'[::2]` → `'ace'`                 |\n",
        "| `.lower()`           | Converts to lowercase                   | `'Hello'.lower()` → `'hello'`             |\n",
        "| `.upper()`           | Converts to uppercase                   | `'hello'.upper()` → `'HELLO'`             |\n",
        "| `.capitalize()`      | Capitalizes first character             | `'python'.capitalize()` → `'Python'`      |\n",
        "| `.title()`           | Capitalizes each word                   | `'hello world'.title()` → `'Hello World'` |\n",
        "| `.strip()`           | Trims surrounding whitespace            | `' hello '.strip()` → `'hello'`           |\n",
        "| `.replace(old, new)` | Replaces substring                      | `'apple'.replace('p', 'b')` → `'abble'`   |\n",
        "| `.split(sep)`        | Splits string by separator              | `'a,b,c'.split(',')` → `['a', 'b', 'c']`  |\n",
        "| `.join(iterable)`    | Joins list into string                  | `'--'.join(['a', 'b'])` → `'a--b'`        |\n",
        "| `.find(sub)`         | Finds index of substring                | `'banana'.find('na')` → `2`               |\n",
        "| `.count(sub)`        | Counts substring occurrences            | `'banana'.count('a')` → `3`               |\n",
        "| `.startswith(sub)`   | Checks if string starts with substring  | `'Python'.startswith('Py')` → `True`      |\n",
        "| `.endswith(sub)`     | Checks if string ends with substring    | `'script.py'.endswith('.py')` → `True`    |\n",
        "| `.isdigit()`         | Checks if all characters are digits     | `'123'.isdigit()` → `True`                |\n",
        "| `.isalpha()`         | Checks if all characters are alphabetic | `'abc'.isalpha()` → `True`                |\n",
        "\n",
        "---\n",
        "\n",
        "\n"
      ],
      "metadata": {
        "id": "cEomXWsbIVN-"
      }
    },
    {
      "cell_type": "code",
      "source": [],
      "metadata": {
        "id": "s_h2Po3_JwCa"
      },
      "execution_count": null,
      "outputs": []
    },
    {
      "cell_type": "code",
      "source": [
        "str = \"python is a simple language.\"\n",
        "str.capitalize()"
      ],
      "metadata": {
        "colab": {
          "base_uri": "https://localhost:8080/",
          "height": 36
        },
        "id": "OmyVkMlUJeay",
        "outputId": "2f3effe8-a123-4a02-edf8-234fe48b6e63"
      },
      "execution_count": 18,
      "outputs": [
        {
          "output_type": "execute_result",
          "data": {
            "text/plain": [
              "'Python is a simple language.'"
            ],
            "application/vnd.google.colaboratory.intrinsic+json": {
              "type": "string"
            }
          },
          "metadata": {},
          "execution_count": 18
        }
      ]
    },
    {
      "cell_type": "code",
      "source": [
        "str.title()"
      ],
      "metadata": {
        "colab": {
          "base_uri": "https://localhost:8080/",
          "height": 36
        },
        "id": "XzZHMvPUJqI9",
        "outputId": "26e26654-4919-4e51-c9a7-24730614895f"
      },
      "execution_count": 19,
      "outputs": [
        {
          "output_type": "execute_result",
          "data": {
            "text/plain": [
              "'Python Is A Simple Language.'"
            ],
            "application/vnd.google.colaboratory.intrinsic+json": {
              "type": "string"
            }
          },
          "metadata": {},
          "execution_count": 19
        }
      ]
    },
    {
      "cell_type": "code",
      "source": [
        "str.upper()"
      ],
      "metadata": {
        "colab": {
          "base_uri": "https://localhost:8080/",
          "height": 36
        },
        "id": "SaEo1QjaJxi1",
        "outputId": "b1013065-877a-4c60-e892-c724e83889ac"
      },
      "execution_count": 20,
      "outputs": [
        {
          "output_type": "execute_result",
          "data": {
            "text/plain": [
              "'PYTHON IS A SIMPLE LANGUAGE.'"
            ],
            "application/vnd.google.colaboratory.intrinsic+json": {
              "type": "string"
            }
          },
          "metadata": {},
          "execution_count": 20
        }
      ]
    },
    {
      "cell_type": "code",
      "source": [
        "str2 = \"Python Is a Simple Language.\"\n",
        "print(str,str2)\n",
        "\n",
        "if(str==str2):\n",
        "  print(\"Both are same\")\n",
        "else:\n",
        "  print(\"Both are different\")\n"
      ],
      "metadata": {
        "colab": {
          "base_uri": "https://localhost:8080/"
        },
        "id": "8ozh4NdzJ0F0",
        "outputId": "97513d5c-2df6-4a44-8dde-d4aaabaa5f74"
      },
      "execution_count": 25,
      "outputs": [
        {
          "output_type": "stream",
          "name": "stdout",
          "text": [
            "python is a simple language. Python Is a Simple Language.\n",
            "Both are different\n"
          ]
        }
      ]
    },
    {
      "cell_type": "code",
      "source": [
        "str2 = \"Python Is a Simple Language.\"\n",
        "print(str,str2)\n",
        "str3 = str.casefold()\n",
        "str4 = str2.casefold()\n",
        "print(str3,str4)\n",
        "\n",
        "if(str3==str4):\n",
        "  print(\"Both are same\")\n",
        "else:\n",
        "  print(\"Both are different\")"
      ],
      "metadata": {
        "colab": {
          "base_uri": "https://localhost:8080/"
        },
        "id": "lXZVd7sYKVXP",
        "outputId": "f09389ca-2c81-4a86-de19-c170a226aac7"
      },
      "execution_count": 28,
      "outputs": [
        {
          "output_type": "stream",
          "name": "stdout",
          "text": [
            "python is a simple language. Python Is a Simple Language.\n",
            "python is a simple language. python is a simple language.\n",
            "Both are same\n"
          ]
        }
      ]
    },
    {
      "cell_type": "markdown",
      "source": [
        "### 🔤 `.lower()`\n",
        "\n",
        "* Converts only standard uppercase ASCII characters (A–Z) to lowercase.\n",
        "* **Best for English** and basic lowercase conversion.\n",
        "\n",
        "#### 📦 Example:\n",
        "\n",
        "```python\n",
        "'Hello'.lower()     → 'hello'\n",
        "'PYTHON'.lower()    → 'python'\n",
        "```\n",
        "\n",
        "---\n",
        "\n",
        "### 🌐 `.casefold()`\n",
        "\n",
        "* More **aggressive and Unicode-aware** version of `.lower()`\n",
        "* Used for **caseless matching**, especially with **non-English characters**\n",
        "* Recommended when **comparing strings** (e.g. in search, comparison)\n",
        "\n",
        "#### 📦 Example with Unicode:\n",
        "\n",
        "```python\n",
        "'straße'.lower()     → 'straße'  \n",
        "'straße'.casefold()  → 'strasse'  ✅\n",
        "```\n",
        "\n",
        "(\"ß\" in German is equivalent to \"ss\" in lowercase comparisons)\n",
        "\n",
        "---\n",
        "\n",
        "### ✅ Summary Table\n",
        "\n",
        "| Method        | Use Case                        | Unicode-aware | Aggressiveness |\n",
        "| ------------- | ------------------------------- | ------------- | -------------- |\n",
        "| `.lower()`    | Basic lowercase (e.g., English) | ❌ No          | 🔹 Normal      |\n",
        "| `.casefold()` | For comparisons, all languages  | ✅ Yes         | 🔸 Strong      |\n",
        "\n",
        "---\n"
      ],
      "metadata": {
        "id": "n3qOX5aIK8bP"
      }
    }
  ]
}