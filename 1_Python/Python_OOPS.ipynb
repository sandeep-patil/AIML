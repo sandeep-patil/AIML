{
  "nbformat": 4,
  "nbformat_minor": 0,
  "metadata": {
    "colab": {
      "provenance": [],
      "collapsed_sections": [
        "zIQSYyaL-LqY",
        "R9NbWS-S9wGT",
        "3SdN7CIu_cZP",
        "hzb9zvnE_fHk"
      ]
    },
    "kernelspec": {
      "name": "python3",
      "display_name": "Python 3"
    },
    "language_info": {
      "name": "python"
    }
  },
  "cells": [
    {
      "cell_type": "markdown",
      "source": [
        "# **OOPS**\n",
        "\n",
        "\n",
        "*   Classes\n",
        "*   Constructor `__init__`  and Current Instance of Class = self\n",
        "*   Encapsulation\n",
        "*   Inheritance\n",
        "*   Overiding\n",
        "*   Overloading\n",
        "*   Constructor Chaining super().`__init__`():\n",
        "\n",
        "\n",
        "\n",
        "\n"
      ],
      "metadata": {
        "id": "fhHRRJEW9uLL"
      }
    },
    {
      "cell_type": "markdown",
      "source": [
        "#**🔹1: Python Classes nd Objects (OOP)**"
      ],
      "metadata": {
        "id": "zIQSYyaL-LqY"
      }
    },
    {
      "cell_type": "markdown",
      "source": [
        "\n",
        "\n",
        "#### 🔸 What is a Class?\n",
        "\n",
        "A class is a blueprint for creating **objects** (real-world entities).\n",
        "\n",
        "#### 🔸 What is an Object?\n",
        "\n",
        "An object is an instance of a class. It has:\n",
        "\n",
        "* **Attributes (variables)**\n",
        "* **Methods (functions)**\n",
        "\n",
        "---\n",
        "\n",
        "### ✅ Example:\n",
        "\n",
        "```python\n",
        "class Dog:\n",
        "    def bark(self):\n",
        "        print(\"Woof! Woof!\")\n",
        "\n",
        "# Creating an object\n",
        "mydog = Dog()\n",
        "mydog.bark()\n",
        "```\n",
        "\n",
        "#### 🔹 Output:\n",
        "\n",
        "```\n",
        "Woof! Woof!\n",
        "```\n",
        "\n",
        "---\n",
        "\n",
        "### ✅ Your Hands-On Task:\n",
        "\n",
        "1. Create a class `Fan`\n",
        "2. Add a method `start()` that prints `\"Fan started\"`\n",
        "3. Create an object of Fan and call the method\n"
      ],
      "metadata": {
        "id": "R9NbWS-S9wGT"
      }
    },
    {
      "cell_type": "code",
      "source": [
        "class fan:\n",
        "  def start (self):\n",
        "    print(\"Fan Started\")\n",
        "\n",
        "item = fan()\n",
        "\n",
        "item.start()"
      ],
      "metadata": {
        "colab": {
          "base_uri": "https://localhost:8080/"
        },
        "id": "xvFFBlG1-Qjg",
        "outputId": "8d2c3204-f715-440e-8ea9-8fa0086e2a90"
      },
      "execution_count": 1,
      "outputs": [
        {
          "output_type": "stream",
          "name": "stdout",
          "text": [
            "Fan Started\n"
          ]
        }
      ]
    },
    {
      "cell_type": "markdown",
      "source": [
        "✅ Improvement Tip (Python convention):\n",
        "Class names are usually written in CamelCase (start with uppercase):"
      ],
      "metadata": {
        "id": "ILx6vmow_UfJ"
      }
    },
    {
      "cell_type": "markdown",
      "source": [
        "#🔹 **2: __init__() Constructor and self**"
      ],
      "metadata": {
        "id": "3SdN7CIu_cZP"
      }
    },
    {
      "cell_type": "markdown",
      "source": [
        "### 🔸 What is `__init__()`?\n",
        "\n",
        "It’s a **special method** that automatically runs when you create a new object. It’s used to **initialize attributes** (variables) of the object.\n",
        "\n",
        "---\n",
        "\n",
        "### 🔸 What is `self`?\n",
        "\n",
        "* `self` refers to **the current object**.\n",
        "* It lets the object **store and access its own data**.\n",
        "\n",
        "---\n",
        "\n",
        "### ✅ Example:\n",
        "\n",
        "```python\n",
        "class Fan:\n",
        "    def __init__(self, speed):\n",
        "        self.speed = speed  # store the speed in the object\n",
        "\n",
        "    def show_speed(self):\n",
        "        print(f\"The fan is set to speed {self.speed}\")\n",
        "\n",
        "# Create a Fan object with speed 3\n",
        "f1 = Fan(3)\n",
        "f1.show_speed()\n",
        "```\n",
        "\n",
        "#### 🔹 Output:\n",
        "\n",
        "```\n",
        "The fan is set to speed 3\n",
        "```\n",
        "\n",
        "---\n",
        "\n",
        "### 🔧 Breakdown:\n",
        "\n",
        "* `__init__(self, speed)` → runs when object is created.\n",
        "* `self.speed = speed` → stores the value into the object.\n",
        "* `f1 = Fan(3)` → creates the object and gives `speed = 3`.\n",
        "\n",
        "\n"
      ],
      "metadata": {
        "id": "nkJ67aHx_mfF"
      }
    },
    {
      "cell_type": "code",
      "source": [
        "class Car:\n",
        "    def __init__(self,brand):\n",
        "        self.brand = brand\n",
        "\n",
        "    def showBrand(self):\n",
        "        return self.brand\n",
        "\n",
        "\n",
        "c1 = Car(\"VW\")\n",
        "c2 = Car(\"Honda\")\n",
        "c3 = Car(\"MG\")\n",
        "\n",
        "print(\"Brand of Car1 = \",c1.showBrand())\n",
        "print(\"Brand of Car2 = \",c2.showBrand())\n",
        "\n",
        "\n"
      ],
      "metadata": {
        "colab": {
          "base_uri": "https://localhost:8080/"
        },
        "id": "b7fOL8D_BfxK",
        "outputId": "08daf537-9359-4bdf-9c27-79c5f16f72c9"
      },
      "execution_count": 2,
      "outputs": [
        {
          "output_type": "stream",
          "name": "stdout",
          "text": [
            "Brand of Car1 =  VW\n",
            "Brand of Car2 =  Honda\n"
          ]
        }
      ]
    },
    {
      "cell_type": "markdown",
      "source": [
        "💡 Tip: Consistent naming\n",
        "In Python, method names are usually lowercase with underscores: show_brand()"
      ],
      "metadata": {
        "id": "jF4JBjPWBfbK"
      }
    },
    {
      "cell_type": "code",
      "source": [
        "class Mobile:\n",
        "    def __init__(self,brand,price):\n",
        "        self.brand = brand\n",
        "        self.price = price\n",
        "\n",
        "    def show_details(self):\n",
        "        print(f\"Brand = {self.brand} , Price = Rs.{self.price}\")\n",
        "\n",
        "\n",
        "m1 = Mobile(\"OnePlus\",24000)\n",
        "m2 = Mobile(\"Samsung\",52000)\n",
        "\n",
        "\n",
        "m2.show_details()"
      ],
      "metadata": {
        "colab": {
          "base_uri": "https://localhost:8080/"
        },
        "id": "6b-1xbcaDbaA",
        "outputId": "85449a7c-5f3c-43c3-8d76-a9c5c3d758f8"
      },
      "execution_count": 3,
      "outputs": [
        {
          "output_type": "stream",
          "name": "stdout",
          "text": [
            "Brand = Samsung , Price = Rs.52000\n"
          ]
        }
      ]
    },
    {
      "cell_type": "code",
      "source": [
        "#List of Objets\n",
        "class Mobile:\n",
        "    def __init__(self,brand,price):\n",
        "        self.brand = brand\n",
        "        self.price = price\n",
        "\n",
        "    def show_details(self):\n",
        "        print(f\"Brand = {self.brand} , Price = Rs.{self.price}\")\n",
        "\n",
        "m=[]\n",
        "cnt = 0\n",
        "price = 10000\n",
        "for i in range(15):\n",
        "    cnt = cnt +1\n",
        "    price = price + 2000\n",
        "    m.append(Mobile(f\"oneplus{cnt}\",price))\n",
        "\n",
        "\n",
        "m[6].show_details()"
      ],
      "metadata": {
        "id": "c6juuCfoFAEK"
      },
      "execution_count": null,
      "outputs": []
    },
    {
      "cell_type": "markdown",
      "source": [
        "# **🛡️3: Encapsulation**"
      ],
      "metadata": {
        "id": "hzb9zvnE_fHk"
      }
    },
    {
      "cell_type": "markdown",
      "source": [
        "\n",
        "Encapsulation is about **hiding internal data** and only allowing access in **controlled ways**.\n",
        "\n",
        "---\n",
        "\n",
        "### 🔸 Why Use Encapsulation?\n",
        "\n",
        "* Protect internal state of objects\n",
        "* Prevent unintended modification\n",
        "* Provide \"safe\" access using **getter/setter** methods\n",
        "\n",
        "---\n",
        "\n",
        "### 🔹 Public vs Private\n",
        "\n",
        "* `self.name` → **Public**\n",
        "* `self.__name` → **Private** (double underscore makes it *\"name mangled\"*)\n"
      ],
      "metadata": {
        "id": "8BPuvJBvLakz"
      }
    },
    {
      "cell_type": "code",
      "source": [
        "class BankAccount:\n",
        "    def __init__(self,name,balance):\n",
        "        self.name = name\n",
        "        self.__balance = balance\n",
        "\n",
        "    def deposit_money(self,money):\n",
        "        self.__balance = self.__balance + money\n",
        "\n",
        "    def withdraw_money(self,money) :\n",
        "        self.__balance = self.__balance - money\n",
        "    def show_balance(self):\n",
        "        print(f\"Account balance for {self.name} is {self.__balance}.\")\n",
        "\n",
        "\n",
        "a1 = BankAccount(\"Sandeep\",1000)\n",
        "a2 = BankAccount(\"Sneha\",2000)\n",
        "a3 = BankAccount(\"Namrata\",3000)\n",
        "a2.show_balance()\n",
        "a3.show_balance()\n",
        "a1.show_balance()\n",
        "\n",
        "a1.deposit_money(2000)\n",
        "a3.withdraw_money(2000)\n",
        "\n",
        "a3.show_balance()\n",
        "a1.show_balance()\n",
        "print(a1.name)"
      ],
      "metadata": {
        "colab": {
          "base_uri": "https://localhost:8080/"
        },
        "id": "qYd2JXNbLkU4",
        "outputId": "1967a039-d847-4180-9b35-99fa98371565"
      },
      "execution_count": 4,
      "outputs": [
        {
          "output_type": "stream",
          "name": "stdout",
          "text": [
            "Account balance for Sneha is 2000.\n",
            "Account balance for Namrata is 3000.\n",
            "Account balance for Sandeep is 1000.\n",
            "Account balance for Namrata is 1000.\n",
            "Account balance for Sandeep is 3000.\n",
            "Sandeep\n"
          ]
        }
      ]
    },
    {
      "cell_type": "code",
      "source": [
        "class Student :\n",
        "    def __init__(self,name,marks):\n",
        "        self.name = name\n",
        "        self.__marks = marks\n",
        "\n",
        "    def get_marks(self):\n",
        "        return self.__marks\n",
        "\n",
        "    def set_marks(self,new_marks):\n",
        "        if new_marks >=0 and new_marks < 100:\n",
        "            self.__marks = new_marks\n",
        "        else:\n",
        "            print(\"Invalid Marks.\")\n",
        "\n",
        "\n",
        "s1 = Student(\"Sneha\",92)\n",
        "\n",
        "print(f\"Marks of {s1.name} : {s1.get_marks()}\")\n",
        "s1.set_marks(102)\n",
        "\n",
        "s1.set_marks(88)\n",
        "print(f\"Marks of {s1.name} : {s1.get_marks()}\")\n"
      ],
      "metadata": {
        "colab": {
          "base_uri": "https://localhost:8080/"
        },
        "id": "tkDF5azwQd2j",
        "outputId": "c110ab3a-90ba-41db-8d9d-5c7f83192503"
      },
      "execution_count": 6,
      "outputs": [
        {
          "output_type": "stream",
          "name": "stdout",
          "text": [
            "Marks of Sneha : 92\n",
            "Invalid Marks.\n",
            "Marks of Sneha : 88\n"
          ]
        }
      ]
    },
    {
      "cell_type": "markdown",
      "source": [
        "In Python, **encapsulation** is mostly **convention-based**, not enforced like in Java or C++. The `__` (double underscore) is one way, but there are others that help achieve encapsulation or \"controlled access.\"\n",
        "\n",
        "---\n",
        "\n",
        "### 🔐 1. **Single Underscore `_` (Weak \"Protected\" Convention)**\n",
        "\n",
        "* Used to indicate a **\"protected\"** member — should not be accessed outside the class or subclass.\n",
        "* Python does **not** prevent access, but signals **\"hands off\"** to others.\n",
        "\n",
        "```python\n",
        "class Mobile:\n",
        "    def __init__(self):\n",
        "        self._brand = \"Samsung\"  # protected by convention\n",
        "```\n",
        "\n",
        "---\n",
        "\n",
        "### 🔒 2. **Double Underscore `__` (Name Mangling for \"Private\")**\n",
        "\n",
        "* Python internally renames `__var` to `_ClassName__var` to prevent accidental access.\n",
        "* It's **not truly private**, but reduces name collision.\n",
        "\n",
        "```python\n",
        "class Mobile:\n",
        "    def __init__(self):\n",
        "        self.__price = 30000\n",
        "\n",
        "    def get_price(self):\n",
        "        return self.__price\n",
        "```\n",
        "\n",
        "Accessing directly:\n",
        "\n",
        "```python\n",
        "m = Mobile()\n",
        "print(m._Mobile__price)  # Still possible, but not recommended\n",
        "```\n",
        "\n",
        "---\n",
        "\n",
        "### ⚙️ 3. **Getter and Setter Methods (Manual Encapsulation)**\n",
        "\n",
        "You can use methods to **control access and validation**:\n",
        "\n",
        "```python\n",
        "class Mobile:\n",
        "    def __init__(self):\n",
        "        self.__price = 30000\n",
        "\n",
        "    def get_price(self):\n",
        "        return self.__price\n",
        "\n",
        "    def set_price(self, p):\n",
        "        if p > 0:\n",
        "            self.__price = p\n",
        "```\n",
        "\n",
        "---\n",
        "\n",
        "### 🧠 4. **Using `@property` (Pythonic Encapsulation)**\n",
        "\n",
        "Python offers **elegant encapsulation** using `@property`:\n",
        "\n",
        "```python\n",
        "class Mobile:\n",
        "    def __init__(self):\n",
        "        self.__price = 30000\n",
        "\n",
        "    @property\n",
        "    def price(self):\n",
        "        return self.__price\n",
        "\n",
        "    @price.setter\n",
        "    def price(self, value):\n",
        "        if value > 0:\n",
        "            self.__price = value\n",
        "```\n",
        "\n",
        "Now you can use:\n",
        "\n",
        "```python\n",
        "m = Mobile()\n",
        "print(m.price)     # getter\n",
        "m.price = 35000    # setter\n",
        "```\n",
        "\n",
        "---\n",
        "\n",
        "### Summary Table:\n",
        "\n",
        "| Technique     | Protection Level   | Enforced?    | Common Use Case                |\n",
        "| ------------- | ------------------ | ------------ | ------------------------------ |\n",
        "| `_var`        | Weak (protected)   | No           | Internal use by convention     |\n",
        "| `__var`       | Stronger (private) | Name mangled | Avoid collisions in subclasses |\n",
        "| Getter/Setter | Manual             | Yes          | Validations, logic wrappers    |\n",
        "| `@property`   | Pythonic           | Yes          | Clean API for access control   |\n",
        "\n",
        "---\n",
        "\n",
        "## 🔍 Why `@property`?\n",
        "\n",
        " `@property` is Python’s **elegant, Pythonic way to implement encapsulation** — especially when you want to hide internal variables and control how they are accessed or modified, without changing how they're used.\n",
        "\n",
        "---\n",
        "\n",
        "\n",
        "\n",
        "Let’s say we start with **direct attribute access**:\n",
        "\n",
        "```python\n",
        "class Mobile:\n",
        "    def __init__(self):\n",
        "        self.price = 30000\n",
        "\n",
        "m = Mobile()\n",
        "print(m.price)     # access\n",
        "m.price = 25000    # update\n",
        "```\n",
        "\n",
        "Now later we want to **add validation**, but without changing `m.price` usage. That’s where `@property` comes in.\n",
        "\n",
        "---\n",
        "\n",
        "## ✅ Step-by-Step Breakdown\n",
        "\n",
        "### 🔸 Step 1: Define a private variable (with `__`)\n",
        "\n",
        "```python\n",
        "class Mobile:\n",
        "    def __init__(self):\n",
        "        self.__price = 30000\n",
        "```\n",
        "\n",
        "### 🔸 Step 2: Create a `@property` getter\n",
        "\n",
        "```python\n",
        "    @property\n",
        "    def price(self):\n",
        "        return self.__price\n",
        "```\n",
        "\n",
        "Now, we can access it like a variable:\n",
        "\n",
        "```python\n",
        "m = Mobile()\n",
        "print(m.price)  # calls the getter method\n",
        "```\n",
        "\n",
        "### 🔸 Step 3: Create a setter using `@<property_name>.setter`\n",
        "\n",
        "```python\n",
        "    @price.setter\n",
        "    def price(self, value):\n",
        "        if value > 0:\n",
        "            self.__price = value\n",
        "        else:\n",
        "            print(\"Invalid price\")\n",
        "```\n",
        "\n",
        "Now, when you write:\n",
        "\n",
        "```python\n",
        "m.price = 10000\n",
        "```\n",
        "\n",
        "…it internally calls `set_price()` with validation.\n",
        "\n",
        "---\n",
        "\n",
        "## 🧪 Final Code:\n",
        "\n",
        "```python\n",
        "class Mobile:\n",
        "    def __init__(self):\n",
        "        self.__price = 30000\n",
        "\n",
        "    @property\n",
        "    def price(self):\n",
        "        print(\"Getter called\")\n",
        "        return self.__price\n",
        "\n",
        "    @price.setter\n",
        "    def price(self, value):\n",
        "        print(\"Setter called\")\n",
        "        if value > 0:\n",
        "            self.__price = value\n",
        "        else:\n",
        "            print(\"Invalid price\")\n",
        "\n",
        "# Usage\n",
        "m = Mobile()\n",
        "print(m.price)    # ➜ Getter called, 30000\n",
        "m.price = 25000   # ➜ Setter called\n",
        "print(m.price)    # ➜ Getter called, 25000\n",
        "m.price = -10     # ➜ Setter called, Invalid price\n",
        "```\n",
        "\n",
        "---\n",
        "\n",
        "## 🧠 Benefits\n",
        "\n",
        "| Feature                       | What it does                                |\n",
        "| ----------------------------- | ------------------------------------------- |\n",
        "| Clean syntax                  | Use `obj.var` instead of `obj.get_var()`    |\n",
        "| Backward-compatible           | You can convert attribute to property later |\n",
        "| Control access                | Add validation, logging, calculations       |\n",
        "| Read-only/Write-only possible | Just skip setter or getter                  |\n",
        "\n"
      ],
      "metadata": {
        "id": "O3zDuba5SJIf"
      }
    },
    {
      "cell_type": "markdown",
      "source": [
        "## In Python, there is no **True private variable** like in Java or C++. Everything is technically accessible. Python follows the philosophy of:\n",
        "\n",
        "> **\"We're all consenting adults here.\"**\n",
        "\n",
        "---\n",
        "\n",
        "## 🔍 What does that mean?\n",
        "\n",
        "Python trusts the developer **not to break the rules**, but **doesn't strictly enforce** them.\n",
        "\n",
        "---\n",
        "\n",
        "## 🔒 What `__var` really does:\n",
        "\n",
        "When you write:\n",
        "\n",
        "```python\n",
        "self.__price = 30000\n",
        "```\n",
        "\n",
        "Python internally **name-mangles** it to:\n",
        "\n",
        "```python\n",
        "self._ClassName__price\n",
        "```\n",
        "\n",
        "So you **can still access it**:\n",
        "\n",
        "```python\n",
        "m = Mobile()\n",
        "print(m._Mobile__price)  # Not recommended, but possible\n",
        "```\n",
        "\n",
        "---\n",
        "\n",
        "## ✅ So why use `__` at all?\n",
        "\n",
        "Even though it’s not truly private:\n",
        "\n",
        "* It **prevents accidental access or override**, especially in subclasses.\n",
        "* It signals: “Don’t touch this unless you know what you’re doing.”\n",
        "* It avoids name collisions.\n",
        "\n",
        "---\n",
        "\n",
        "## 🔐 What if I *really* want to protect data?\n",
        "\n",
        "In practice:\n",
        "\n",
        "* Use **`@property`** with only a getter to make a **read-only** attribute.\n",
        "* Avoid exposing sensitive logic directly.\n",
        "* Trust **code reviews, conventions, and documentation** to prevent misuse.\n",
        "* For critical applications (e.g., security tokens, credentials), manage access at a higher level — not just through variable names.\n",
        "\n",
        "---\n",
        "\n",
        "## 🔥 Summary:\n",
        "\n",
        "| Method               | Privacy Level     | Can be Accessed?            | Purpose                  |\n",
        "| -------------------- | ----------------- | --------------------------- | ------------------------ |\n",
        "| `_var`               | Protected (soft)  | ✅ Yes                       | Developer convention     |\n",
        "| `__var`              | Private (mangled) | ✅ Yes via `_ClassName__var` | Avoid name collisions    |\n",
        "| No property          | Public            | ✅ Yes                       | Default behavior         |\n",
        "| `@property` only     | Read-only         | ✅ Yes                       | Prevents external writes |\n",
        "| `@property` + setter | Controlled access | ✅ Yes                       | With validation          |\n",
        "\n",
        "---\n",
        "\n",
        "So yes — **nothing in Python is truly private**, but you have tools to **strongly discourage** misuse.\n",
        "\n"
      ],
      "metadata": {
        "id": "tZiMnVUaS0Sl"
      }
    },
    {
      "cell_type": "markdown",
      "source": [
        "** Sometimes we do encapsulate methods**, but just like with variables in Python, **it's about intent and control — not enforcement**.\n",
        "\n",
        "---\n",
        "\n",
        "## 🔍 Why encapsulate methods?\n",
        "\n",
        "Encapsulating methods (i.e., marking them as \"private\" or \"protected\") is useful when:\n",
        "\n",
        "1. **You don’t want other classes or users to call them directly**\n",
        "2. They are **only meant to be used internally** by the class\n",
        "3. You want to **hide complexity** and **expose only the public API**\n",
        "\n",
        "---\n",
        "\n",
        "## ✅ Ways to encapsulate methods in Python:\n",
        "\n",
        "### 🔸 1. **Single underscore `_method()`**\n",
        "\n",
        "```python\n",
        "class Car:\n",
        "    def _start_engine(self):\n",
        "        print(\"Starting engine...\")  # Internal use\n",
        "```\n",
        "\n",
        "* **Convention**: “This is for internal use only.”\n",
        "* **Still accessible** from outside: `car._start_engine()` (not enforced)\n",
        "\n",
        "---\n",
        "\n",
        "### 🔸 2. **Double underscore `__method()`**\n",
        "\n",
        "```python\n",
        "class Car:\n",
        "    def __log_diagnostics(self):\n",
        "        print(\"Running diagnostics...\")  # Private\n",
        "```\n",
        "\n",
        "* Triggers **name mangling** to `_Car__log_diagnostics`\n",
        "* Harder to accidentally call, but still **not truly private**\n",
        "\n",
        "---\n",
        "\n",
        "## 🧠 Use Case Examples\n",
        "\n",
        "| Method Name         | Use Case                     | Encapsulate? |\n",
        "| ------------------- | ---------------------------- | ------------ |\n",
        "| `__connect_db()`    | Internal helper for DB setup | ✅ Yes        |\n",
        "| `_validate_input()` | Internal check before update | ✅ Yes        |\n",
        "| `drive()`           | Public method called by user | ❌ No         |\n",
        "| `get_speed()`       | Part of external API         | ❌ No         |\n",
        "\n",
        "---\n",
        "\n",
        "## 👎 Don't overuse encapsulation\n",
        "\n",
        "Python is not Java. Over-encapsulating everything makes your code harder to test and use. If something **is useful for external users**, don’t hide it.\n",
        "\n",
        "---\n",
        "\n",
        "## 🔥 TL;DR\n",
        "\n",
        "* ✅ Yes, encapsulate methods **when they’re internal helpers** or not part of the class's public interface.\n",
        "* Use:\n",
        "\n",
        "  * `_method()` for **protected**\n",
        "  * `__method()` for **private (mangled)**\n",
        "* ❌ Don’t encapsulate if the method is **meant to be used from outside**.\n"
      ],
      "metadata": {
        "id": "pUsSVSj8TUEP"
      }
    },
    {
      "cell_type": "markdown",
      "source": [
        "# **🧬 4: Inheritance**"
      ],
      "metadata": {
        "id": "YCqQs7jMThrE"
      }
    },
    {
      "cell_type": "markdown",
      "source": [
        "### 🔸 What is Inheritance?\n",
        "\n",
        "Inheritance allows a **child class** to use **methods and properties of a parent class** — like how children inherit traits from parents.\n",
        "\n",
        "---\n",
        "\n",
        "### ✅ Real-Life Analogy:\n",
        "\n",
        "Imagine:\n",
        "\n",
        "* **Parent Class**: `Vehicle`\n",
        "* **Child Classes**: `Car`, `Bike`, `Truck`\n",
        "\n",
        "Each vehicle may:\n",
        "\n",
        "* Have a `start()` method (shared by all)\n",
        "* But a `Car` may have `air_conditioning()` which a `Bike` doesn't\n",
        "\n",
        "---\n",
        "\n",
        "## 🧪 Syntax of Inheritance:\n",
        "\n",
        "```python\n",
        "class Parent:\n",
        "    def greet(self):\n",
        "        print(\"Hello from Parent!\")\n",
        "\n",
        "class Child(Parent):  # Inheriting from Parent\n",
        "    def welcome(self):\n",
        "        print(\"Welcome from Child!\")\n",
        "\n",
        "c = Child()\n",
        "c.greet()     # Inherited\n",
        "c.welcome()   # Own method\n",
        "```\n",
        "\n"
      ],
      "metadata": {
        "id": "zVC-kTCTgJE5"
      }
    },
    {
      "cell_type": "code",
      "source": [
        "class Vehicle:\n",
        "    def __init__(self,vin):\n",
        "        self.vin = vin\n",
        "        print(\"In Class Vehicle Init\")\n",
        "\n",
        "    def get_vin(self):\n",
        "        return self.vin\n",
        "\n",
        "class Car(Vehicle):\n",
        "        def __init__(self,vin):\n",
        "            super().__init__(vin) # Call parent constructor in needed\n",
        "            print(\"In Class Car Init\")\n",
        "\n",
        "class Bike(Vehicle):\n",
        "        def __init__(self,vin):\n",
        "            super().__init__(vin) # Call parent constructor\n",
        "            print(\"In Class Bike Init\")\n",
        "\n",
        "v1 = Vehicle(1)\n",
        "c1 = Car(2)\n",
        "b1 = Bike(3)\n",
        "print(f\"VIN = {v1.get_vin()}\")\n",
        "print(f\"VIN = {c1.get_vin()}\")\n",
        "print(f\"VIN = {b1.get_vin()}\")"
      ],
      "metadata": {
        "colab": {
          "base_uri": "https://localhost:8080/"
        },
        "id": "x9Xhe_xMi_kD",
        "outputId": "396efefc-87be-42e9-89a6-53e23c414ef5"
      },
      "execution_count": 7,
      "outputs": [
        {
          "output_type": "stream",
          "name": "stdout",
          "text": [
            "In Class Vehicle Init\n",
            "In Class Vehicle Init\n",
            "In Class Car Init\n",
            "In Class Vehicle Init\n",
            "In Class Bike Init\n",
            "VIN = 1\n",
            "VIN = 2\n",
            "VIN = 3\n"
          ]
        }
      ]
    },
    {
      "cell_type": "code",
      "source": [
        "class Person:\n",
        "    def __init__(self,name,age):\n",
        "        self.name = name\n",
        "        self.age = age\n",
        "\n",
        "    def show_info(self):\n",
        "        print(f\"Name = {self.name}  Age = {self.age}\")\n",
        "\n",
        "class Employee(Person):\n",
        "    def __init__(self,name,age,employee_id):\n",
        "        super().__init__(name, age)  # Constructor Chaining\n",
        "        self.employee_id = employee_id\n",
        "\n",
        "    def show_employee_id(self):\n",
        "        print(f\"Employee ID : {self.employee_id}\")\n",
        "\n",
        "\n",
        "E1 = Employee(\"Sandeep\",36,256)\n",
        "E1.show_info()\n",
        "E1.show_employee_id()\n",
        "P1 = Person(\"Sneha\",7)\n",
        "P1.show_info()\n"
      ],
      "metadata": {
        "colab": {
          "base_uri": "https://localhost:8080/"
        },
        "id": "l2QDCaeuk_l3",
        "outputId": "84c2424a-a44e-4c4a-bd11-84f2bd6d4a7f"
      },
      "execution_count": 8,
      "outputs": [
        {
          "output_type": "stream",
          "name": "stdout",
          "text": [
            "Name = Sandeep  Age = 36\n",
            "Employee ID : 256\n",
            "Name = Sneha  Age = 7\n"
          ]
        }
      ]
    },
    {
      "cell_type": "code",
      "source": [
        "class Appliance:\n",
        "    def __init__(self,brand,power):\n",
        "        self.brand = brand\n",
        "        self.power = power\n",
        "\n",
        "    def show_info(self):\n",
        "        print(f\"Brand = {self.brand}  Power = {self.power}\")\n",
        "\n",
        "class WashingMachine(Appliance):\n",
        "    def __init__(self,brand,power,load_capacity ):\n",
        "        super().__init__(brand ,power)  # Constructor Chaining\n",
        "        self.load_capacity = load_capacity\n",
        "\n",
        "    def show_info(self):  # Overriding NOT Overloading\n",
        "        print(f\"WashingMachine Brand = {self.brand}  Power = {self.power} load_capacity = {self.load_capacity} \")\n",
        "\n",
        "class Refrigerator(Appliance):\n",
        "    def __init__(self,brand,power,volume ):\n",
        "        super().__init__(brand ,power)  # Constructor Chaining\n",
        "        self.volume = volume\n",
        "\n",
        "    def show_info(self):  # Overriding NOT Overloading\n",
        "        print(f\"Refrigerator Brand = {self.brand}  Power = {self.power} volume = {self.volume}\")\n",
        "\n",
        "A1 = Appliance(\"LG\",200)\n",
        "W1 = WashingMachine(\"Samsung\",300,50)\n",
        "R1 = Refrigerator(\"BOSCH\",500,63)\n",
        "\n",
        "A1.show_info()\n",
        "W1.show_info()\n",
        "R1.show_info()"
      ],
      "metadata": {
        "colab": {
          "base_uri": "https://localhost:8080/"
        },
        "id": "jxSYok7OoBVo",
        "outputId": "70b346dd-f279-434e-bc94-77e7b2829e5d"
      },
      "execution_count": 11,
      "outputs": [
        {
          "output_type": "stream",
          "name": "stdout",
          "text": [
            "Brand = LG  Power = 200\n",
            "WashingMachine Brand = Samsung  Power = 300 load_capacity = 50 \n",
            "Refrigerator Brand = BOSCH  Power = 500 volume = 63\n"
          ]
        }
      ]
    },
    {
      "cell_type": "markdown",
      "source": [
        "## 🔄 **Overloading vs Overriding** (Don’t confuse them!)\n",
        "\n",
        "### 🔸 Overriding (✅ You’re using this)\n",
        "\n",
        "* Happens in **Inheritance**\n",
        "* Child class redefines a method **with the same name and parameters** from the parent\n",
        "\n",
        "```python\n",
        "class Animal:\n",
        "    def speak(self):\n",
        "        print(\"Animal speaks\")\n",
        "\n",
        "class Dog(Animal):\n",
        "    def speak(self):  # 🔁 Overrides parent method\n",
        "        print(\"Dog barks\")\n",
        "```\n",
        "\n",
        "---\n",
        "\n",
        "### 🔸 Overloading (❌ Not directly supported like Java/C++)\n",
        "\n",
        "Python **does not support method overloading** by defining multiple methods with the same name.\n",
        "\n",
        "Instead, it uses:\n",
        "\n",
        "* **Default arguments**\n",
        "* **Variable-length arguments** (`*args`, `**kwargs`)\n",
        "\n",
        "---\n",
        "\n",
        "### ✅ Pythonic \"Overloading\" Example:\n",
        "\n",
        "```python\n",
        "class Calculator:\n",
        "    def add(self, a, b=0, c=0):\n",
        "        return a + b + c\n",
        "\n",
        "calc = Calculator()\n",
        "print(calc.add(2, 3))       # 5\n",
        "print(calc.add(1, 2, 3))    # 6\n",
        "print(calc.add(10))         # 10\n",
        "```\n",
        "\n",
        "Python chooses behavior based on how many arguments are passed, not different method signatures.\n",
        "\n",
        "---\n",
        "\n",
        "### 🔁 Summary:\n",
        "\n",
        "| Concept     | Python? | How?                       |\n",
        "| ----------- | ------- | -------------------------- |\n",
        "| Overriding  | ✅ Yes   | Same method name, subclass |\n",
        "| Overloading | ❌ No\\*  | Use default args or \\*args |\n",
        "\n",
        "\n"
      ],
      "metadata": {
        "id": "2xS6Fym1oief"
      }
    },
    {
      "cell_type": "code",
      "source": [
        "#Pythonic \"Overloading\" Example:\n",
        "class Calculator:\n",
        "    def add(self, a, b=0, c=0):\n",
        "        return a + b + c\n",
        "\n",
        "calc = Calculator()\n",
        "print(calc.add(2, 3))       # 5\n",
        "print(calc.add(1, 2, 3))    # 6\n",
        "print(calc.add(10))         # 10"
      ],
      "metadata": {
        "colab": {
          "base_uri": "https://localhost:8080/"
        },
        "id": "Ye2K-mOlpFDu",
        "outputId": "3c0c0d7a-eec6-4846-ce00-6d203865b14f"
      },
      "execution_count": 12,
      "outputs": [
        {
          "output_type": "stream",
          "name": "stdout",
          "text": [
            "5\n",
            "6\n",
            "10\n"
          ]
        }
      ]
    },
    {
      "cell_type": "markdown",
      "source": [
        "# **🌀 5: Polymorphism in Python OOP**"
      ],
      "metadata": {
        "id": "LVexg6dNswSN"
      }
    },
    {
      "cell_type": "markdown",
      "source": [
        "\n",
        "### 🔸 What is Polymorphism?\n",
        "\n",
        "Polymorphism = **“Many forms”**\n",
        "\n",
        "In Python OOP, it means:\n",
        "\n",
        "* **Different classes** can define the **same method name** (`show_info`, `speak`, etc.)\n",
        "* When you call the method, **correct version runs automatically** based on the object type\n",
        "\n",
        "---\n",
        "\n",
        "### 🔹 Real-life Analogy:\n",
        "\n",
        "* `RemoteControl` can operate a TV, Fan, or AC — but the `power_button()` does different things for each.\n",
        "\n",
        "---\n",
        "\n",
        "## ✅ Example: Animal Polymorphism\n",
        "\n",
        "```python\n",
        "class Animal:\n",
        "    def speak(self):\n",
        "        print(\"Animal sound\")\n",
        "\n",
        "class Dog(Animal):\n",
        "    def speak(self):\n",
        "        print(\"Woof!\")\n",
        "\n",
        "class Cat(Animal):\n",
        "    def speak(self):\n",
        "        print(\"Meow!\")\n",
        "\n",
        "# Common interface\n",
        "def make_sound(animal):\n",
        "    animal.speak()\n",
        "```\n",
        "\n",
        "### 🔍 Usage:\n",
        "\n",
        "```python\n",
        "a1 = Dog()\n",
        "a2 = Cat()\n",
        "\n",
        "make_sound(a1)  # Woof!\n",
        "make_sound(a2)  # Meow!\n",
        "```\n",
        "\n",
        "---\n",
        "\n",
        "### 🧠 Key Point:\n",
        "\n",
        "Even though `make_sound()` doesn't know whether it’s a Dog or Cat, it runs the correct `speak()` → **that’s polymorphism!**\n",
        "\n",
        "---\n",
        "\n"
      ],
      "metadata": {
        "id": "CvpWmKu9s3l7"
      }
    },
    {
      "cell_type": "code",
      "source": [
        "class Shape:\n",
        "    def area(self):\n",
        "        print(\"Shape not defined\")\n",
        "\n",
        "class Rectangle(Shape):\n",
        "    def __init__(self, width, height):\n",
        "        self.width = width\n",
        "        self.height = height\n",
        "    def area(self):\n",
        "        a = self.width * self.height\n",
        "        print(f\"Area of Rectangle : {a}\")\n",
        "\n",
        "class Circle(Shape):\n",
        "    def __init__(self, radius):\n",
        "        self.radius = radius\n",
        "\n",
        "    def area(self):\n",
        "        a = self.radius * self.radius\n",
        "        print(f\"Area of Circle : {a}\")\n",
        "\n",
        "def print_areas(shape):\n",
        "    shape.area()\n",
        "\n",
        "R1 = Rectangle(2,3)\n",
        "C1 = Circle(4)\n",
        "\n",
        "print_areas(R1)\n",
        "print_areas(C1)"
      ],
      "metadata": {
        "colab": {
          "base_uri": "https://localhost:8080/"
        },
        "id": "jS7mdB2bwRFh",
        "outputId": "76c1b0eb-33ec-4216-db8d-6b632f5317fd"
      },
      "execution_count": 13,
      "outputs": [
        {
          "output_type": "stream",
          "name": "stdout",
          "text": [
            "Area of Rectangle : 6\n",
            "Area of Circle : 16\n"
          ]
        }
      ]
    },
    {
      "cell_type": "markdown",
      "source": [
        "**🧠 Challenge: Notification System**\n",
        "🔧 Task:\n",
        "Create a base class Notifier with:\n",
        "\n",
        "A method send(message) that prints \"Sending generic notification: <message>\"\n",
        "\n",
        "Create 3 child classes:\n",
        "\n",
        "EmailNotifier → override send(message) to print \"Sending EMAIL: <message>\"\n",
        "\n",
        "SMSNotifier → override to print \"Sending SMS: <message>\"\n",
        "\n",
        "PushNotifier → override to print \"Sending PUSH: <message>\"\n",
        "\n",
        "Create a function broadcast(notifiers, msg) that:\n",
        "\n",
        "Takes a list of different notifier objects\n",
        "\n",
        "Calls send(msg) on each"
      ],
      "metadata": {
        "id": "lUo8_5PWyNdX"
      }
    },
    {
      "cell_type": "code",
      "source": [
        "class Notifier:\n",
        "    def send(self,message):\n",
        "        print(f\"Sending generic notification : {message}\")\n",
        "\n",
        "class EmailNotifier(Notifier):\n",
        "    def send(self,message):\n",
        "        print(f\"Sending Email : {message}\")\n",
        "\n",
        "class SMSNotifier (Notifier):\n",
        "    def send(self,message):\n",
        "        print(f\"Sending SMS : {message}\")\n",
        "\n",
        "class PushNotifier (Notifier):\n",
        "    def send(self,message):\n",
        "            print(f\"Sending PUSH : {message}\")\n",
        "\n",
        "def broadcast(notifiers, msg):\n",
        "    for n in notifiers:\n",
        "        n.send(msg)\n",
        "\n",
        "N = Notifier()\n",
        "E = EmailNotifier()\n",
        "S = SMSNotifier()\n",
        "P = PushNotifier()\n",
        "\n",
        "#st(N,\"Its Geneic\")\n",
        "#broadcast(S,\"Its SMS\")\n",
        "#broadcast(E,\"Its EMAIL\")\n",
        "#broadcast(P,\"Its PUSH\")\n",
        "\n",
        "# Send broadcast message\n",
        "broadcast([N, E, S, P], \"Server is down!\")"
      ],
      "metadata": {
        "colab": {
          "base_uri": "https://localhost:8080/"
        },
        "id": "bwGhXWT9yHZ9",
        "outputId": "bb4f35f8-9e20-4d09-f8ca-eec91ca72af2"
      },
      "execution_count": 16,
      "outputs": [
        {
          "output_type": "stream",
          "name": "stdout",
          "text": [
            "Sending generic notification : Server is down!\n",
            "Sending Email : Server is down!\n",
            "Sending SMS : Server is down!\n",
            "Sending PUSH : Server is down!\n"
          ]
        }
      ]
    }
  ]
}