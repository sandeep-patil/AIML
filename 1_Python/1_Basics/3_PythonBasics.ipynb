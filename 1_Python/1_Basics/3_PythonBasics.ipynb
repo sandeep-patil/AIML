{
  "nbformat": 4,
  "nbformat_minor": 0,
  "metadata": {
    "colab": {
      "provenance": []
    },
    "kernelspec": {
      "name": "python3",
      "display_name": "Python 3"
    },
    "language_info": {
      "name": "python"
    }
  },
  "cells": [
    {
      "cell_type": "markdown",
      "source": [
        "# **Sets**"
      ],
      "metadata": {
        "id": "9f8Y1_ejpdid"
      }
    },
    {
      "cell_type": "markdown",
      "source": [
        "* A Set can store non duplicate data.\n",
        "\n",
        "* Delimiter = {}\n",
        "\n",
        "* Sets do not support indexing , but its iterable.\n",
        "\n",
        "* Set is a mutable object"
      ],
      "metadata": {
        "id": "qsmvJgTfpxP9"
      }
    },
    {
      "cell_type": "code",
      "source": [
        "s = {}\n",
        "type (s)"
      ],
      "metadata": {
        "colab": {
          "base_uri": "https://localhost:8080/"
        },
        "id": "e6gvW4QtpdFH",
        "outputId": "795e43d9-d97f-46aa-d5a6-d00a4816243e"
      },
      "execution_count": null,
      "outputs": [
        {
          "output_type": "execute_result",
          "data": {
            "text/plain": [
              "dict"
            ]
          },
          "metadata": {},
          "execution_count": 1
        }
      ]
    },
    {
      "cell_type": "markdown",
      "source": [
        "So empty Set can be created by following:"
      ],
      "metadata": {
        "id": "zz9UYigeqNu0"
      }
    },
    {
      "cell_type": "code",
      "execution_count": null,
      "metadata": {
        "colab": {
          "base_uri": "https://localhost:8080/"
        },
        "id": "M90X-m9eag3Z",
        "outputId": "7b40ed99-5b05-4654-901a-1ee447b2305a"
      },
      "outputs": [
        {
          "output_type": "execute_result",
          "data": {
            "text/plain": [
              "set"
            ]
          },
          "metadata": {},
          "execution_count": 2
        }
      ],
      "source": [
        "s= set()\n",
        "type(s)"
      ]
    },
    {
      "cell_type": "code",
      "source": [
        "s.add(1)\n",
        "s"
      ],
      "metadata": {
        "colab": {
          "base_uri": "https://localhost:8080/"
        },
        "id": "_KmUZAlRqaWY",
        "outputId": "51a2addd-3c01-428e-cac8-413ff2caac6f"
      },
      "execution_count": null,
      "outputs": [
        {
          "output_type": "execute_result",
          "data": {
            "text/plain": [
              "{1}"
            ]
          },
          "metadata": {},
          "execution_count": 4
        }
      ]
    },
    {
      "cell_type": "code",
      "source": [
        "s.add(\"1\")\n",
        "s"
      ],
      "metadata": {
        "colab": {
          "base_uri": "https://localhost:8080/"
        },
        "id": "BFVRy6ukqfxm",
        "outputId": "be6f9b76-af16-482f-d2c8-23aa26d5af4f"
      },
      "execution_count": null,
      "outputs": [
        {
          "output_type": "execute_result",
          "data": {
            "text/plain": [
              "{1, '1'}"
            ]
          },
          "metadata": {},
          "execution_count": 6
        }
      ]
    },
    {
      "cell_type": "code",
      "source": [
        "s[0] = 0\n",
        "s"
      ],
      "metadata": {
        "colab": {
          "base_uri": "https://localhost:8080/",
          "height": 166
        },
        "id": "ILB8WhDzqjve",
        "outputId": "ad117f57-50e3-4707-b1f1-37f858f811bd"
      },
      "execution_count": null,
      "outputs": [
        {
          "output_type": "error",
          "ename": "TypeError",
          "evalue": "'set' object does not support item assignment",
          "traceback": [
            "\u001b[0;31m---------------------------------------------------------------------------\u001b[0m",
            "\u001b[0;31mTypeError\u001b[0m                                 Traceback (most recent call last)",
            "\u001b[0;32m<ipython-input-8-1781641324>\u001b[0m in \u001b[0;36m<cell line: 0>\u001b[0;34m()\u001b[0m\n\u001b[0;32m----> 1\u001b[0;31m \u001b[0ms\u001b[0m\u001b[0;34m[\u001b[0m\u001b[0;36m0\u001b[0m\u001b[0;34m]\u001b[0m \u001b[0;34m=\u001b[0m \u001b[0;36m0\u001b[0m\u001b[0;34m\u001b[0m\u001b[0;34m\u001b[0m\u001b[0m\n\u001b[0m\u001b[1;32m      2\u001b[0m \u001b[0ms\u001b[0m\u001b[0;34m\u001b[0m\u001b[0;34m\u001b[0m\u001b[0m\n",
            "\u001b[0;31mTypeError\u001b[0m: 'set' object does not support item assignment"
          ]
        }
      ]
    },
    {
      "cell_type": "code",
      "source": [
        "dir(s)"
      ],
      "metadata": {
        "colab": {
          "base_uri": "https://localhost:8080/"
        },
        "id": "8FiDzkQVqzUN",
        "outputId": "b87f26a0-1559-441e-8676-021d24750391"
      },
      "execution_count": null,
      "outputs": [
        {
          "output_type": "execute_result",
          "data": {
            "text/plain": [
              "['__and__',\n",
              " '__class__',\n",
              " '__class_getitem__',\n",
              " '__contains__',\n",
              " '__delattr__',\n",
              " '__dir__',\n",
              " '__doc__',\n",
              " '__eq__',\n",
              " '__format__',\n",
              " '__ge__',\n",
              " '__getattribute__',\n",
              " '__getstate__',\n",
              " '__gt__',\n",
              " '__hash__',\n",
              " '__iand__',\n",
              " '__init__',\n",
              " '__init_subclass__',\n",
              " '__ior__',\n",
              " '__isub__',\n",
              " '__iter__',\n",
              " '__ixor__',\n",
              " '__le__',\n",
              " '__len__',\n",
              " '__lt__',\n",
              " '__ne__',\n",
              " '__new__',\n",
              " '__or__',\n",
              " '__rand__',\n",
              " '__reduce__',\n",
              " '__reduce_ex__',\n",
              " '__repr__',\n",
              " '__ror__',\n",
              " '__rsub__',\n",
              " '__rxor__',\n",
              " '__setattr__',\n",
              " '__sizeof__',\n",
              " '__str__',\n",
              " '__sub__',\n",
              " '__subclasshook__',\n",
              " '__xor__',\n",
              " 'add',\n",
              " 'clear',\n",
              " 'copy',\n",
              " 'difference',\n",
              " 'difference_update',\n",
              " 'discard',\n",
              " 'intersection',\n",
              " 'intersection_update',\n",
              " 'isdisjoint',\n",
              " 'issubset',\n",
              " 'issuperset',\n",
              " 'pop',\n",
              " 'remove',\n",
              " 'symmetric_difference',\n",
              " 'symmetric_difference_update',\n",
              " 'union',\n",
              " 'update']"
            ]
          },
          "metadata": {},
          "execution_count": 9
        }
      ]
    },
    {
      "cell_type": "code",
      "source": [
        "s.clear()\n",
        "s"
      ],
      "metadata": {
        "colab": {
          "base_uri": "https://localhost:8080/"
        },
        "id": "rcV6v01Jq4o6",
        "outputId": "67035a06-6351-44e7-90bd-ff45ede6104e"
      },
      "execution_count": null,
      "outputs": [
        {
          "output_type": "execute_result",
          "data": {
            "text/plain": [
              "set()"
            ]
          },
          "metadata": {},
          "execution_count": 11
        }
      ]
    },
    {
      "cell_type": "code",
      "source": [
        "s.add(3)\n",
        "s.add(2)\n",
        "s.add(4)\n",
        "s.add(3)\n",
        "s"
      ],
      "metadata": {
        "colab": {
          "base_uri": "https://localhost:8080/"
        },
        "id": "p8gpm3uHq9qm",
        "outputId": "f058552d-4959-4883-ea59-763cddc2a356"
      },
      "execution_count": null,
      "outputs": [
        {
          "output_type": "execute_result",
          "data": {
            "text/plain": [
              "{2, 3, 4}"
            ]
          },
          "metadata": {},
          "execution_count": 12
        }
      ]
    },
    {
      "cell_type": "markdown",
      "source": [
        "* As Set doesn't suport indexing, the order is not guaranteed."
      ],
      "metadata": {
        "id": "wpLAz53yrGkS"
      }
    },
    {
      "cell_type": "code",
      "source": [
        "len(s)"
      ],
      "metadata": {
        "colab": {
          "base_uri": "https://localhost:8080/"
        },
        "id": "Age51zGJrQm1",
        "outputId": "702b0de2-89bb-4f89-cd22-821f3f2e2cff"
      },
      "execution_count": null,
      "outputs": [
        {
          "output_type": "execute_result",
          "data": {
            "text/plain": [
              "3"
            ]
          },
          "metadata": {},
          "execution_count": 13
        }
      ]
    },
    {
      "cell_type": "code",
      "source": [
        "s = {2, 3, 4}\n",
        "s2={2,3,6,8}"
      ],
      "metadata": {
        "id": "b3dJU739r8D_"
      },
      "execution_count": null,
      "outputs": []
    },
    {
      "cell_type": "code",
      "source": [
        "s.difference(s2)"
      ],
      "metadata": {
        "colab": {
          "base_uri": "https://localhost:8080/"
        },
        "id": "L36V8w50sABz",
        "outputId": "ba419553-64a8-48e5-cb3a-c86416dec42a"
      },
      "execution_count": null,
      "outputs": [
        {
          "output_type": "execute_result",
          "data": {
            "text/plain": [
              "{4}"
            ]
          },
          "metadata": {},
          "execution_count": 22
        }
      ]
    },
    {
      "cell_type": "code",
      "source": [
        "s2.difference(s)"
      ],
      "metadata": {
        "colab": {
          "base_uri": "https://localhost:8080/"
        },
        "id": "EieUW9DGsR2t",
        "outputId": "c64dbac0-15f2-48f9-a6fb-2836b9e77c26"
      },
      "execution_count": null,
      "outputs": [
        {
          "output_type": "execute_result",
          "data": {
            "text/plain": [
              "{6, 8}"
            ]
          },
          "metadata": {},
          "execution_count": 23
        }
      ]
    },
    {
      "cell_type": "code",
      "source": [
        "# Elements of set should be immutable\n",
        "s3={1,3,[1,3]}"
      ],
      "metadata": {
        "colab": {
          "base_uri": "https://localhost:8080/",
          "height": 166
        },
        "id": "h374dYy2ssyG",
        "outputId": "33caaa41-2be1-48bf-f277-43690049eadc"
      },
      "execution_count": null,
      "outputs": [
        {
          "output_type": "error",
          "ename": "TypeError",
          "evalue": "unhashable type: 'list'",
          "traceback": [
            "\u001b[0;31m---------------------------------------------------------------------------\u001b[0m",
            "\u001b[0;31mTypeError\u001b[0m                                 Traceback (most recent call last)",
            "\u001b[0;32m<ipython-input-25-3929442369>\u001b[0m in \u001b[0;36m<cell line: 0>\u001b[0;34m()\u001b[0m\n\u001b[1;32m      1\u001b[0m \u001b[0;31m# Elements of set should be immutable\u001b[0m\u001b[0;34m\u001b[0m\u001b[0;34m\u001b[0m\u001b[0m\n\u001b[0;32m----> 2\u001b[0;31m \u001b[0ms3\u001b[0m\u001b[0;34m=\u001b[0m\u001b[0;34m{\u001b[0m\u001b[0;36m1\u001b[0m\u001b[0;34m,\u001b[0m\u001b[0;36m3\u001b[0m\u001b[0;34m,\u001b[0m\u001b[0;34m[\u001b[0m\u001b[0;36m1\u001b[0m\u001b[0;34m,\u001b[0m\u001b[0;36m3\u001b[0m\u001b[0;34m]\u001b[0m\u001b[0;34m}\u001b[0m\u001b[0;34m\u001b[0m\u001b[0;34m\u001b[0m\u001b[0m\n\u001b[0m",
            "\u001b[0;31mTypeError\u001b[0m: unhashable type: 'list'"
          ]
        }
      ]
    },
    {
      "cell_type": "code",
      "source": [
        "s3={1,3,(1,3)}\n",
        "s3"
      ],
      "metadata": {
        "colab": {
          "base_uri": "https://localhost:8080/"
        },
        "id": "7Xvn21tgsxHy",
        "outputId": "95eac5d1-4cf6-4948-aeb2-63e542fda465"
      },
      "execution_count": null,
      "outputs": [
        {
          "output_type": "execute_result",
          "data": {
            "text/plain": [
              "{(1, 3), 1, 3}"
            ]
          },
          "metadata": {},
          "execution_count": 27
        }
      ]
    },
    {
      "cell_type": "markdown",
      "source": [
        "# **Dictionary**"
      ],
      "metadata": {
        "id": "EtrLQiB_2Cz1"
      }
    },
    {
      "cell_type": "markdown",
      "source": [
        "* Delimiter = {}\n",
        "* Information in Disctionaly is saved in Key-Value pairs\n"
      ],
      "metadata": {
        "id": "zfQeMt8E2E9A"
      }
    },
    {
      "cell_type": "code",
      "source": [
        "d = {}\n",
        "type(d)"
      ],
      "metadata": {
        "colab": {
          "base_uri": "https://localhost:8080/"
        },
        "id": "UhUAqm3NkSb7",
        "outputId": "dd45e6d5-19b0-4c87-f894-42afc12d6898"
      },
      "execution_count": null,
      "outputs": [
        {
          "output_type": "execute_result",
          "data": {
            "text/plain": [
              "dict"
            ]
          },
          "metadata": {},
          "execution_count": 1
        }
      ]
    },
    {
      "cell_type": "code",
      "source": [
        "d[1] = \"One\"\n",
        "d[2] = \"Two\"\n",
        "d[3] = \"Three\"\n",
        "d[4] = \"Four\"\n",
        "d"
      ],
      "metadata": {
        "colab": {
          "base_uri": "https://localhost:8080/"
        },
        "id": "ZS9gdhPjkYdE",
        "outputId": "52107b80-e902-4387-e86f-7fb78d3ecf16"
      },
      "execution_count": null,
      "outputs": [
        {
          "output_type": "execute_result",
          "data": {
            "text/plain": [
              "{1: 'One', 2: 'Two', 3: 'Three', 4: 'Four'}"
            ]
          },
          "metadata": {},
          "execution_count": 2
        }
      ]
    },
    {
      "cell_type": "code",
      "source": [
        "d[3]"
      ],
      "metadata": {
        "colab": {
          "base_uri": "https://localhost:8080/",
          "height": 36
        },
        "id": "JMpCq-6LkrJP",
        "outputId": "ed988ee3-c16b-4475-9c6e-2f78d4bd2d09"
      },
      "execution_count": null,
      "outputs": [
        {
          "output_type": "execute_result",
          "data": {
            "text/plain": [
              "'Three'"
            ],
            "application/vnd.google.colaboratory.intrinsic+json": {
              "type": "string"
            }
          },
          "metadata": {},
          "execution_count": 3
        }
      ]
    },
    {
      "cell_type": "code",
      "source": [
        "dir(d)"
      ],
      "metadata": {
        "colab": {
          "base_uri": "https://localhost:8080/"
        },
        "id": "n0uYAsvrks14",
        "outputId": "70503204-22d5-4660-ad10-4d0bc761844c"
      },
      "execution_count": null,
      "outputs": [
        {
          "output_type": "execute_result",
          "data": {
            "text/plain": [
              "['__class__',\n",
              " '__class_getitem__',\n",
              " '__contains__',\n",
              " '__delattr__',\n",
              " '__delitem__',\n",
              " '__dir__',\n",
              " '__doc__',\n",
              " '__eq__',\n",
              " '__format__',\n",
              " '__ge__',\n",
              " '__getattribute__',\n",
              " '__getitem__',\n",
              " '__getstate__',\n",
              " '__gt__',\n",
              " '__hash__',\n",
              " '__init__',\n",
              " '__init_subclass__',\n",
              " '__ior__',\n",
              " '__iter__',\n",
              " '__le__',\n",
              " '__len__',\n",
              " '__lt__',\n",
              " '__ne__',\n",
              " '__new__',\n",
              " '__or__',\n",
              " '__reduce__',\n",
              " '__reduce_ex__',\n",
              " '__repr__',\n",
              " '__reversed__',\n",
              " '__ror__',\n",
              " '__setattr__',\n",
              " '__setitem__',\n",
              " '__sizeof__',\n",
              " '__str__',\n",
              " '__subclasshook__',\n",
              " 'clear',\n",
              " 'copy',\n",
              " 'fromkeys',\n",
              " 'get',\n",
              " 'items',\n",
              " 'keys',\n",
              " 'pop',\n",
              " 'popitem',\n",
              " 'setdefault',\n",
              " 'update',\n",
              " 'values']"
            ]
          },
          "metadata": {},
          "execution_count": 4
        }
      ]
    },
    {
      "cell_type": "code",
      "source": [
        "print(\"Keys: \",d.keys())\n",
        "print(\"Value: \",d.values())\n",
        "print(\"Items: \",d.items())"
      ],
      "metadata": {
        "colab": {
          "base_uri": "https://localhost:8080/"
        },
        "id": "rXwj21Y0k-Ep",
        "outputId": "160ced31-f8e5-4007-d426-8db80390d089"
      },
      "execution_count": null,
      "outputs": [
        {
          "output_type": "stream",
          "name": "stdout",
          "text": [
            "Keys:  dict_keys([1, 2, 3, 4])\n",
            "Value:  dict_values(['One', 'Two', 'Three', 'Four'])\n",
            "Items:  dict_items([(1, 'One'), (2, 'Two'), (3, 'Three'), (4, 'Four')])\n"
          ]
        }
      ]
    },
    {
      "cell_type": "markdown",
      "source": [
        "* Dictionary is a Mutable object.\n",
        "* Key should be immutable."
      ],
      "metadata": {
        "id": "QyOuj2SWlMHX"
      }
    },
    {
      "cell_type": "code",
      "source": [
        "d[\"five\"]  = 5"
      ],
      "metadata": {
        "id": "C5p572gAlRxj"
      },
      "execution_count": null,
      "outputs": []
    },
    {
      "cell_type": "code",
      "source": [
        "d[[1,2]] = [3,5]"
      ],
      "metadata": {
        "colab": {
          "base_uri": "https://localhost:8080/",
          "height": 148
        },
        "id": "hSsw63uzlLbh",
        "outputId": "3e5f3885-a4ed-40a1-c721-b1de0bfab5da"
      },
      "execution_count": null,
      "outputs": [
        {
          "output_type": "error",
          "ename": "TypeError",
          "evalue": "unhashable type: 'list'",
          "traceback": [
            "\u001b[0;31m---------------------------------------------------------------------------\u001b[0m",
            "\u001b[0;31mTypeError\u001b[0m                                 Traceback (most recent call last)",
            "\u001b[0;32m<ipython-input-7-2103646998>\u001b[0m in \u001b[0;36m<cell line: 0>\u001b[0;34m()\u001b[0m\n\u001b[0;32m----> 1\u001b[0;31m \u001b[0md\u001b[0m\u001b[0;34m[\u001b[0m\u001b[0;34m[\u001b[0m\u001b[0;36m1\u001b[0m\u001b[0;34m,\u001b[0m\u001b[0;36m2\u001b[0m\u001b[0;34m]\u001b[0m\u001b[0;34m]\u001b[0m \u001b[0;34m=\u001b[0m \u001b[0;34m[\u001b[0m\u001b[0;36m3\u001b[0m\u001b[0;34m,\u001b[0m\u001b[0;36m5\u001b[0m\u001b[0;34m]\u001b[0m\u001b[0;34m\u001b[0m\u001b[0;34m\u001b[0m\u001b[0m\n\u001b[0m",
            "\u001b[0;31mTypeError\u001b[0m: unhashable type: 'list'"
          ]
        }
      ]
    },
    {
      "cell_type": "code",
      "source": [
        "d[(1,2)] = [3,5]"
      ],
      "metadata": {
        "id": "nNDEbbevm1vZ"
      },
      "execution_count": null,
      "outputs": []
    },
    {
      "cell_type": "markdown",
      "source": [
        "list as key - mutable  Not  allowed\n",
        "Tuple as key - mutable   allowed"
      ],
      "metadata": {
        "id": "Ca1h8gtEm-Ga"
      }
    },
    {
      "cell_type": "markdown",
      "source": [
        "## Example for arranging a word list in decending number of occurances in a paragraph"
      ],
      "metadata": {
        "id": "koU-ulF-ygyN"
      }
    },
    {
      "cell_type": "code",
      "source": [
        "para = \"Why git stash Doesn't Work for Large File Errors git stash only temporarily saves your current working directory and staged changes.  The problem you're facing is that the large files are already committed in your Git history.  GitHub rejects the push because those large files exist in your commit history, not in your current folder.  Even if you:  compress the files  delete the originals  stash and pop changes ➡️ The old versions still exist in your repository history — and that’s what GitHub scans when you push.  \""
      ],
      "metadata": {
        "id": "E1ofUwVxnGsX"
      },
      "execution_count": null,
      "outputs": []
    },
    {
      "cell_type": "code",
      "source": [
        "para"
      ],
      "metadata": {
        "colab": {
          "base_uri": "https://localhost:8080/",
          "height": 147
        },
        "id": "P12J9ZbjnX_v",
        "outputId": "582ca796-290f-4c4e-dee3-aca7affb1421"
      },
      "execution_count": null,
      "outputs": [
        {
          "output_type": "execute_result",
          "data": {
            "text/plain": [
              "\"Why git stash Doesn't Work for Large File Errors git stash only temporarily saves your current working directory and staged changes.  The problem you're facing is that the large files are already committed in your Git history.  GitHub rejects the push because those large files exist in your commit history, not in your current folder.  Even if you:  compress the files  delete the originals  stash and pop changes ➡️ The old versions still exist in your repository history — and that’s what GitHub scans when you push.  \""
            ],
            "application/vnd.google.colaboratory.intrinsic+json": {
              "type": "string"
            }
          },
          "metadata": {},
          "execution_count": 4
        }
      ]
    },
    {
      "cell_type": "code",
      "source": [
        "type(para)"
      ],
      "metadata": {
        "colab": {
          "base_uri": "https://localhost:8080/"
        },
        "id": "Vsmx_XG9nuh3",
        "outputId": "1b19c4f3-713a-4895-baf6-e0d975b6b471"
      },
      "execution_count": null,
      "outputs": [
        {
          "output_type": "execute_result",
          "data": {
            "text/plain": [
              "str"
            ]
          },
          "metadata": {},
          "execution_count": 13
        }
      ]
    },
    {
      "cell_type": "code",
      "source": [
        "para.count(\"you\")"
      ],
      "metadata": {
        "colab": {
          "base_uri": "https://localhost:8080/"
        },
        "id": "ZzzH2cQ7n-34",
        "outputId": "c0eb7806-422c-427b-859f-478bc21bd4bc"
      },
      "execution_count": null,
      "outputs": [
        {
          "output_type": "execute_result",
          "data": {
            "text/plain": [
              "8"
            ]
          },
          "metadata": {},
          "execution_count": 16
        }
      ]
    },
    {
      "cell_type": "code",
      "source": [
        "d = {}\n",
        "d[1] = \"One\"\n",
        "d[2] = \"Two\"\n",
        "d[3] = \"Three\"\n",
        "d[4] = \"Four\"\n",
        "\n",
        "d.keys\n",
        "for keys in d:\n",
        "  if keys == 4:\n",
        "    print(keys)\n"
      ],
      "metadata": {
        "colab": {
          "base_uri": "https://localhost:8080/"
        },
        "id": "TyVo2RIfqtS1",
        "outputId": "7599ef43-56a4-4776-d018-29787c0e5f81"
      },
      "execution_count": null,
      "outputs": [
        {
          "output_type": "stream",
          "name": "stdout",
          "text": [
            "4\n"
          ]
        }
      ]
    },
    {
      "cell_type": "code",
      "source": [
        "\n",
        "strdict = {}\n",
        "\n",
        "para = para.lower()\n",
        "strsegs = para.split()\n",
        "for word in strsegs:\n",
        "  if word in  strdict.keys():\n",
        "    strdict[word] += 1\n",
        "  else:\n",
        "    strdict[word] = 1\n",
        "\n",
        "print(strdict)\n"
      ],
      "metadata": {
        "colab": {
          "base_uri": "https://localhost:8080/"
        },
        "id": "XeAIsqQsp8vx",
        "outputId": "0cb17730-4e2a-4de1-8970-2f870ed64bfa"
      },
      "execution_count": null,
      "outputs": [
        {
          "output_type": "stream",
          "name": "stdout",
          "text": [
            "{'why': 1, 'git': 3, 'stash': 3, \"doesn't\": 1, 'work': 1, 'for': 1, 'large': 3, 'file': 1, 'errors': 1, 'only': 1, 'temporarily': 1, 'saves': 1, 'your': 5, 'current': 2, 'working': 1, 'directory': 1, 'and': 3, 'staged': 1, 'changes.': 1, 'the': 6, 'problem': 1, \"you're\": 1, 'facing': 1, 'is': 1, 'that': 1, 'files': 3, 'are': 1, 'already': 1, 'committed': 1, 'in': 4, 'history.': 1, 'github': 2, 'rejects': 1, 'push': 1, 'because': 1, 'those': 1, 'exist': 2, 'commit': 1, 'history,': 1, 'not': 1, 'folder.': 1, 'even': 1, 'if': 1, 'you:': 1, 'compress': 1, 'delete': 1, 'originals': 1, 'pop': 1, 'changes': 1, '➡️': 1, 'old': 1, 'versions': 1, 'still': 1, 'repository': 1, 'history': 1, '—': 1, 'that’s': 1, 'what': 1, 'scans': 1, 'when': 1, 'you': 1, 'push.': 1}\n"
          ]
        }
      ]
    },
    {
      "cell_type": "code",
      "source": [
        "strstr ="
      ],
      "metadata": {
        "id": "hHQNUxp5xjGF"
      },
      "execution_count": null,
      "outputs": []
    },
    {
      "cell_type": "code",
      "source": [
        "strlist = list(strdict.items())\n",
        "strlist"
      ],
      "metadata": {
        "id": "FgnYzBp4xM7x"
      },
      "execution_count": null,
      "outputs": []
    },
    {
      "cell_type": "code",
      "source": [
        "def cussort(t):\n",
        "  return(t[-1])"
      ],
      "metadata": {
        "id": "PFllqVlywpnT"
      },
      "execution_count": null,
      "outputs": []
    },
    {
      "cell_type": "code",
      "source": [
        "print(cussort(('test',9)))"
      ],
      "metadata": {
        "colab": {
          "base_uri": "https://localhost:8080/"
        },
        "id": "q-HQopENx6Fy",
        "outputId": "53938843-8bc5-4b9b-800b-5bb2cfc1dc50"
      },
      "execution_count": null,
      "outputs": [
        {
          "output_type": "stream",
          "name": "stdout",
          "text": [
            "9\n"
          ]
        }
      ]
    },
    {
      "cell_type": "code",
      "source": [
        "strlist.sort(key = cussort, reverse = True)\n",
        "strlist"
      ],
      "metadata": {
        "colab": {
          "base_uri": "https://localhost:8080/"
        },
        "id": "QbzLqqgiyXOP",
        "outputId": "a5d702f4-d4db-49a1-b7b6-6c714651f1ae"
      },
      "execution_count": null,
      "outputs": [
        {
          "output_type": "execute_result",
          "data": {
            "text/plain": [
              "[('the', 6),\n",
              " ('your', 5),\n",
              " ('in', 4),\n",
              " ('git', 3),\n",
              " ('stash', 3),\n",
              " ('large', 3),\n",
              " ('and', 3),\n",
              " ('files', 3),\n",
              " ('current', 2),\n",
              " ('github', 2),\n",
              " ('exist', 2),\n",
              " ('why', 1),\n",
              " (\"doesn't\", 1),\n",
              " ('work', 1),\n",
              " ('for', 1),\n",
              " ('file', 1),\n",
              " ('errors', 1),\n",
              " ('only', 1),\n",
              " ('temporarily', 1),\n",
              " ('saves', 1),\n",
              " ('working', 1),\n",
              " ('directory', 1),\n",
              " ('staged', 1),\n",
              " ('changes.', 1),\n",
              " ('problem', 1),\n",
              " (\"you're\", 1),\n",
              " ('facing', 1),\n",
              " ('is', 1),\n",
              " ('that', 1),\n",
              " ('are', 1),\n",
              " ('already', 1),\n",
              " ('committed', 1),\n",
              " ('history.', 1),\n",
              " ('rejects', 1),\n",
              " ('push', 1),\n",
              " ('because', 1),\n",
              " ('those', 1),\n",
              " ('commit', 1),\n",
              " ('history,', 1),\n",
              " ('not', 1),\n",
              " ('folder.', 1),\n",
              " ('even', 1),\n",
              " ('if', 1),\n",
              " ('you:', 1),\n",
              " ('compress', 1),\n",
              " ('delete', 1),\n",
              " ('originals', 1),\n",
              " ('pop', 1),\n",
              " ('changes', 1),\n",
              " ('➡️', 1),\n",
              " ('old', 1),\n",
              " ('versions', 1),\n",
              " ('still', 1),\n",
              " ('repository', 1),\n",
              " ('history', 1),\n",
              " ('—', 1),\n",
              " ('that’s', 1),\n",
              " ('what', 1),\n",
              " ('scans', 1),\n",
              " ('when', 1),\n",
              " ('you', 1),\n",
              " ('push.', 1)]"
            ]
          },
          "metadata": {},
          "execution_count": 23
        }
      ]
    },
    {
      "cell_type": "code",
      "source": [
        "strlist[:5]"
      ],
      "metadata": {
        "colab": {
          "base_uri": "https://localhost:8080/"
        },
        "id": "xKCqut8S0Jfh",
        "outputId": "c09457a4-7325-4c59-9efe-28c409900f9c"
      },
      "execution_count": null,
      "outputs": [
        {
          "output_type": "execute_result",
          "data": {
            "text/plain": [
              "[('the', 6), ('your', 5), ('in', 4), ('git', 3), ('stash', 3)]"
            ]
          },
          "metadata": {},
          "execution_count": 24
        }
      ]
    },
    {
      "cell_type": "markdown",
      "source": [
        "# **Control Flow Constructs**"
      ],
      "metadata": {
        "id": "FtaB02Or0StL"
      }
    },
    {
      "cell_type": "markdown",
      "source": [
        "In General,\n",
        "\n",
        "**For** is Count based.\n",
        "\n",
        "**While** is condition based.\n",
        "\n",
        "\n"
      ],
      "metadata": {
        "id": "Wh9jibLJ07s0"
      }
    },
    {
      "cell_type": "code",
      "source": [
        "l = [1,2,3,5,7,9,11,13,15,17]\n",
        "\n",
        "for i in l:\n",
        "  if i % 2 ==0 :\n",
        "    print(\"Even number found.\")\n",
        "    break\n",
        "\n",
        "#This is else of \"for\" and not \"if\"\n",
        "else:\n",
        "   print(\"All Odd numbers.\")"
      ],
      "metadata": {
        "colab": {
          "base_uri": "https://localhost:8080/"
        },
        "id": "C9QV6_SA1uFF",
        "outputId": "05af9daf-7cc3-4d41-a02d-898057a24948"
      },
      "execution_count": null,
      "outputs": [
        {
          "output_type": "stream",
          "name": "stdout",
          "text": [
            "Even number found.\n"
          ]
        }
      ]
    },
    {
      "cell_type": "code",
      "source": [
        "l = [1,3,5,7,9,11,13,15,17]\n",
        "\n",
        "for i in l:\n",
        "  if i % 2 ==0 :\n",
        "    print(\"Even number found.\")\n",
        "    break\n",
        "\n",
        "#This is else of \"for\" and not \"if\"\n",
        "else:\n",
        "   print(\"All Odd numbers.\")"
      ],
      "metadata": {
        "colab": {
          "base_uri": "https://localhost:8080/"
        },
        "id": "r_t7fGBB2abQ",
        "outputId": "1c1a2b70-4da6-4ef8-e4c8-2b30215207b1"
      },
      "execution_count": null,
      "outputs": [
        {
          "output_type": "stream",
          "name": "stdout",
          "text": [
            "All Odd numbers.\n"
          ]
        }
      ]
    },
    {
      "cell_type": "markdown",
      "source": [
        "So , if the **for** loop is executed without encountering Break, **else** is exeuted."
      ],
      "metadata": {
        "id": "TKf_Lrj41urw"
      }
    },
    {
      "cell_type": "markdown",
      "source": [
        "## Comprehnsion Statements"
      ],
      "metadata": {
        "id": "vQaQQgI944z_"
      }
    },
    {
      "cell_type": "markdown",
      "source": [
        "\n",
        "### 🧠 Comprehension Statements in Python\n",
        "\n",
        "Comprehension statements provide a **short and elegant** way to create **new sequences** (lists, sets, dicts) from existing iterables.\n",
        "\n",
        "---\n",
        "\n",
        "### 1. ✅ **List Comprehension**\n",
        "\n",
        "**Syntax**:\n",
        "\n",
        "```python\n",
        "[expression for item in iterable if condition]\n",
        "```\n",
        "\n",
        "**Example**:\n",
        "\n",
        "```python\n",
        "squares = [x*x for x in range(5)]       # [0, 1, 4, 9, 16]\n",
        "evens = [x for x in range(10) if x%2==0]  # [0, 2, 4, 6, 8]\n",
        "```\n",
        "\n",
        "---\n",
        "\n",
        "### 2. 🧩 **Set Comprehension**\n",
        "\n",
        "**Syntax**:\n",
        "\n",
        "```python\n",
        "{expression for item in iterable if condition}\n",
        "```\n",
        "\n",
        "**Example**:\n",
        "\n",
        "```python\n",
        "unique_lengths = {len(word) for word in [\"apple\", \"banana\", \"pear\", \"apple\"]}\n",
        "# Output: {4, 5, 6}\n",
        "```\n",
        "\n",
        "---\n",
        "\n",
        "### 3. 🔑 **Dictionary Comprehension**\n",
        "\n",
        "**Syntax**:\n",
        "\n",
        "```python\n",
        "{key_expr: value_expr for item in iterable if condition}\n",
        "```\n",
        "\n",
        "**Example**:\n",
        "\n",
        "```python\n",
        "squares = {x: x*x for x in range(5)}\n",
        "# Output: {0: 0, 1: 1, 2: 4, 3: 9, 4: 16}\n",
        "```\n",
        "\n",
        "---\n",
        "\n",
        "### 4. 🧵 **Nested Comprehension**\n",
        "\n",
        "**Example**: 2D Matrix flattening\n",
        "\n",
        "```python\n",
        "matrix = [[1, 2], [3, 4]]\n",
        "flat = [num for row in matrix for num in row]\n",
        "# Output: [1, 2, 3, 4]\n",
        "```\n",
        "\n",
        "---\n",
        "\n",
        "### 5. ⚙️ **Generator Expression**\n",
        "\n",
        "Same syntax as list comprehension but with `()` instead of `[]`.\n",
        "\n",
        "**Example**:\n",
        "\n",
        "```python\n",
        "gen = (x*x for x in range(5))\n",
        "next(gen)   # 0, then 1, then 4, ...\n",
        "```\n",
        "\n",
        "Uses **less memory** — ideal for large data or streaming.\n",
        "\n",
        "---\n",
        "\n",
        "### ✅ When to Use?\n",
        "\n",
        "| Comprehension Type | Use When                       |\n",
        "| ------------------ | ------------------------------ |\n",
        "| List               | You want an ordered collection |\n",
        "| Set                | You want **unique** values     |\n",
        "| Dict               | You want key–value pairs       |\n",
        "| Generator          | You want to **save memory**    |\n",
        "\n",
        "---\n"
      ],
      "metadata": {
        "id": "Zd3Cb0cIouD_"
      }
    },
    {
      "cell_type": "code",
      "source": [
        "[2**i for i in range (0,12)]"
      ],
      "metadata": {
        "colab": {
          "base_uri": "https://localhost:8080/"
        },
        "id": "JcNHNRQu4_1m",
        "outputId": "1d3edf96-372f-4d0e-ca9d-da5ff77381d5"
      },
      "execution_count": null,
      "outputs": [
        {
          "output_type": "execute_result",
          "data": {
            "text/plain": [
              "[1, 2, 4, 8, 16, 32, 64, 128, 256, 512, 1024, 2048]"
            ]
          },
          "metadata": {},
          "execution_count": 34
        }
      ]
    },
    {
      "cell_type": "code",
      "source": [
        "{2**i for i in range (0,12)}"
      ],
      "metadata": {
        "colab": {
          "base_uri": "https://localhost:8080/"
        },
        "id": "g18mLlyV4pcy",
        "outputId": "f4e37cdb-c164-4803-dcdf-b1aa5afd7ba4"
      },
      "execution_count": null,
      "outputs": [
        {
          "output_type": "execute_result",
          "data": {
            "text/plain": [
              "{1, 2, 4, 8, 16, 32, 64, 128, 256, 512, 1024, 2048}"
            ]
          },
          "metadata": {},
          "execution_count": 33
        }
      ]
    },
    {
      "cell_type": "code",
      "source": [
        "[(i%3==0 and i%5==0) for i in range (0,50)]"
      ],
      "metadata": {
        "colab": {
          "base_uri": "https://localhost:8080/"
        },
        "id": "G9uhSKEL73EP",
        "outputId": "dcd18544-a446-4817-f299-9b32a55e6a3c"
      },
      "execution_count": null,
      "outputs": [
        {
          "output_type": "execute_result",
          "data": {
            "text/plain": [
              "[True,\n",
              " False,\n",
              " False,\n",
              " False,\n",
              " False,\n",
              " False,\n",
              " False,\n",
              " False,\n",
              " False,\n",
              " False,\n",
              " False,\n",
              " False,\n",
              " False,\n",
              " False,\n",
              " False,\n",
              " True,\n",
              " False,\n",
              " False,\n",
              " False,\n",
              " False,\n",
              " False,\n",
              " False,\n",
              " False,\n",
              " False,\n",
              " False,\n",
              " False,\n",
              " False,\n",
              " False,\n",
              " False,\n",
              " False,\n",
              " True,\n",
              " False,\n",
              " False,\n",
              " False,\n",
              " False,\n",
              " False,\n",
              " False,\n",
              " False,\n",
              " False,\n",
              " False,\n",
              " False,\n",
              " False,\n",
              " False,\n",
              " False,\n",
              " False,\n",
              " True,\n",
              " False,\n",
              " False,\n",
              " False,\n",
              " False]"
            ]
          },
          "metadata": {},
          "execution_count": 56
        }
      ]
    },
    {
      "cell_type": "code",
      "source": [
        "[i for i in range (0,50) if(i%3==0 and i%5==0)]"
      ],
      "metadata": {
        "colab": {
          "base_uri": "https://localhost:8080/"
        },
        "id": "zsM8jD9l8LuR",
        "outputId": "22f119ee-9c54-48b4-c1ba-c52ca3b620f0"
      },
      "execution_count": null,
      "outputs": [
        {
          "output_type": "execute_result",
          "data": {
            "text/plain": [
              "[0, 15, 30, 45]"
            ]
          },
          "metadata": {},
          "execution_count": 58
        }
      ]
    },
    {
      "cell_type": "code",
      "source": [
        "(i for i in range (0,50) if(i%3==0 and i%5==0))"
      ],
      "metadata": {
        "colab": {
          "base_uri": "https://localhost:8080/"
        },
        "id": "ej3V0Utu-He6",
        "outputId": "9389fdf6-904a-4fb9-82e8-1ce018442fa0"
      },
      "execution_count": null,
      "outputs": [
        {
          "output_type": "execute_result",
          "data": {
            "text/plain": [
              "<generator object <genexpr> at 0x7e7cc3779970>"
            ]
          },
          "metadata": {},
          "execution_count": 59
        }
      ]
    },
    {
      "cell_type": "code",
      "source": [
        "tuple(i for i in range (0,50) if(i%3==0 and i%5==0))"
      ],
      "metadata": {
        "colab": {
          "base_uri": "https://localhost:8080/"
        },
        "id": "vCucGnRU-J_2",
        "outputId": "d79f5b37-826c-41f4-c906-c6f25c4ebb2d"
      },
      "execution_count": null,
      "outputs": [
        {
          "output_type": "execute_result",
          "data": {
            "text/plain": [
              "(0, 15, 30, 45)"
            ]
          },
          "metadata": {},
          "execution_count": 60
        }
      ]
    },
    {
      "cell_type": "code",
      "source": [
        "dic = {\"a\":1,\"b\":2,\"c\":3,\"d\":4,\"e\":5}\n",
        "dic"
      ],
      "metadata": {
        "colab": {
          "base_uri": "https://localhost:8080/"
        },
        "id": "IlaqXcUe-dp1",
        "outputId": "1e454f1e-46d8-4fdd-a094-3b2691745b50"
      },
      "execution_count": null,
      "outputs": [
        {
          "output_type": "execute_result",
          "data": {
            "text/plain": [
              "{'a': 1, 'b': 2, 'c': 3, 'd': 4, 'e': 5}"
            ]
          },
          "metadata": {},
          "execution_count": 62
        }
      ]
    },
    {
      "cell_type": "code",
      "source": [
        "dic2 = {key:value*10 for key,value in dic.items()}\n",
        "print(dic)\n",
        "print(dic2)"
      ],
      "metadata": {
        "colab": {
          "base_uri": "https://localhost:8080/"
        },
        "id": "Mjryz2GE-x0_",
        "outputId": "b2146da9-e14b-4bb1-fa0d-013e9a7a8603"
      },
      "execution_count": null,
      "outputs": [
        {
          "output_type": "stream",
          "name": "stdout",
          "text": [
            "{'a': 1, 'b': 2, 'c': 3, 'd': 4, 'e': 5}\n",
            "{'a': 10, 'b': 20, 'c': 30, 'd': 40, 'e': 50}\n"
          ]
        }
      ]
    },
    {
      "cell_type": "code",
      "source": [
        "import string\n",
        "\n",
        "string.ascii_lowercase"
      ],
      "metadata": {
        "colab": {
          "base_uri": "https://localhost:8080/",
          "height": 36
        },
        "id": "dLoNdFcLligu",
        "outputId": "aa8af879-f54e-4c78-e1a6-7d47485d1262"
      },
      "execution_count": null,
      "outputs": [
        {
          "output_type": "execute_result",
          "data": {
            "text/plain": [
              "'abcdefghijklmnopqrstuvwxyz'"
            ],
            "application/vnd.google.colaboratory.intrinsic+json": {
              "type": "string"
            }
          },
          "metadata": {},
          "execution_count": 3
        }
      ]
    },
    {
      "cell_type": "code",
      "source": [],
      "metadata": {
        "id": "zX2xaXrhmvwA"
      },
      "execution_count": null,
      "outputs": []
    },
    {
      "cell_type": "code",
      "source": [
        "{string.ascii_letters[i]:ord(string.ascii_letters[i]) for i in range(0,26)}\n"
      ],
      "metadata": {
        "colab": {
          "base_uri": "https://localhost:8080/"
        },
        "id": "qO0PxnW8l3XD",
        "outputId": "6421345e-63d0-4ffe-ccf1-32f454bea66e"
      },
      "execution_count": null,
      "outputs": [
        {
          "output_type": "execute_result",
          "data": {
            "text/plain": [
              "{'a': 97,\n",
              " 'b': 98,\n",
              " 'c': 99,\n",
              " 'd': 100,\n",
              " 'e': 101,\n",
              " 'f': 102,\n",
              " 'g': 103,\n",
              " 'h': 104,\n",
              " 'i': 105,\n",
              " 'j': 106,\n",
              " 'k': 107,\n",
              " 'l': 108,\n",
              " 'm': 109,\n",
              " 'n': 110,\n",
              " 'o': 111,\n",
              " 'p': 112,\n",
              " 'q': 113,\n",
              " 'r': 114,\n",
              " 's': 115,\n",
              " 't': 116,\n",
              " 'u': 117,\n",
              " 'v': 118,\n",
              " 'w': 119,\n",
              " 'x': 120,\n",
              " 'y': 121,\n",
              " 'z': 122}"
            ]
          },
          "metadata": {},
          "execution_count": 10
        }
      ]
    },
    {
      "cell_type": "code",
      "source": [
        "dir('')"
      ],
      "metadata": {
        "colab": {
          "base_uri": "https://localhost:8080/"
        },
        "id": "eoxfbbsenHyG",
        "outputId": "29a71a0a-bd72-4ce6-9f39-c7880176e4fc"
      },
      "execution_count": null,
      "outputs": [
        {
          "output_type": "execute_result",
          "data": {
            "text/plain": [
              "['__add__',\n",
              " '__class__',\n",
              " '__contains__',\n",
              " '__delattr__',\n",
              " '__dir__',\n",
              " '__doc__',\n",
              " '__eq__',\n",
              " '__format__',\n",
              " '__ge__',\n",
              " '__getattribute__',\n",
              " '__getitem__',\n",
              " '__getnewargs__',\n",
              " '__getstate__',\n",
              " '__gt__',\n",
              " '__hash__',\n",
              " '__init__',\n",
              " '__init_subclass__',\n",
              " '__iter__',\n",
              " '__le__',\n",
              " '__len__',\n",
              " '__lt__',\n",
              " '__mod__',\n",
              " '__mul__',\n",
              " '__ne__',\n",
              " '__new__',\n",
              " '__reduce__',\n",
              " '__reduce_ex__',\n",
              " '__repr__',\n",
              " '__rmod__',\n",
              " '__rmul__',\n",
              " '__setattr__',\n",
              " '__sizeof__',\n",
              " '__str__',\n",
              " '__subclasshook__',\n",
              " 'capitalize',\n",
              " 'casefold',\n",
              " 'center',\n",
              " 'count',\n",
              " 'encode',\n",
              " 'endswith',\n",
              " 'expandtabs',\n",
              " 'find',\n",
              " 'format',\n",
              " 'format_map',\n",
              " 'index',\n",
              " 'isalnum',\n",
              " 'isalpha',\n",
              " 'isascii',\n",
              " 'isdecimal',\n",
              " 'isdigit',\n",
              " 'isidentifier',\n",
              " 'islower',\n",
              " 'isnumeric',\n",
              " 'isprintable',\n",
              " 'isspace',\n",
              " 'istitle',\n",
              " 'isupper',\n",
              " 'join',\n",
              " 'ljust',\n",
              " 'lower',\n",
              " 'lstrip',\n",
              " 'maketrans',\n",
              " 'partition',\n",
              " 'removeprefix',\n",
              " 'removesuffix',\n",
              " 'replace',\n",
              " 'rfind',\n",
              " 'rindex',\n",
              " 'rjust',\n",
              " 'rpartition',\n",
              " 'rsplit',\n",
              " 'rstrip',\n",
              " 'split',\n",
              " 'splitlines',\n",
              " 'startswith',\n",
              " 'strip',\n",
              " 'swapcase',\n",
              " 'title',\n",
              " 'translate',\n",
              " 'upper',\n",
              " 'zfill']"
            ]
          },
          "metadata": {},
          "execution_count": 11
        }
      ]
    },
    {
      "cell_type": "code",
      "source": [
        "str=\"A brown fox jumps on Dog.\"\n",
        "strseg = str.split()\n",
        "strseg"
      ],
      "metadata": {
        "colab": {
          "base_uri": "https://localhost:8080/"
        },
        "id": "abVLARUIqoEO",
        "outputId": "7758fc20-3cf5-4f11-ce5e-b24930c4721b"
      },
      "execution_count": null,
      "outputs": [
        {
          "output_type": "execute_result",
          "data": {
            "text/plain": [
              "['A', 'brown', 'fox', 'jumps', 'on', 'Dog.']"
            ]
          },
          "metadata": {},
          "execution_count": 40
        }
      ]
    },
    {
      "cell_type": "code",
      "source": [
        "tuple((word.upper(),word.lower(),len(word)) for word in strseg)\n"
      ],
      "metadata": {
        "colab": {
          "base_uri": "https://localhost:8080/"
        },
        "id": "urMm_JturVW7",
        "outputId": "95eab7e6-4117-4714-ee8a-fc7ca91e46b1"
      },
      "execution_count": null,
      "outputs": [
        {
          "output_type": "execute_result",
          "data": {
            "text/plain": [
              "(('A', 'a', 1),\n",
              " ('BROWN', 'brown', 5),\n",
              " ('FOX', 'fox', 3),\n",
              " ('JUMPS', 'jumps', 5),\n",
              " ('ON', 'on', 2),\n",
              " ('DOG.', 'dog.', 4))"
            ]
          },
          "metadata": {},
          "execution_count": 48
        }
      ]
    },
    {
      "cell_type": "code",
      "source": [
        "[(word.upper(),word.lower(),len(word)) for word in strseg]"
      ],
      "metadata": {
        "colab": {
          "base_uri": "https://localhost:8080/"
        },
        "id": "YEiRboYiubC8",
        "outputId": "96b6f599-a283-43c6-9198-9e3116d1f338"
      },
      "execution_count": null,
      "outputs": [
        {
          "output_type": "execute_result",
          "data": {
            "text/plain": [
              "[('A', 'a', 1),\n",
              " ('BROWN', 'brown', 5),\n",
              " ('FOX', 'fox', 3),\n",
              " ('JUMPS', 'jumps', 5),\n",
              " ('ON', 'on', 2),\n",
              " ('DOG.', 'dog.', 4)]"
            ]
          },
          "metadata": {},
          "execution_count": 46
        }
      ]
    },
    {
      "cell_type": "markdown",
      "source": [
        "## 🧵 Python Generator Functions"
      ],
      "metadata": {
        "id": "pAE0TNyvvuqZ"
      }
    },
    {
      "cell_type": "markdown",
      "source": [
        "\n",
        "\n",
        "---\n",
        "\n",
        "### ✅ What is a Generator Function?\n",
        "\n",
        "A **generator function** is a special function that **returns an iterator** using the `yield` keyword.\n",
        "\n",
        "It **yields values one at a time**, **pausing** after each value instead of returning everything at once.\n",
        "\n",
        "---\n",
        "\n",
        "### 🧪 Syntax:\n",
        "\n",
        "```python\n",
        "def my_generator():\n",
        "    yield value1\n",
        "    yield value2\n",
        "```\n",
        "\n",
        "Unlike `return`, which exits the function, `yield` **pauses** the function and **remembers its state** for the next call.\n",
        "\n",
        "---\n",
        "\n",
        "### 🧠 How to Use:\n",
        "\n",
        "```python\n",
        "def count_up_to(n):\n",
        "    i = 1\n",
        "    while i <= n:\n",
        "        yield i\n",
        "        i += 1\n",
        "\n",
        "gen = count_up_to(3)\n",
        "print(next(gen))   # 1\n",
        "print(next(gen))   # 2\n",
        "print(next(gen))   # 3\n",
        "```\n",
        "\n",
        "You can also use it in a loop:\n",
        "\n",
        "```python\n",
        "for num in count_up_to(3):\n",
        "    print(num)\n",
        "```\n",
        "\n",
        "---\n",
        "\n",
        "### ⚙️ When to Use Generator Functions\n",
        "\n",
        "Use when:\n",
        "\n",
        "* You need to **generate large sequences**\n",
        "* You want to **save memory**\n",
        "* You want to **compute values only when needed**\n",
        "\n",
        "---\n",
        "\n",
        "### 📦 Real Example: Even Numbers Generator\n",
        "\n",
        "```python\n",
        "def even_numbers(n):\n",
        "    for i in range(n):\n",
        "        if i % 2 == 0:\n",
        "            yield i\n",
        "```\n",
        "\n",
        "---\n",
        "\n",
        "### 🔄 Difference from Normal Function\n",
        "\n",
        "| Feature      | Normal Function (`return`) | Generator Function (`yield`) |\n",
        "| ------------ | -------------------------- | ---------------------------- |\n",
        "| Returns      | One final value            | Yields multiple values       |\n",
        "| Memory usage | High (stores all)          | Low (one at a time)          |\n",
        "| Execution    | Exits after `return`       | Pauses after `yield`         |\n",
        "| Use case     | All data needed at once    | Data needed one-by-one       |\n",
        "\n",
        "---\n",
        "\n",
        "### 💡 Analogy\n",
        "\n",
        "> **Normal function** is like downloading a full movie.\n",
        "> **Generator function** is like streaming — you get parts **only when needed**.\n",
        "\n",
        "---\n",
        "\n",
        "### 🧪 Bonus: Converting to List\n",
        "\n",
        "```python\n",
        "list(even_numbers(10))\n",
        "# Output: [0, 2, 4, 6, 8]\n",
        "```\n"
      ],
      "metadata": {
        "id": "2zrjBs8bvkGX"
      }
    },
    {
      "cell_type": "code",
      "source": [],
      "metadata": {
        "colab": {
          "base_uri": "https://localhost:8080/",
          "height": 111
        },
        "id": "UUiQrmxatqoT",
        "outputId": "fbcda253-c2f0-4d16-c98c-b46c5a7b80e6"
      },
      "execution_count": null,
      "outputs": [
        {
          "output_type": "error",
          "ename": "SyntaxError",
          "evalue": "invalid syntax (<ipython-input-38-3137284214>, line 1)",
          "traceback": [
            "\u001b[0;36m  File \u001b[0;32m\"<ipython-input-38-3137284214>\"\u001b[0;36m, line \u001b[0;32m1\u001b[0m\n\u001b[0;31m    (word.upper(), word.lower(), len(word)) for word in strseg\u001b[0m\n\u001b[0m                                            ^\u001b[0m\n\u001b[0;31mSyntaxError\u001b[0m\u001b[0;31m:\u001b[0m invalid syntax\n"
          ]
        }
      ]
    },
    {
      "cell_type": "markdown",
      "source": [
        "# **Types of Functions in Python**"
      ],
      "metadata": {
        "id": "PtX8X5h8n8Ze"
      }
    },
    {
      "cell_type": "markdown",
      "source": [
        "## 🧠 Types of Functions in Python\n",
        "\n",
        "Python provides different kinds of functions, based on where and how they are defined or used.\n",
        "\n",
        "---\n",
        "\n",
        "### 1. ✅ **Built-in Functions**\n",
        "\n",
        "* Predefined functions available **without importing** any module.\n",
        "* Work globally across any Python code.\n",
        "\n",
        "**Examples**:\n",
        "`print()`, `len()`, `ord()`, `abs()`, `sum()`, `type()`\n",
        "\n",
        "**View them with**:\n",
        "\n",
        "```python\n",
        "dir(__builtins__)\n",
        "```\n",
        "\n",
        "---\n",
        "\n",
        "### 2. 🧱 **User-Defined Functions**\n",
        "\n",
        "* Functions created by the programmer using `def`.\n",
        "\n",
        "**Syntax**:\n",
        "\n",
        "```python\n",
        "def greet(name):\n",
        "    return \"Hello, \" + name\n",
        "```\n",
        "\n",
        "---\n",
        "\n",
        "### 3. 🧩 **Object Methods (Class Functions)**\n",
        "\n",
        "* Functions that belong to **objects** or **data types** like strings, lists, etc.\n",
        "* Called using dot `.` notation.\n",
        "\n",
        "**Examples**:\n",
        "\n",
        "```python\n",
        "\"hello\".upper()      # 'HELLO'\n",
        "[1, 2, 3].append(4)  # [1, 2, 3, 4]\n",
        "```\n",
        "\n",
        "**View using**:\n",
        "\n",
        "```python\n",
        "dir(\"hello\")\n",
        "dir([])\n",
        "```\n",
        "\n",
        "---\n",
        "\n",
        "### 4. 📦 **Module Functions**\n",
        "\n",
        "* Functions defined inside **modules** and used **after importing** the module.\n",
        "\n",
        "**Examples**:\n",
        "\n",
        "```python\n",
        "import math\n",
        "math.sqrt(25)   # 5.0\n",
        "```\n",
        "\n",
        "**Popular Modules**: `math`, `random`, `datetime`, `os`\n",
        "\n",
        "---\n",
        "\n",
        "### 5. ⚡ **Lambda Functions (Anonymous)**\n",
        "\n",
        "* Small, one-line functions without a name.\n",
        "* Often used for short, temporary operations.\n",
        "\n",
        "**Syntax**:\n",
        "\n",
        "```python\n",
        "square = lambda x: x * x\n",
        "square(5)       # 25\n",
        "```\n",
        "\n",
        "---\n",
        "\n",
        "### Summary Table\n",
        "\n",
        "| Function Type   | Where it Comes From       | Example            |\n",
        "| --------------- | ------------------------- | ------------------ |\n",
        "| Built-in        | Python core               | `len(\"abc\")`       |\n",
        "| User-defined    | You define with `def`     | `def greet(): ...` |\n",
        "| Object Method   | Part of objects           | `\"abc\".upper()`    |\n",
        "| Module Function | After `import` statement  | `math.sqrt(4)`     |\n",
        "| Lambda Function | Inline anonymous function | `lambda x: x+1`    |\n",
        "\n",
        "---\n"
      ],
      "metadata": {
        "id": "nGV23lnmn5I7"
      }
    }
  ]
}