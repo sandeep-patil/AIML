{
  "nbformat": 4,
  "nbformat_minor": 0,
  "metadata": {
    "colab": {
      "provenance": []
    },
    "kernelspec": {
      "name": "python3",
      "display_name": "Python 3"
    },
    "language_info": {
      "name": "python"
    }
  },
  "cells": [
    {
      "cell_type": "markdown",
      "source": [
        "# 1. Compiled Vs Interpretted\n",
        "\n",
        "**Compiled** :\n",
        "* Preprocess the instructions and create an executable which is ready to execute.\n",
        "\n",
        "* Faster. Important when speed of execution is critical\n",
        "\n",
        "* Compilation step is platform dependent\n",
        "\n",
        "\n",
        "**Interpretted**:\n",
        "\n",
        "* Processes instructions line by line during execution. Don't have build step.\n",
        "\n",
        "* NO PLATORM specific preprocessing.\n",
        "\n",
        "\n",
        "-----------------------------------------\n",
        "\n",
        "\n",
        "Python is using Hybrid Approach.\n",
        "\n",
        "**Step 1** : High level instructions(*.py) -> Byte-code equivalent(*.pyc)\n",
        "* Platform independent\n",
        "\n",
        "**Step -2** : Byte-code Instruction -> Python Virtual Machine(PVM)->Interpret and execute\n",
        "\n",
        "\n",
        "-------------------------------------------\n",
        "\n",
        "Code blocks segragated using White space.\n",
        "\n"
      ],
      "metadata": {
        "id": "QWcDbc3Fjqd5"
      }
    },
    {
      "cell_type": "markdown",
      "source": [
        "# 2. Storage and Access\n",
        "\n"
      ],
      "metadata": {
        "id": "7RaQ5k8QnlEn"
      }
    },
    {
      "cell_type": "markdown",
      "source": [
        "* Python data is represented by **Objects**\n",
        "* Every python Object has 3 things associated with it :\n",
        "\n",
        "      1.  Value\n",
        "      2.  Type\n",
        "      3.  ID\n",
        "\n",
        "\n",
        "* Python doen't store pointers. So we cannot use any memory address to access some value.\n",
        "\n",
        "* Python object is stored in **Heap**\n",
        "\n",
        "* Based on where object is stored on heap, its ID value is determined and its associated with that oject throughout life time.\n",
        "\n",
        "\n"
      ],
      "metadata": {
        "id": "C0JQcKWCp2Id"
      }
    },
    {
      "cell_type": "code",
      "execution_count": null,
      "metadata": {
        "colab": {
          "base_uri": "https://localhost:8080/"
        },
        "id": "FmKEx9dLjiyY",
        "outputId": "07282b9a-8ce5-47ab-d77e-ff4fd1587da0"
      },
      "outputs": [
        {
          "output_type": "stream",
          "name": "stdout",
          "text": [
            "100 100.5 100\n",
            "139839414816080 139838988579440 139839414816080\n",
            "<class 'int'> <class 'float'> <class 'int'>\n"
          ]
        }
      ],
      "source": [
        "x = 100\n",
        "y = 100.5\n",
        "z = 100\n",
        "print(x,y,z)\n",
        "print(id(x),id(y),id(z))\n",
        "print(type(x),type(y),type(z))\n"
      ]
    },
    {
      "cell_type": "markdown",
      "source": [
        "* Above code shows all objects are associated with same ID.\n",
        "\n",
        "* When we say x=100, 100 is an object and x is label pointing to 100\n",
        "\n",
        "   So when we say y=100, there is another label created that points to 100.\n",
        "\n",
        "* IF we perfrom, x=1,y=1,z=1, then noone is pointing to 100 so object 100 will be deleted from heap."
      ],
      "metadata": {
        "id": "VyXtejf8r8ic"
      }
    },
    {
      "cell_type": "code",
      "source": [
        "x = 100\n",
        "y = x\n",
        "print(x,y)\n",
        "x = 5\n",
        "print(x,y)\n",
        "\n",
        "a = [1, 2, 3, 4]\n",
        "b = a\n",
        "print(a,b)\n",
        "\n",
        "a[0] = 100\n",
        "print(a,b)\n"
      ],
      "metadata": {
        "colab": {
          "base_uri": "https://localhost:8080/"
        },
        "id": "0b5vWBGttXDY",
        "outputId": "b1c32c36-244f-49f4-f7ba-a0d263875187"
      },
      "execution_count": null,
      "outputs": [
        {
          "output_type": "stream",
          "name": "stdout",
          "text": [
            "100 100\n",
            "5 100\n",
            "[1, 2, 3, 4] [1, 2, 3, 4]\n",
            "[100, 2, 3, 4] [100, 2, 3, 4]\n"
          ]
        }
      ]
    },
    {
      "cell_type": "markdown",
      "source": [
        "In above example, as list is a mutable object, if we change after its creation, change happens at same place. But values(x,y) are not mutable. So when we change x, it startes refereing to another object.\n",
        "\n",
        "# 3. Mutability\n",
        "\n",
        "Object is said to be mutable, if it can be changed post its creation.\n"
      ],
      "metadata": {
        "id": "3YFHHYTHx1r3"
      }
    },
    {
      "cell_type": "code",
      "source": [
        "print(a[1])\n",
        "print(id(a))\n",
        "print(id(a[1]))\n",
        "a[1] = 200\n",
        "\n",
        "print(a[1])\n",
        "print(id(a))\n",
        "print(id(a[1]))"
      ],
      "metadata": {
        "colab": {
          "base_uri": "https://localhost:8080/"
        },
        "id": "71SB4PxdWho4",
        "outputId": "327c0c0c-505d-4aec-aeff-e255faa395de"
      },
      "execution_count": null,
      "outputs": [
        {
          "output_type": "stream",
          "name": "stdout",
          "text": [
            "100\n",
            "132797270826880\n",
            "132798598384976\n",
            "200\n",
            "132797270826880\n",
            "132798598388176\n"
          ]
        }
      ]
    },
    {
      "cell_type": "markdown",
      "source": [
        "* As per above example, ID of list remains same, even after change of values in list.\n",
        "\n",
        "* ID of list elements changes with value change\n"
      ],
      "metadata": {
        "id": "zOXiD_LiW8XL"
      }
    },
    {
      "cell_type": "code",
      "source": [
        "import sys\n",
        "print(sys.getrefcount(1))"
      ],
      "metadata": {
        "colab": {
          "base_uri": "https://localhost:8080/"
        },
        "id": "izIzqfxOXf0T",
        "outputId": "3960cd9c-5e25-4dd3-b5ed-3fbadf5f42be"
      },
      "execution_count": null,
      "outputs": [
        {
          "output_type": "stream",
          "name": "stdout",
          "text": [
            "17106\n"
          ]
        }
      ]
    },
    {
      "cell_type": "markdown",
      "source": [
        "* There are 17106 references to Object \"1\""
      ],
      "metadata": {
        "id": "1lkrKMi-X22a"
      }
    },
    {
      "cell_type": "markdown",
      "source": [
        "# 4. Identifiers\n",
        "\n",
        "* Same as C - Start with alphabet,digits allowed afterwards\n",
        "*"
      ],
      "metadata": {
        "id": "QdF4scCxY6Qq"
      }
    },
    {
      "cell_type": "code",
      "source": [
        "help(\"keywords\")\n",
        "help(\"and\")\n",
        "#1.11.35"
      ],
      "metadata": {
        "colab": {
          "base_uri": "https://localhost:8080/"
        },
        "id": "VTu_pcpvZTLj",
        "outputId": "99a7d04d-fa7f-4bc9-a81d-1bf5d34dfd61"
      },
      "execution_count": null,
      "outputs": [
        {
          "output_type": "stream",
          "name": "stdout",
          "text": [
            "\n",
            "Here is a list of the Python keywords.  Enter any keyword to get more help.\n",
            "\n",
            "False               class               from                or\n",
            "None                continue            global              pass\n",
            "True                def                 if                  raise\n",
            "and                 del                 import              return\n",
            "as                  elif                in                  try\n",
            "assert              else                is                  while\n",
            "async               except              lambda              with\n",
            "await               finally             nonlocal            yield\n",
            "break               for                 not                 \n",
            "\n",
            "Boolean operations\n",
            "******************\n",
            "\n",
            "   or_test  ::= and_test | or_test \"or\" and_test\n",
            "   and_test ::= not_test | and_test \"and\" not_test\n",
            "   not_test ::= comparison | \"not\" not_test\n",
            "\n",
            "In the context of Boolean operations, and also when expressions are\n",
            "used by control flow statements, the following values are interpreted\n",
            "as false: \"False\", \"None\", numeric zero of all types, and empty\n",
            "strings and containers (including strings, tuples, lists,\n",
            "dictionaries, sets and frozensets).  All other values are interpreted\n",
            "as true.  User-defined objects can customize their truth value by\n",
            "providing a \"__bool__()\" method.\n",
            "\n",
            "The operator \"not\" yields \"True\" if its argument is false, \"False\"\n",
            "otherwise.\n",
            "\n",
            "The expression \"x and y\" first evaluates *x*; if *x* is false, its\n",
            "value is returned; otherwise, *y* is evaluated and the resulting value\n",
            "is returned.\n",
            "\n",
            "The expression \"x or y\" first evaluates *x*; if *x* is true, its value\n",
            "is returned; otherwise, *y* is evaluated and the resulting value is\n",
            "returned.\n",
            "\n",
            "Note that neither \"and\" nor \"or\" restrict the value and type they\n",
            "return to \"False\" and \"True\", but rather return the last evaluated\n",
            "argument.  This is sometimes useful, e.g., if \"s\" is a string that\n",
            "should be replaced by a default value if it is empty, the expression\n",
            "\"s or 'foo'\" yields the desired value.  Because \"not\" has to create a\n",
            "new value, it returns a boolean value regardless of the type of its\n",
            "argument (for example, \"not 'foo'\" produces \"False\" rather than \"''\".)\n",
            "\n",
            "Related help topics: EXPRESSIONS, TRUTHVALUE\n",
            "\n"
          ]
        }
      ]
    },
    {
      "cell_type": "markdown",
      "source": [
        "# 2 modes of operation : Interactive and Script"
      ],
      "metadata": {
        "id": "BsRLW7OHQzZU"
      }
    },
    {
      "cell_type": "code",
      "source": [
        "x = \"python\"\n",
        "dir(x)"
      ],
      "metadata": {
        "colab": {
          "base_uri": "https://localhost:8080/"
        },
        "id": "SH_caUbhRyX4",
        "outputId": "a30ba1c5-4c3d-432e-fbd0-573ba4608652"
      },
      "execution_count": null,
      "outputs": [
        {
          "output_type": "execute_result",
          "data": {
            "text/plain": [
              "['__add__',\n",
              " '__class__',\n",
              " '__contains__',\n",
              " '__delattr__',\n",
              " '__dir__',\n",
              " '__doc__',\n",
              " '__eq__',\n",
              " '__format__',\n",
              " '__ge__',\n",
              " '__getattribute__',\n",
              " '__getitem__',\n",
              " '__getnewargs__',\n",
              " '__gt__',\n",
              " '__hash__',\n",
              " '__init__',\n",
              " '__init_subclass__',\n",
              " '__iter__',\n",
              " '__le__',\n",
              " '__len__',\n",
              " '__lt__',\n",
              " '__mod__',\n",
              " '__mul__',\n",
              " '__ne__',\n",
              " '__new__',\n",
              " '__reduce__',\n",
              " '__reduce_ex__',\n",
              " '__repr__',\n",
              " '__rmod__',\n",
              " '__rmul__',\n",
              " '__setattr__',\n",
              " '__sizeof__',\n",
              " '__str__',\n",
              " '__subclasshook__',\n",
              " 'capitalize',\n",
              " 'casefold',\n",
              " 'center',\n",
              " 'count',\n",
              " 'encode',\n",
              " 'endswith',\n",
              " 'expandtabs',\n",
              " 'find',\n",
              " 'format',\n",
              " 'format_map',\n",
              " 'index',\n",
              " 'isalnum',\n",
              " 'isalpha',\n",
              " 'isascii',\n",
              " 'isdecimal',\n",
              " 'isdigit',\n",
              " 'isidentifier',\n",
              " 'islower',\n",
              " 'isnumeric',\n",
              " 'isprintable',\n",
              " 'isspace',\n",
              " 'istitle',\n",
              " 'isupper',\n",
              " 'join',\n",
              " 'ljust',\n",
              " 'lower',\n",
              " 'lstrip',\n",
              " 'maketrans',\n",
              " 'partition',\n",
              " 'removeprefix',\n",
              " 'removesuffix',\n",
              " 'replace',\n",
              " 'rfind',\n",
              " 'rindex',\n",
              " 'rjust',\n",
              " 'rpartition',\n",
              " 'rsplit',\n",
              " 'rstrip',\n",
              " 'split',\n",
              " 'splitlines',\n",
              " 'startswith',\n",
              " 'strip',\n",
              " 'swapcase',\n",
              " 'title',\n",
              " 'translate',\n",
              " 'upper',\n",
              " 'zfill']"
            ]
          },
          "metadata": {},
          "execution_count": 4
        }
      ]
    },
    {
      "cell_type": "code",
      "source": [
        "print(x)\n",
        "x.upper()\n"
      ],
      "metadata": {
        "id": "ukylHD7KR5Ua",
        "colab": {
          "base_uri": "https://localhost:8080/",
          "height": 52
        },
        "outputId": "e6644318-026c-466f-c322-3606761c87ba"
      },
      "execution_count": null,
      "outputs": [
        {
          "output_type": "stream",
          "name": "stdout",
          "text": [
            "python\n"
          ]
        },
        {
          "output_type": "execute_result",
          "data": {
            "text/plain": [
              "'python'"
            ],
            "application/vnd.google.colaboratory.intrinsic+json": {
              "type": "string"
            }
          },
          "metadata": {},
          "execution_count": 12
        }
      ]
    },
    {
      "cell_type": "code",
      "source": [
        "\n",
        "x = []\n",
        "bool(x)"
      ],
      "metadata": {
        "id": "1VI9u8C9T61j",
        "colab": {
          "base_uri": "https://localhost:8080/"
        },
        "outputId": "914aa77d-a183-4549-da4d-1130b8e402fd"
      },
      "execution_count": null,
      "outputs": [
        {
          "output_type": "execute_result",
          "data": {
            "text/plain": [
              "False"
            ]
          },
          "metadata": {},
          "execution_count": 16
        }
      ]
    },
    {
      "cell_type": "code",
      "source": [
        "#Multi-line string\n",
        "x = \"\"\" Rte_Call_VDM_DtcM_Impl_Api_CS_getDTCStatusByte(DTC_EVENT_ID_0xE40092, &status);\n",
        "\tbEventTested_0xE40092 = DiagnosticDtc_GetEventTested(status);\n",
        "\tbEventFailed_0xE40092 = DiagnosticDtc_GetEventFailed(status);\n",
        "\"\"\"\n",
        "print(x)"
      ],
      "metadata": {
        "colab": {
          "base_uri": "https://localhost:8080/"
        },
        "id": "YG-2zEeBV34a",
        "outputId": "fdb3dabd-7f9c-457a-f021-a62e6a702b13"
      },
      "execution_count": null,
      "outputs": [
        {
          "output_type": "stream",
          "name": "stdout",
          "text": [
            " Rte_Call_VDM_DtcM_Impl_Api_CS_getDTCStatusByte(DTC_EVENT_ID_0xE40092, &status);\n",
            "\tbEventTested_0xE40092 = DiagnosticDtc_GetEventTested(status);\n",
            "\tbEventFailed_0xE40092 = DiagnosticDtc_GetEventFailed(status);\t\t\n",
            "\n"
          ]
        }
      ]
    },
    {
      "cell_type": "markdown",
      "source": [
        "# String Operations\n",
        "String is :\n",
        " Immutable\n",
        " Iterable\n"
      ],
      "metadata": {
        "id": "X8JaOuMHW8vp"
      }
    },
    {
      "cell_type": "code",
      "source": [
        "s = \"Wipro Technologies\"\n",
        "print(s[3])\n",
        "print(s[-3])\n",
        "print(s[0])\n",
        "print(s[1])\n",
        "print(s[-1])\n",
        "print(len(s))"
      ],
      "metadata": {
        "colab": {
          "base_uri": "https://localhost:8080/"
        },
        "id": "0deNPsCxW4xo",
        "outputId": "ece26cec-5f0c-446c-e579-6e42ee45205e"
      },
      "execution_count": null,
      "outputs": [
        {
          "output_type": "stream",
          "name": "stdout",
          "text": [
            "r\n",
            "i\n",
            "W\n",
            "i\n",
            "s\n",
            "18\n"
          ]
        }
      ]
    },
    {
      "cell_type": "code",
      "source": [
        "#slicing\n",
        "#[start,end,step]\n",
        "print(s[::1])\n",
        "print(s[6:9:1]) #9 is upto and non-inclusive\n",
        "print(s[::-1])\n"
      ],
      "metadata": {
        "colab": {
          "base_uri": "https://localhost:8080/"
        },
        "id": "KgxEpInKX3Gm",
        "outputId": "6b9ea700-37c7-40ec-f229-a94b4cb2b498"
      },
      "execution_count": null,
      "outputs": [
        {
          "output_type": "stream",
          "name": "stdout",
          "text": [
            "Wipro Technologies\n",
            "Tec\n",
            "seigolonhceT orpiW\n"
          ]
        }
      ]
    }
  ]
}