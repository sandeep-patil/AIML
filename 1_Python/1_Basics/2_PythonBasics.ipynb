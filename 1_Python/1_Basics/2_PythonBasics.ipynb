{
  "nbformat": 4,
  "nbformat_minor": 0,
  "metadata": {
    "colab": {
      "provenance": []
    },
    "kernelspec": {
      "name": "python3",
      "display_name": "Python 3"
    },
    "language_info": {
      "name": "python"
    }
  },
  "cells": [
    {
      "cell_type": "markdown",
      "source": [
        "# String Operations - Continue"
      ],
      "metadata": {
        "id": "mbpwB0LtcNEN"
      }
    },
    {
      "cell_type": "code",
      "execution_count": null,
      "metadata": {
        "colab": {
          "base_uri": "https://localhost:8080/"
        },
        "id": "dP6pkvBqa5sb",
        "outputId": "c14006e0-d6f6-40ad-a9af-8da6853c0286"
      },
      "outputs": [
        {
          "output_type": "stream",
          "name": "stdout",
          "text": [
            "Wsandeeppro\n",
            "Wipro\n"
          ]
        }
      ],
      "source": [
        "#Replace\n",
        "\n",
        "s = \"Wipro\"\n",
        "print(s.replace(\"i\",\"sandeep\"))\n",
        "print(s)  # as string is immutable"
      ]
    },
    {
      "cell_type": "code",
      "source": [
        "#find\n",
        "s = \"Wiproooooo\"\n",
        "print(s.find(\"q\"))\n",
        "print(s.find(\"p\"))\n",
        "print(s.find(\"o\"))\n",
        "print(s.rfind(\"o\"))\n",
        "print(s.count(\"o\"))"
      ],
      "metadata": {
        "colab": {
          "base_uri": "https://localhost:8080/"
        },
        "id": "rw8wCnTJc3Vx",
        "outputId": "cffbe9ad-5c54-4a59-d052-c32f4f429c69"
      },
      "execution_count": null,
      "outputs": [
        {
          "output_type": "stream",
          "name": "stdout",
          "text": [
            "-1\n",
            "2\n",
            "4\n",
            "9\n",
            "6\n"
          ]
        }
      ]
    },
    {
      "cell_type": "code",
      "source": [
        "#Split\n",
        "\n",
        "str1 = \"\"\" Rte_Call_VDM_DtcM_Impl_Api_CS_getDTCStatusByte(DTC_EVENT_ID_0xE40092, &status);\n",
        "\tbEventTested_0xE40092 = DiagnosticDtc_GetEventTested(status);\n",
        "\tbEventFailed_0xE40092 = DiagnosticDtc_GetEventFailed(status);\"\"\"\n",
        "\n",
        "print(str1)\n",
        "\n",
        "print(str1.split()) #Split based on white spaces\n",
        "print(str1.split(\";\"))"
      ],
      "metadata": {
        "colab": {
          "base_uri": "https://localhost:8080/"
        },
        "id": "W9zVKPq0c7rj",
        "outputId": "cd19dd3e-1d88-478b-b2bc-1572cc0514db"
      },
      "execution_count": null,
      "outputs": [
        {
          "output_type": "stream",
          "name": "stdout",
          "text": [
            " Rte_Call_VDM_DtcM_Impl_Api_CS_getDTCStatusByte(DTC_EVENT_ID_0xE40092, &status);\n",
            "\tbEventTested_0xE40092 = DiagnosticDtc_GetEventTested(status);\n",
            "\tbEventFailed_0xE40092 = DiagnosticDtc_GetEventFailed(status);\n",
            "['Rte_Call_VDM_DtcM_Impl_Api_CS_getDTCStatusByte(DTC_EVENT_ID_0xE40092,', '&status);', 'bEventTested_0xE40092', '=', 'DiagnosticDtc_GetEventTested(status);', 'bEventFailed_0xE40092', '=', 'DiagnosticDtc_GetEventFailed(status);']\n",
            "[' Rte_Call_VDM_DtcM_Impl_Api_CS_getDTCStatusByte(DTC_EVENT_ID_0xE40092, &status)', '\\n\\tbEventTested_0xE40092 = DiagnosticDtc_GetEventTested(status)', '\\n\\tbEventFailed_0xE40092 = DiagnosticDtc_GetEventFailed(status)', '']\n"
          ]
        }
      ]
    },
    {
      "cell_type": "markdown",
      "source": [
        "# List\n",
        "\n",
        "List is :\n",
        "\n",
        "   Mutable\n",
        "\n",
        "   Iterable\n",
        "\n",
        "   Forward backword indexed\n",
        "\n",
        "   Can hold objects of different types\n"
      ],
      "metadata": {
        "id": "SDacjFTDgzld"
      }
    },
    {
      "cell_type": "code",
      "source": [
        "l = []\n",
        "print(type(l))\n",
        "print(l)"
      ],
      "metadata": {
        "colab": {
          "base_uri": "https://localhost:8080/"
        },
        "id": "WN31L0B2g6-8",
        "outputId": "ffa94216-58b1-4425-ce10-71b72be338cb"
      },
      "execution_count": null,
      "outputs": [
        {
          "output_type": "stream",
          "name": "stdout",
          "text": [
            "<class 'list'>\n",
            "[]\n"
          ]
        }
      ]
    },
    {
      "cell_type": "code",
      "source": [
        "dir ([])"
      ],
      "metadata": {
        "colab": {
          "base_uri": "https://localhost:8080/"
        },
        "id": "AqUkkLlGRW65",
        "outputId": "ad185bef-308f-4110-fe9e-97ed703d237b"
      },
      "execution_count": null,
      "outputs": [
        {
          "output_type": "execute_result",
          "data": {
            "text/plain": [
              "['__add__',\n",
              " '__class__',\n",
              " '__class_getitem__',\n",
              " '__contains__',\n",
              " '__delattr__',\n",
              " '__delitem__',\n",
              " '__dir__',\n",
              " '__doc__',\n",
              " '__eq__',\n",
              " '__format__',\n",
              " '__ge__',\n",
              " '__getattribute__',\n",
              " '__getitem__',\n",
              " '__gt__',\n",
              " '__hash__',\n",
              " '__iadd__',\n",
              " '__imul__',\n",
              " '__init__',\n",
              " '__init_subclass__',\n",
              " '__iter__',\n",
              " '__le__',\n",
              " '__len__',\n",
              " '__lt__',\n",
              " '__mul__',\n",
              " '__ne__',\n",
              " '__new__',\n",
              " '__reduce__',\n",
              " '__reduce_ex__',\n",
              " '__repr__',\n",
              " '__reversed__',\n",
              " '__rmul__',\n",
              " '__setattr__',\n",
              " '__setitem__',\n",
              " '__sizeof__',\n",
              " '__str__',\n",
              " '__subclasshook__',\n",
              " 'append',\n",
              " 'clear',\n",
              " 'copy',\n",
              " 'count',\n",
              " 'extend',\n",
              " 'index',\n",
              " 'insert',\n",
              " 'pop',\n",
              " 'remove',\n",
              " 'reverse',\n",
              " 'sort']"
            ]
          },
          "metadata": {},
          "execution_count": 2
        }
      ]
    },
    {
      "cell_type": "code",
      "source": [
        "#Insert\n",
        "\n",
        "l = []\n",
        "print(l)\n",
        "l.insert(3,4)\n",
        "l.insert(3,4)\n",
        "print(l)\n",
        "\n",
        "#Append\n",
        "l.append(7)\n",
        "print(l)"
      ],
      "metadata": {
        "colab": {
          "base_uri": "https://localhost:8080/"
        },
        "id": "55_vA9P9AfVR",
        "outputId": "03da711e-3a01-426b-e20a-3e0741f1443a"
      },
      "execution_count": null,
      "outputs": [
        {
          "output_type": "stream",
          "name": "stdout",
          "text": [
            "[]\n",
            "[4, 4]\n",
            "[4, 4, 7]\n"
          ]
        }
      ]
    },
    {
      "cell_type": "code",
      "source": [
        "#Pop\n",
        "\n",
        "l = [1,2,3,4,5]\n",
        "print(l.pop(0))\n",
        "print(l)\n",
        "print(l.pop())\n",
        "print(l)\n"
      ],
      "metadata": {
        "colab": {
          "base_uri": "https://localhost:8080/"
        },
        "id": "H9QOPH58SQwa",
        "outputId": "153cfec6-18a8-4468-9daf-e7c300f1c27e"
      },
      "execution_count": null,
      "outputs": [
        {
          "output_type": "stream",
          "name": "stdout",
          "text": [
            "1\n",
            "[2, 3, 4, 5]\n",
            "5\n",
            "[2, 3, 4]\n"
          ]
        }
      ]
    },
    {
      "cell_type": "code",
      "source": [
        "#Count\n",
        "\n",
        "l = [1,2,2,3,3,4,2,2,5]\n",
        "l.count(2)"
      ],
      "metadata": {
        "colab": {
          "base_uri": "https://localhost:8080/"
        },
        "id": "X2VKPczpSv_K",
        "outputId": "7eade173-2fdb-4ef5-8213-6ab34a31116c"
      },
      "execution_count": null,
      "outputs": [
        {
          "output_type": "execute_result",
          "data": {
            "text/plain": [
              "4"
            ]
          },
          "metadata": {},
          "execution_count": 22
        }
      ]
    },
    {
      "cell_type": "code",
      "source": [
        "#Remove - Removes first occurance by value\n",
        "\n",
        "l = [1,2,2,3,3,4,2,2,5]\n",
        "l.remove(2)\n",
        "print(l)"
      ],
      "metadata": {
        "id": "F1AwP9hz_3er",
        "colab": {
          "base_uri": "https://localhost:8080/"
        },
        "outputId": "15a4a914-c34c-4789-f596-19059357bb25"
      },
      "execution_count": null,
      "outputs": [
        {
          "output_type": "stream",
          "name": "stdout",
          "text": [
            "[1, 2, 3, 3, 4, 2, 2, 5]\n"
          ]
        }
      ]
    },
    {
      "cell_type": "code",
      "source": [
        "l.remove(2)\n",
        "print(l)"
      ],
      "metadata": {
        "colab": {
          "base_uri": "https://localhost:8080/"
        },
        "id": "XhD8ES5oTwCF",
        "outputId": "b8196767-249c-4b75-99ac-5e5653b77eec"
      },
      "execution_count": null,
      "outputs": [
        {
          "output_type": "stream",
          "name": "stdout",
          "text": [
            "[1, 3, 3, 4, 2, 2, 5]\n"
          ]
        }
      ]
    },
    {
      "cell_type": "code",
      "source": [
        "# clear\n",
        "\n",
        "l.clear()\n",
        "print(l)"
      ],
      "metadata": {
        "colab": {
          "base_uri": "https://localhost:8080/"
        },
        "id": "OTfNpn87UFdc",
        "outputId": "b925efbd-c75f-44a7-f671-5ecd88ea0805"
      },
      "execution_count": null,
      "outputs": [
        {
          "output_type": "stream",
          "name": "stdout",
          "text": [
            "[]\n"
          ]
        }
      ]
    },
    {
      "cell_type": "code",
      "source": [
        "#index\n",
        "\n",
        "l = [1,2,2,3,3,4,2,2,5]\n",
        "l.index(3)\n",
        "\n",
        "#reverse\n",
        "l.reverse()\n",
        "print(l)"
      ],
      "metadata": {
        "colab": {
          "base_uri": "https://localhost:8080/"
        },
        "id": "bWPRgSMIUOQe",
        "outputId": "519b7ef9-0478-46ee-f0d4-00e7307da5fd"
      },
      "execution_count": null,
      "outputs": [
        {
          "output_type": "stream",
          "name": "stdout",
          "text": [
            "[5, 2, 2, 4, 3, 3, 2, 2, 1]\n"
          ]
        }
      ]
    },
    {
      "cell_type": "code",
      "source": [
        "#Range\n",
        "\n",
        "l = list(range(1,20))\n",
        "print(l)"
      ],
      "metadata": {
        "colab": {
          "base_uri": "https://localhost:8080/"
        },
        "id": "-QU97ezuUmyU",
        "outputId": "e3f81a72-3db2-4b2d-daac-c31fe82c1575"
      },
      "execution_count": null,
      "outputs": [
        {
          "output_type": "stream",
          "name": "stdout",
          "text": [
            "[1, 2, 3, 4, 5, 6, 7, 8, 9, 10, 11, 12, 13, 14, 15, 16, 17, 18, 19]\n"
          ]
        }
      ]
    },
    {
      "cell_type": "code",
      "source": [
        "for x in l:\n",
        "  if x % 2 != 0:\n",
        "    print(x)"
      ],
      "metadata": {
        "colab": {
          "base_uri": "https://localhost:8080/"
        },
        "id": "fsGjOUqTVDEG",
        "outputId": "a3753be6-818f-4fd3-b983-a36dd81f2f5b"
      },
      "execution_count": null,
      "outputs": [
        {
          "output_type": "stream",
          "name": "stdout",
          "text": [
            "1\n",
            "3\n",
            "5\n",
            "7\n",
            "9\n",
            "11\n",
            "13\n",
            "15\n",
            "17\n",
            "19\n"
          ]
        }
      ]
    },
    {
      "cell_type": "code",
      "source": [
        "l = [1 ,2,3,4,5,6]\n",
        "print(l)\n",
        "print(\"id(l)=\",id(l))\n",
        "l1 = l\n",
        "print(l1)\n",
        "print(\"id(l1)=\",id(l1))\n",
        "print(\"id(l1[1])=\",id(l1[1]))\n",
        "l1.append(7)###########\n",
        "print(l)\n",
        "print(l1)\n",
        "print(\"id(l) =\",id(l))\n",
        "print(\"id(l1)=\",id(l1))\n",
        "print(\"id(l1[1])=\",id(l1[1]))\n",
        "\n",
        "\n",
        "l = [1 ,2,3,4,5,6]\n",
        "print(l)\n",
        "print(\"\\r\\nid(l)=\",id(l))\n",
        "l1 = l\n",
        "print(l1)\n",
        "print(\"id(l1)=\",id(l1))\n",
        "print(\"id(l1[1])=\",id(l1[1]))\n",
        "l1[1] = 8  #####\n",
        "print(l)\n",
        "print(l1)\n",
        "print(\"id(l) =\",id(l))\n",
        "print(\"id(l1)=\",id(l1))\n",
        "print(\"id(l1[1])=\",id(l1[1]))"
      ],
      "metadata": {
        "colab": {
          "base_uri": "https://localhost:8080/"
        },
        "id": "z1LDNkeeV3Ld",
        "outputId": "7ac63a62-96c7-47d6-a0da-6a3bc241e0ca"
      },
      "execution_count": null,
      "outputs": [
        {
          "output_type": "stream",
          "name": "stdout",
          "text": [
            "[1, 2, 3, 4, 5, 6]\n",
            "id(l)= 132016308329664\n",
            "[1, 2, 3, 4, 5, 6]\n",
            "id(l1)= 132016308329664\n",
            "id(l1[1])= 132017641996560\n",
            "[1, 2, 3, 4, 5, 6, 7]\n",
            "[1, 2, 3, 4, 5, 6, 7]\n",
            "id(l) = 132016308329664\n",
            "id(l1)= 132016308329664\n",
            "id(l1[1])= 132017641996560\n",
            "[1, 2, 3, 4, 5, 6]\n",
            "\r\n",
            "id(l)= 132016308335744\n",
            "[1, 2, 3, 4, 5, 6]\n",
            "id(l1)= 132016308335744\n",
            "id(l1[1])= 132017641996560\n",
            "[1, 8, 3, 4, 5, 6]\n",
            "[1, 8, 3, 4, 5, 6]\n",
            "id(l) = 132016308335744\n",
            "id(l1)= 132016308335744\n",
            "id(l1[1])= 132017641996752\n"
          ]
        }
      ]
    },
    {
      "cell_type": "markdown",
      "source": [
        "Above code snippet shows list is immutable. Even though the values of list changed, the id of list does not change.\n",
        "\n",
        "Id of list element may change."
      ],
      "metadata": {
        "id": "k-kVnxxDXTTg"
      }
    },
    {
      "cell_type": "code",
      "source": [
        "# l1 depedent of l\n",
        "l = [1 ,2,3,4,5,6]\n",
        "l1 = l\n",
        "print(l,l1)\n",
        "l[2] = 100\n",
        "l1[4] = 100\n",
        "print(l,l1)"
      ],
      "metadata": {
        "colab": {
          "base_uri": "https://localhost:8080/"
        },
        "id": "22k6v2OFX11e",
        "outputId": "2bd061a1-a9a3-44a4-93e3-cea0e12f348a"
      },
      "execution_count": null,
      "outputs": [
        {
          "output_type": "stream",
          "name": "stdout",
          "text": [
            "[1, 2, 3, 4, 5, 6] [1, 2, 3, 4, 5, 6]\n",
            "[1, 2, 100, 4, 100, 6] [1, 2, 100, 4, 100, 6]\n"
          ]
        }
      ]
    },
    {
      "cell_type": "code",
      "source": [
        "# l2 is independent of l due to use of COPY method\n",
        "l = [1 ,2,3,4,5,6]\n",
        "l2 = l.copy()\n",
        "print(l,l2)\n",
        "l[3] = 400\n",
        "print(l,l2)"
      ],
      "metadata": {
        "colab": {
          "base_uri": "https://localhost:8080/"
        },
        "id": "pdnhoxEBYXks",
        "outputId": "4b2a2ad8-2fb4-4875-85d1-d8cf5813264d"
      },
      "execution_count": null,
      "outputs": [
        {
          "output_type": "stream",
          "name": "stdout",
          "text": [
            "[1, 2, 3, 4, 5, 6] [1, 2, 3, 4, 5, 6]\n",
            "[1, 2, 3, 400, 5, 6] [1, 2, 3, 4, 5, 6]\n"
          ]
        }
      ]
    }
  ]
}