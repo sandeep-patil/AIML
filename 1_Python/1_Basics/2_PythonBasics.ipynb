{
  "nbformat": 4,
  "nbformat_minor": 0,
  "metadata": {
    "colab": {
      "provenance": []
    },
    "kernelspec": {
      "name": "python3",
      "display_name": "Python 3"
    },
    "language_info": {
      "name": "python"
    }
  },
  "cells": [
    {
      "cell_type": "markdown",
      "source": [
        "# String Operations - Continue"
      ],
      "metadata": {
        "id": "mbpwB0LtcNEN"
      }
    },
    {
      "cell_type": "code",
      "execution_count": null,
      "metadata": {
        "colab": {
          "base_uri": "https://localhost:8080/"
        },
        "id": "dP6pkvBqa5sb",
        "outputId": "c14006e0-d6f6-40ad-a9af-8da6853c0286"
      },
      "outputs": [
        {
          "output_type": "stream",
          "name": "stdout",
          "text": [
            "Wsandeeppro\n",
            "Wipro\n"
          ]
        }
      ],
      "source": [
        "#Replace\n",
        "\n",
        "s = \"Wipro\"\n",
        "print(s.replace(\"i\",\"sandeep\"))\n",
        "print(s)  # as string is immutable"
      ]
    },
    {
      "cell_type": "code",
      "source": [
        "#find\n",
        "s = \"Wiproooooo\"\n",
        "print(s.find(\"q\"))\n",
        "print(s.find(\"p\"))\n",
        "print(s.find(\"o\"))\n",
        "print(s.rfind(\"o\"))\n",
        "print(s.count(\"o\"))"
      ],
      "metadata": {
        "colab": {
          "base_uri": "https://localhost:8080/"
        },
        "id": "rw8wCnTJc3Vx",
        "outputId": "cffbe9ad-5c54-4a59-d052-c32f4f429c69"
      },
      "execution_count": null,
      "outputs": [
        {
          "output_type": "stream",
          "name": "stdout",
          "text": [
            "-1\n",
            "2\n",
            "4\n",
            "9\n",
            "6\n"
          ]
        }
      ]
    },
    {
      "cell_type": "code",
      "source": [
        "#Split\n",
        "\n",
        "str1 = \"\"\" Rte_Call_VDM_DtcM_Impl_Api_CS_getDTCStatusByte(DTC_EVENT_ID_0xE40092, &status);\n",
        "\tbEventTested_0xE40092 = DiagnosticDtc_GetEventTested(status);\n",
        "\tbEventFailed_0xE40092 = DiagnosticDtc_GetEventFailed(status);\"\"\"\n",
        "\n",
        "print(str1)\n",
        "\n",
        "print(str1.split()) #Split based on white spaces\n",
        "print(str1.split(\";\"))"
      ],
      "metadata": {
        "colab": {
          "base_uri": "https://localhost:8080/"
        },
        "id": "W9zVKPq0c7rj",
        "outputId": "cd19dd3e-1d88-478b-b2bc-1572cc0514db"
      },
      "execution_count": null,
      "outputs": [
        {
          "output_type": "stream",
          "name": "stdout",
          "text": [
            " Rte_Call_VDM_DtcM_Impl_Api_CS_getDTCStatusByte(DTC_EVENT_ID_0xE40092, &status);\n",
            "\tbEventTested_0xE40092 = DiagnosticDtc_GetEventTested(status);\n",
            "\tbEventFailed_0xE40092 = DiagnosticDtc_GetEventFailed(status);\n",
            "['Rte_Call_VDM_DtcM_Impl_Api_CS_getDTCStatusByte(DTC_EVENT_ID_0xE40092,', '&status);', 'bEventTested_0xE40092', '=', 'DiagnosticDtc_GetEventTested(status);', 'bEventFailed_0xE40092', '=', 'DiagnosticDtc_GetEventFailed(status);']\n",
            "[' Rte_Call_VDM_DtcM_Impl_Api_CS_getDTCStatusByte(DTC_EVENT_ID_0xE40092, &status)', '\\n\\tbEventTested_0xE40092 = DiagnosticDtc_GetEventTested(status)', '\\n\\tbEventFailed_0xE40092 = DiagnosticDtc_GetEventFailed(status)', '']\n"
          ]
        }
      ]
    },
    {
      "cell_type": "markdown",
      "source": [
        "# List\n",
        "\n",
        "List is :\n",
        "\n",
        "   Mutable\n",
        "\n",
        "   Iterable\n",
        "\n",
        "   Forward backword indexed\n",
        "\n",
        "   Can hold objects of different types\n"
      ],
      "metadata": {
        "id": "SDacjFTDgzld"
      }
    },
    {
      "cell_type": "code",
      "source": [
        "l = []\n",
        "print(type(l))\n",
        "print(l)"
      ],
      "metadata": {
        "colab": {
          "base_uri": "https://localhost:8080/"
        },
        "id": "WN31L0B2g6-8",
        "outputId": "ffa94216-58b1-4425-ce10-71b72be338cb"
      },
      "execution_count": null,
      "outputs": [
        {
          "output_type": "stream",
          "name": "stdout",
          "text": [
            "<class 'list'>\n",
            "[]\n"
          ]
        }
      ]
    },
    {
      "cell_type": "code",
      "source": [
        "dir ([])"
      ],
      "metadata": {
        "colab": {
          "base_uri": "https://localhost:8080/"
        },
        "id": "AqUkkLlGRW65",
        "outputId": "ad185bef-308f-4110-fe9e-97ed703d237b"
      },
      "execution_count": null,
      "outputs": [
        {
          "output_type": "execute_result",
          "data": {
            "text/plain": [
              "['__add__',\n",
              " '__class__',\n",
              " '__class_getitem__',\n",
              " '__contains__',\n",
              " '__delattr__',\n",
              " '__delitem__',\n",
              " '__dir__',\n",
              " '__doc__',\n",
              " '__eq__',\n",
              " '__format__',\n",
              " '__ge__',\n",
              " '__getattribute__',\n",
              " '__getitem__',\n",
              " '__gt__',\n",
              " '__hash__',\n",
              " '__iadd__',\n",
              " '__imul__',\n",
              " '__init__',\n",
              " '__init_subclass__',\n",
              " '__iter__',\n",
              " '__le__',\n",
              " '__len__',\n",
              " '__lt__',\n",
              " '__mul__',\n",
              " '__ne__',\n",
              " '__new__',\n",
              " '__reduce__',\n",
              " '__reduce_ex__',\n",
              " '__repr__',\n",
              " '__reversed__',\n",
              " '__rmul__',\n",
              " '__setattr__',\n",
              " '__setitem__',\n",
              " '__sizeof__',\n",
              " '__str__',\n",
              " '__subclasshook__',\n",
              " 'append',\n",
              " 'clear',\n",
              " 'copy',\n",
              " 'count',\n",
              " 'extend',\n",
              " 'index',\n",
              " 'insert',\n",
              " 'pop',\n",
              " 'remove',\n",
              " 'reverse',\n",
              " 'sort']"
            ]
          },
          "metadata": {},
          "execution_count": 2
        }
      ]
    },
    {
      "cell_type": "code",
      "source": [
        "#Insert\n",
        "\n",
        "l = []\n",
        "print(l)\n",
        "l.insert(3,4)\n",
        "l.insert(3,4)\n",
        "print(l)\n",
        "\n",
        "#Append\n",
        "l.append(7)\n",
        "print(l)"
      ],
      "metadata": {
        "colab": {
          "base_uri": "https://localhost:8080/"
        },
        "id": "55_vA9P9AfVR",
        "outputId": "03da711e-3a01-426b-e20a-3e0741f1443a"
      },
      "execution_count": null,
      "outputs": [
        {
          "output_type": "stream",
          "name": "stdout",
          "text": [
            "[]\n",
            "[4, 4]\n",
            "[4, 4, 7]\n"
          ]
        }
      ]
    },
    {
      "cell_type": "code",
      "source": [
        "#Pop\n",
        "\n",
        "l = [1,2,3,4,5]\n",
        "print(l.pop(0))\n",
        "print(l)\n",
        "print(l.pop())\n",
        "print(l)\n"
      ],
      "metadata": {
        "colab": {
          "base_uri": "https://localhost:8080/"
        },
        "id": "H9QOPH58SQwa",
        "outputId": "153cfec6-18a8-4468-9daf-e7c300f1c27e"
      },
      "execution_count": null,
      "outputs": [
        {
          "output_type": "stream",
          "name": "stdout",
          "text": [
            "1\n",
            "[2, 3, 4, 5]\n",
            "5\n",
            "[2, 3, 4]\n"
          ]
        }
      ]
    },
    {
      "cell_type": "code",
      "source": [
        "#Count\n",
        "\n",
        "l = [1,2,2,3,3,4,2,2,5]\n",
        "l.count(2)"
      ],
      "metadata": {
        "colab": {
          "base_uri": "https://localhost:8080/"
        },
        "id": "X2VKPczpSv_K",
        "outputId": "7eade173-2fdb-4ef5-8213-6ab34a31116c"
      },
      "execution_count": null,
      "outputs": [
        {
          "output_type": "execute_result",
          "data": {
            "text/plain": [
              "4"
            ]
          },
          "metadata": {},
          "execution_count": 22
        }
      ]
    },
    {
      "cell_type": "code",
      "source": [
        "#Remove - Removes first occurance by value\n",
        "\n",
        "l = [1,2,2,3,3,4,2,2,5]\n",
        "l.remove(2)\n",
        "print(l)"
      ],
      "metadata": {
        "id": "F1AwP9hz_3er",
        "colab": {
          "base_uri": "https://localhost:8080/"
        },
        "outputId": "15a4a914-c34c-4789-f596-19059357bb25"
      },
      "execution_count": null,
      "outputs": [
        {
          "output_type": "stream",
          "name": "stdout",
          "text": [
            "[1, 2, 3, 3, 4, 2, 2, 5]\n"
          ]
        }
      ]
    },
    {
      "cell_type": "code",
      "source": [
        "l.remove(2)\n",
        "print(l)"
      ],
      "metadata": {
        "colab": {
          "base_uri": "https://localhost:8080/"
        },
        "id": "XhD8ES5oTwCF",
        "outputId": "b8196767-249c-4b75-99ac-5e5653b77eec"
      },
      "execution_count": null,
      "outputs": [
        {
          "output_type": "stream",
          "name": "stdout",
          "text": [
            "[1, 3, 3, 4, 2, 2, 5]\n"
          ]
        }
      ]
    },
    {
      "cell_type": "code",
      "source": [
        "# clear\n",
        "\n",
        "l.clear()\n",
        "print(l)"
      ],
      "metadata": {
        "colab": {
          "base_uri": "https://localhost:8080/"
        },
        "id": "OTfNpn87UFdc",
        "outputId": "b925efbd-c75f-44a7-f671-5ecd88ea0805"
      },
      "execution_count": null,
      "outputs": [
        {
          "output_type": "stream",
          "name": "stdout",
          "text": [
            "[]\n"
          ]
        }
      ]
    },
    {
      "cell_type": "code",
      "source": [
        "#index\n",
        "\n",
        "l = [1,2,2,3,3,4,2,2,5]\n",
        "l.index(3)\n",
        "\n",
        "#reverse\n",
        "l.reverse()\n",
        "print(l)"
      ],
      "metadata": {
        "colab": {
          "base_uri": "https://localhost:8080/"
        },
        "id": "bWPRgSMIUOQe",
        "outputId": "519b7ef9-0478-46ee-f0d4-00e7307da5fd"
      },
      "execution_count": null,
      "outputs": [
        {
          "output_type": "stream",
          "name": "stdout",
          "text": [
            "[5, 2, 2, 4, 3, 3, 2, 2, 1]\n"
          ]
        }
      ]
    },
    {
      "cell_type": "code",
      "source": [
        "#Range\n",
        "\n",
        "l = list(range(1,20))\n",
        "print(l)"
      ],
      "metadata": {
        "colab": {
          "base_uri": "https://localhost:8080/"
        },
        "id": "-QU97ezuUmyU",
        "outputId": "e3f81a72-3db2-4b2d-daac-c31fe82c1575"
      },
      "execution_count": null,
      "outputs": [
        {
          "output_type": "stream",
          "name": "stdout",
          "text": [
            "[1, 2, 3, 4, 5, 6, 7, 8, 9, 10, 11, 12, 13, 14, 15, 16, 17, 18, 19]\n"
          ]
        }
      ]
    },
    {
      "cell_type": "code",
      "source": [
        "for x in l:\n",
        "  if x % 2 != 0:\n",
        "    print(x)"
      ],
      "metadata": {
        "colab": {
          "base_uri": "https://localhost:8080/"
        },
        "id": "fsGjOUqTVDEG",
        "outputId": "a3753be6-818f-4fd3-b983-a36dd81f2f5b"
      },
      "execution_count": null,
      "outputs": [
        {
          "output_type": "stream",
          "name": "stdout",
          "text": [
            "1\n",
            "3\n",
            "5\n",
            "7\n",
            "9\n",
            "11\n",
            "13\n",
            "15\n",
            "17\n",
            "19\n"
          ]
        }
      ]
    },
    {
      "cell_type": "code",
      "source": [
        "l = [1 ,2,3,4,5,6]\n",
        "print(l)\n",
        "print(\"id(l)=\",id(l))\n",
        "l1 = l\n",
        "print(l1)\n",
        "print(\"id(l1)=\",id(l1))\n",
        "print(\"id(l1[1])=\",id(l1[1]))\n",
        "l1.append(7)###########\n",
        "print(l)\n",
        "print(l1)\n",
        "print(\"id(l) =\",id(l))\n",
        "print(\"id(l1)=\",id(l1))\n",
        "print(\"id(l1[1])=\",id(l1[1]))\n",
        "\n",
        "\n",
        "l = [1 ,2,3,4,5,6]\n",
        "print(l)\n",
        "print(\"\\r\\nid(l)=\",id(l))\n",
        "l1 = l\n",
        "print(l1)\n",
        "print(\"id(l1)=\",id(l1))\n",
        "print(\"id(l1[1])=\",id(l1[1]))\n",
        "l1[1] = 8  #####\n",
        "print(l)\n",
        "print(l1)\n",
        "print(\"id(l) =\",id(l))\n",
        "print(\"id(l1)=\",id(l1))\n",
        "print(\"id(l1[1])=\",id(l1[1]))"
      ],
      "metadata": {
        "colab": {
          "base_uri": "https://localhost:8080/"
        },
        "id": "z1LDNkeeV3Ld",
        "outputId": "7ac63a62-96c7-47d6-a0da-6a3bc241e0ca"
      },
      "execution_count": null,
      "outputs": [
        {
          "output_type": "stream",
          "name": "stdout",
          "text": [
            "[1, 2, 3, 4, 5, 6]\n",
            "id(l)= 132016308329664\n",
            "[1, 2, 3, 4, 5, 6]\n",
            "id(l1)= 132016308329664\n",
            "id(l1[1])= 132017641996560\n",
            "[1, 2, 3, 4, 5, 6, 7]\n",
            "[1, 2, 3, 4, 5, 6, 7]\n",
            "id(l) = 132016308329664\n",
            "id(l1)= 132016308329664\n",
            "id(l1[1])= 132017641996560\n",
            "[1, 2, 3, 4, 5, 6]\n",
            "\r\n",
            "id(l)= 132016308335744\n",
            "[1, 2, 3, 4, 5, 6]\n",
            "id(l1)= 132016308335744\n",
            "id(l1[1])= 132017641996560\n",
            "[1, 8, 3, 4, 5, 6]\n",
            "[1, 8, 3, 4, 5, 6]\n",
            "id(l) = 132016308335744\n",
            "id(l1)= 132016308335744\n",
            "id(l1[1])= 132017641996752\n"
          ]
        }
      ]
    },
    {
      "cell_type": "markdown",
      "source": [
        "Above code snippet shows list is immutable. Even though the values of list changed, the id of list does not change.\n",
        "\n",
        "Id of list element may change."
      ],
      "metadata": {
        "id": "k-kVnxxDXTTg"
      }
    },
    {
      "cell_type": "code",
      "source": [
        "# l1 depedent of l2\n",
        "l1 = [1 ,2,3,4,5,6]\n",
        "l2 = l1\n",
        "print(l1,l2)\n",
        "l1[2] = 100\n",
        "l2[4] = 50\n",
        "print(l1,l2)"
      ],
      "metadata": {
        "colab": {
          "base_uri": "https://localhost:8080/"
        },
        "id": "22k6v2OFX11e",
        "outputId": "981215b5-0936-448e-8618-ba8329813837"
      },
      "execution_count": null,
      "outputs": [
        {
          "output_type": "stream",
          "name": "stdout",
          "text": [
            "[1, 2, 3, 4, 5, 6] [1, 2, 3, 4, 5, 6]\n",
            "[1, 2, 100, 4, 50, 6] [1, 2, 100, 4, 50, 6]\n"
          ]
        }
      ]
    },
    {
      "cell_type": "code",
      "source": [
        "# l3 is independent of l4 due to use of COPY method\n",
        "l3 = [1 ,2,3,4,5,6]\n",
        "l4 = l3.copy()\n",
        "print(l3,l4)\n",
        "l3[3] = 400\n",
        "l4[3] = 500\n",
        "print(l3,l4)"
      ],
      "metadata": {
        "colab": {
          "base_uri": "https://localhost:8080/"
        },
        "id": "pdnhoxEBYXks",
        "outputId": "ee217142-20fa-4205-c310-c8e05650ddc5"
      },
      "execution_count": null,
      "outputs": [
        {
          "output_type": "stream",
          "name": "stdout",
          "text": [
            "[1, 2, 3, 4, 5, 6] [1, 2, 3, 4, 5, 6]\n",
            "[1, 2, 3, 400, 5, 6] [1, 2, 3, 500, 5, 6]\n"
          ]
        }
      ]
    },
    {
      "cell_type": "code",
      "source": [
        "print(id(l3))\n",
        "print(id(l4))"
      ],
      "metadata": {
        "colab": {
          "base_uri": "https://localhost:8080/"
        },
        "id": "RgxLx9CjTX7n",
        "outputId": "803700a3-c33f-4acc-89ca-e72d70f5e4a5"
      },
      "execution_count": null,
      "outputs": [
        {
          "output_type": "stream",
          "name": "stdout",
          "text": [
            "139904431080640\n",
            "139903451950976\n"
          ]
        }
      ]
    },
    {
      "cell_type": "code",
      "source": [
        "l5 = [1,2,3,[11,12,14],4]\n",
        "l6 = l5.copy()\n",
        "print(l5,l6)\n",
        "l6[4] = 22\n",
        "l6[3][1] = 20\n",
        "\n",
        "print(l5,l6)\n",
        "\n"
      ],
      "metadata": {
        "colab": {
          "base_uri": "https://localhost:8080/"
        },
        "id": "RNXPfRxdTp-u",
        "outputId": "df7bc53e-6a61-4a6d-8374-ba8a848ddc53"
      },
      "execution_count": null,
      "outputs": [
        {
          "output_type": "stream",
          "name": "stdout",
          "text": [
            "[1, 2, 3, [11, 12, 14], 4] [1, 2, 3, [11, 12, 14], 4]\n",
            "[1, 2, 3, [11, 20, 14], 4] [1, 2, 3, [11, 20, 14], 22]\n"
          ]
        }
      ]
    },
    {
      "cell_type": "markdown",
      "source": [
        "So even though we used copy(), list within list is not independent.\n",
        "\n"
      ],
      "metadata": {
        "id": "-fVhRjdqVi9F"
      }
    },
    {
      "cell_type": "code",
      "source": [
        "l5 = [1,2,3,[11,12,14],4]\n",
        "l6 = l5.copy()\n",
        "\n",
        "print(id(l5[0]),\"   \" ,id(l6[0]))\n",
        "print(id(l5[1]),\"   \" ,id(l6[1]))\n",
        "print(id(l5[2]),\"   \" ,id(l6[2]))\n",
        "print(id(l5[3]),\"   \" ,id(l6[3]))\n",
        "print()\n",
        "print(id(l5[3][0]),\"   \" ,id(l6[3][0]))\n",
        "print(id(l5[3][1]),\"   \" ,id(l6[3][1]))\n",
        "print(id(l5[3][2]),\"   \" ,id(l6[3][2]))\n",
        "print(\"\\n\\nAfter value change\\n\")\n",
        "l5[1] = 5\n",
        "print(id(l5[0]),\"   \" ,id(l6[0]))\n",
        "print(id(l5[1]),\"   \" ,id(l6[1]))\n",
        "print(id(l5[2]),\"   \" ,id(l6[2]))\n",
        "print(id(l5[3]),\"   \" ,id(l6[3]))\n",
        "print()\n",
        "print(id(l5[3][0]),\"   \" ,id(l6[3][0]))\n",
        "print(id(l5[3][1]),\"   \" ,id(l6[3][1]))\n",
        "print(id(l5[3][2]),\"   \" ,id(l6[3][2]))\n",
        "\n",
        "print(\"\\n\\nAfter inner list value change\\n\")\n",
        "l5[3][0] = 5\n",
        "print(id(l5[0]),\"   \" ,id(l6[0]))\n",
        "print(id(l5[1]),\"   \" ,id(l6[1]))\n",
        "print(id(l5[2]),\"   \" ,id(l6[2]))\n",
        "print(id(l5[3]),\"   \" ,id(l6[3]))\n",
        "print()\n",
        "print(id(l5[3][0]),\"   \" ,id(l6[3][0]))\n",
        "print(id(l5[3][1]),\"   \" ,id(l6[3][1]))\n",
        "print(id(l5[3][2]),\"   \" ,id(l6[3][2]))\n"
      ],
      "metadata": {
        "colab": {
          "base_uri": "https://localhost:8080/"
        },
        "id": "-PZFBzNCV6D2",
        "outputId": "ef885f67-ff7f-4f51-a07e-ae995e7fd314"
      },
      "execution_count": null,
      "outputs": [
        {
          "output_type": "stream",
          "name": "stdout",
          "text": [
            "10757736     10757736\n",
            "10757768     10757768\n",
            "10757800     10757800\n",
            "139903450739968     139903450739968\n",
            "\n",
            "10758056     10758056\n",
            "10758088     10758088\n",
            "10758152     10758152\n",
            "\n",
            "\n",
            "After value change\n",
            "\n",
            "10757736     10757736\n",
            "10757864     10757768\n",
            "10757800     10757800\n",
            "139903450739968     139903450739968\n",
            "\n",
            "10758056     10758056\n",
            "10758088     10758088\n",
            "10758152     10758152\n",
            "\n",
            "\n",
            "After inner list value change\n",
            "\n",
            "10757736     10757736\n",
            "10757864     10757768\n",
            "10757800     10757800\n",
            "139903450739968     139903450739968\n",
            "\n",
            "10757864     10757864\n",
            "10758088     10758088\n",
            "10758152     10758152\n"
          ]
        }
      ]
    },
    {
      "cell_type": "markdown",
      "source": [
        "So if we change any values, then only id changes, otherwie poining to same id.\n",
        "\n",
        "For list within list , the inner list is dependent after copy.\n",
        "\n",
        "This is all exampes of **Shallow Copy**\n"
      ],
      "metadata": {
        "id": "Up8aKlgtZNvs"
      }
    },
    {
      "cell_type": "markdown",
      "source": [
        "## **Deep Copy**"
      ],
      "metadata": {
        "id": "HkbHtEe2Zwxr"
      }
    },
    {
      "cell_type": "code",
      "source": [
        "import copy\n",
        "\n",
        "l5 = [1,2,3,[11,12,14],4]\n",
        "l6 = copy.deepcopy(l5)\n",
        "\n",
        "print(id(l5[0]),\"   \" ,id(l6[0]))\n",
        "print(id(l5[1]),\"   \" ,id(l6[1]))\n",
        "print(id(l5[2]),\"   \" ,id(l6[2]))\n",
        "print(id(l5[3]),\"   \" ,id(l6[3]))\n",
        "print()\n",
        "print(id(l5[3][0]),\"   \" ,id(l6[3][0]))\n",
        "print(id(l5[3][1]),\"   \" ,id(l6[3][1]))\n",
        "print(id(l5[3][2]),\"   \" ,id(l6[3][2]))\n",
        "print(\"\\n\\nAfter value change\\n\")\n",
        "l5[1] = 5\n",
        "print(id(l5[0]),\"   \" ,id(l6[0]))\n",
        "print(id(l5[1]),\"   \" ,id(l6[1]))\n",
        "print(id(l5[2]),\"   \" ,id(l6[2]))\n",
        "print(id(l5[3]),\"   \" ,id(l6[3]))\n",
        "print()\n",
        "print(id(l5[3][0]),\"   \" ,id(l6[3][0]))\n",
        "print(id(l5[3][1]),\"   \" ,id(l6[3][1]))\n",
        "print(id(l5[3][2]),\"   \" ,id(l6[3][2]))\n",
        "\n",
        "print(\"\\n\\nAfter inner list value change\\n\")\n",
        "l5[3][0] = 5\n",
        "print(id(l5[0]),\"   \" ,id(l6[0]))\n",
        "print(id(l5[1]),\"   \" ,id(l6[1]))\n",
        "print(id(l5[2]),\"   \" ,id(l6[2]))\n",
        "print(id(l5[3]),\"   \" ,id(l6[3]))\n",
        "print()\n",
        "print(id(l5[3][0]),\"   \" ,id(l6[3][0]))\n",
        "print(id(l5[3][1]),\"   \" ,id(l6[3][1]))\n",
        "print(id(l5[3][2]),\"   \" ,id(l6[3][2]))\n",
        "\n"
      ],
      "metadata": {
        "colab": {
          "base_uri": "https://localhost:8080/"
        },
        "id": "XiBG8xnxZwJS",
        "outputId": "6e381162-8404-4bce-9684-b4d48291dd3a"
      },
      "execution_count": null,
      "outputs": [
        {
          "output_type": "stream",
          "name": "stdout",
          "text": [
            "10757736     10757736\n",
            "10757768     10757768\n",
            "10757800     10757800\n",
            "139903450738816     139903450741568\n",
            "\n",
            "10758056     10758056\n",
            "10758088     10758088\n",
            "10758152     10758152\n",
            "\n",
            "\n",
            "After value change\n",
            "\n",
            "10757736     10757736\n",
            "10757864     10757768\n",
            "10757800     10757800\n",
            "139903450738816     139903450741568\n",
            "\n",
            "10758056     10758056\n",
            "10758088     10758088\n",
            "10758152     10758152\n",
            "\n",
            "\n",
            "After inner list value change\n",
            "\n",
            "10757736     10757736\n",
            "10757864     10757768\n",
            "10757800     10757800\n",
            "139903450738816     139903450741568\n",
            "\n",
            "10757864     10758056\n",
            "10758088     10758088\n",
            "10758152     10758152\n"
          ]
        }
      ]
    },
    {
      "cell_type": "markdown",
      "source": [
        "So Inner list also becomes independent after Deep Copy"
      ],
      "metadata": {
        "id": "Q0xsVYEkalXc"
      }
    },
    {
      "cell_type": "markdown",
      "source": [
        "## **POP**"
      ],
      "metadata": {
        "id": "JYmU1oUjPBj0"
      }
    },
    {
      "cell_type": "code",
      "source": [],
      "metadata": {
        "id": "iaPa1nzOPBNU"
      },
      "execution_count": null,
      "outputs": []
    },
    {
      "cell_type": "code",
      "source": [
        "l1 = [1,2,3,4,5,[6,7,8]]\n",
        "print(l1)"
      ],
      "metadata": {
        "colab": {
          "base_uri": "https://localhost:8080/"
        },
        "id": "xZo_PMEdOuAN",
        "outputId": "8450e5cb-6955-47aa-85d9-df944c409ae2"
      },
      "execution_count": null,
      "outputs": [
        {
          "output_type": "stream",
          "name": "stdout",
          "text": [
            "[1, 2, 3, 4, 5, [6, 7, 8]]\n"
          ]
        }
      ]
    },
    {
      "cell_type": "code",
      "source": [
        "l1.pop(1)\n"
      ],
      "metadata": {
        "colab": {
          "base_uri": "https://localhost:8080/"
        },
        "id": "oqD9V78QO5-8",
        "outputId": "5dba2cf8-6211-432c-dd46-aca2067fbe49"
      },
      "execution_count": null,
      "outputs": [
        {
          "output_type": "execute_result",
          "data": {
            "text/plain": [
              "2"
            ]
          },
          "metadata": {},
          "execution_count": 48
        }
      ]
    },
    {
      "cell_type": "code",
      "source": [
        "print(l1)"
      ],
      "metadata": {
        "colab": {
          "base_uri": "https://localhost:8080/"
        },
        "id": "QN7koQDbPADC",
        "outputId": "1d8e8d9b-b5f7-446f-92c9-c3a36bc363e8"
      },
      "execution_count": null,
      "outputs": [
        {
          "output_type": "stream",
          "name": "stdout",
          "text": [
            "[1, 3, 4, 5, [6, 7, 8]]\n"
          ]
        }
      ]
    },
    {
      "cell_type": "code",
      "source": [
        "l1.pop(4)"
      ],
      "metadata": {
        "colab": {
          "base_uri": "https://localhost:8080/"
        },
        "id": "qCUj4lZ6PGwI",
        "outputId": "cd6e666a-6c7f-44ad-f970-54b529607b28"
      },
      "execution_count": null,
      "outputs": [
        {
          "output_type": "execute_result",
          "data": {
            "text/plain": [
              "[6, 7, 8]"
            ]
          },
          "metadata": {},
          "execution_count": 50
        }
      ]
    },
    {
      "cell_type": "code",
      "source": [
        "print(l1)"
      ],
      "metadata": {
        "colab": {
          "base_uri": "https://localhost:8080/"
        },
        "id": "6S-wgpiJPHPF",
        "outputId": "e7dc46d0-b987-4090-caff-b02db7bf7d94"
      },
      "execution_count": null,
      "outputs": [
        {
          "output_type": "stream",
          "name": "stdout",
          "text": [
            "[1, 3, 4, 5]\n"
          ]
        }
      ]
    },
    {
      "cell_type": "code",
      "source": [
        "l1.remove(4)\n",
        "l1"
      ],
      "metadata": {
        "colab": {
          "base_uri": "https://localhost:8080/"
        },
        "id": "khSdfTWVRsK8",
        "outputId": "9edd3c52-bcb2-41b2-addd-4bbff2257080"
      },
      "execution_count": null,
      "outputs": [
        {
          "output_type": "execute_result",
          "data": {
            "text/plain": [
              "[1, 3, 5]"
            ]
          },
          "metadata": {},
          "execution_count": 52
        }
      ]
    },
    {
      "cell_type": "markdown",
      "source": [],
      "metadata": {
        "id": "oUwpuwgLPO11"
      }
    },
    {
      "cell_type": "code",
      "source": [
        "dir(l1)\n"
      ],
      "metadata": {
        "colab": {
          "base_uri": "https://localhost:8080/"
        },
        "id": "m61AMQEMPPQL",
        "outputId": "180f9ff3-0a58-4fb0-d7dd-eff4bbd38eca"
      },
      "execution_count": null,
      "outputs": [
        {
          "output_type": "execute_result",
          "data": {
            "text/plain": [
              "['__add__',\n",
              " '__class__',\n",
              " '__class_getitem__',\n",
              " '__contains__',\n",
              " '__delattr__',\n",
              " '__delitem__',\n",
              " '__dir__',\n",
              " '__doc__',\n",
              " '__eq__',\n",
              " '__format__',\n",
              " '__ge__',\n",
              " '__getattribute__',\n",
              " '__getitem__',\n",
              " '__getstate__',\n",
              " '__gt__',\n",
              " '__hash__',\n",
              " '__iadd__',\n",
              " '__imul__',\n",
              " '__init__',\n",
              " '__init_subclass__',\n",
              " '__iter__',\n",
              " '__le__',\n",
              " '__len__',\n",
              " '__lt__',\n",
              " '__mul__',\n",
              " '__ne__',\n",
              " '__new__',\n",
              " '__reduce__',\n",
              " '__reduce_ex__',\n",
              " '__repr__',\n",
              " '__reversed__',\n",
              " '__rmul__',\n",
              " '__setattr__',\n",
              " '__setitem__',\n",
              " '__sizeof__',\n",
              " '__str__',\n",
              " '__subclasshook__',\n",
              " 'append',\n",
              " 'clear',\n",
              " 'copy',\n",
              " 'count',\n",
              " 'extend',\n",
              " 'index',\n",
              " 'insert',\n",
              " 'pop',\n",
              " 'remove',\n",
              " 'reverse',\n",
              " 'sort']"
            ]
          },
          "metadata": {},
          "execution_count": 15
        }
      ]
    },
    {
      "cell_type": "markdown",
      "source": [
        "'append',\n",
        " 'clear',\n",
        " 'copy',\n",
        " 'count',\n",
        " 'extend',\n",
        " 'index',\n",
        " 'insert',\n",
        " 'pop',\n",
        " 'remove',\n",
        " 'reverse',\n",
        " 'sort'"
      ],
      "metadata": {
        "id": "nGSX_GopPVix"
      }
    },
    {
      "cell_type": "code",
      "source": [
        "l1.append(500)\n",
        "l1"
      ],
      "metadata": {
        "colab": {
          "base_uri": "https://localhost:8080/"
        },
        "id": "_M7KFU9UPY8d",
        "outputId": "1e2310ff-7936-4486-cafc-fbd2206f0464"
      },
      "execution_count": null,
      "outputs": [
        {
          "output_type": "execute_result",
          "data": {
            "text/plain": [
              "[1, 3, 5, 500]"
            ]
          },
          "metadata": {},
          "execution_count": 53
        }
      ]
    },
    {
      "cell_type": "code",
      "source": [
        "l1.clear()\n",
        "l1"
      ],
      "metadata": {
        "colab": {
          "base_uri": "https://localhost:8080/"
        },
        "id": "iO7c5a4KPnLE",
        "outputId": "66653913-0497-4685-bb5f-4c2a7a71c40b"
      },
      "execution_count": null,
      "outputs": [
        {
          "output_type": "execute_result",
          "data": {
            "text/plain": [
              "[]"
            ]
          },
          "metadata": {},
          "execution_count": 54
        }
      ]
    },
    {
      "cell_type": "code",
      "source": [
        "l1 = [1,2,3,4,5,6,7]\n",
        "len(l1)"
      ],
      "metadata": {
        "colab": {
          "base_uri": "https://localhost:8080/"
        },
        "id": "nY5qBUd8PrXc",
        "outputId": "f7f94d54-d71b-4c34-f7e3-a592ee162488"
      },
      "execution_count": null,
      "outputs": [
        {
          "output_type": "execute_result",
          "data": {
            "text/plain": [
              "7"
            ]
          },
          "metadata": {},
          "execution_count": 72
        }
      ]
    },
    {
      "cell_type": "code",
      "source": [
        "l1.append([11,12,13])\n",
        "l1\n"
      ],
      "metadata": {
        "colab": {
          "base_uri": "https://localhost:8080/"
        },
        "id": "_8ZgGKNQP0Ii",
        "outputId": "65154dd6-00ba-4727-84b7-c568dbecb766"
      },
      "execution_count": null,
      "outputs": [
        {
          "output_type": "execute_result",
          "data": {
            "text/plain": [
              "[7, 6, 5, 4, 3, 2, 1, [11, 12, 13]]"
            ]
          },
          "metadata": {},
          "execution_count": 84
        }
      ]
    },
    {
      "cell_type": "code",
      "source": [
        "len(l1)"
      ],
      "metadata": {
        "colab": {
          "base_uri": "https://localhost:8080/"
        },
        "id": "uLEy5OgRQmzO",
        "outputId": "8dc56eeb-5e5b-4e04-8be9-5e101c4f630a"
      },
      "execution_count": null,
      "outputs": [
        {
          "output_type": "execute_result",
          "data": {
            "text/plain": [
              "8"
            ]
          },
          "metadata": {},
          "execution_count": 57
        }
      ]
    },
    {
      "cell_type": "code",
      "source": [
        "l1.index(7)\n"
      ],
      "metadata": {
        "colab": {
          "base_uri": "https://localhost:8080/"
        },
        "id": "mEiA4B9TSZr2",
        "outputId": "a1fce76a-135b-4e57-dfb2-769a97515f2f"
      },
      "execution_count": null,
      "outputs": [
        {
          "output_type": "execute_result",
          "data": {
            "text/plain": [
              "1"
            ]
          },
          "metadata": {},
          "execution_count": 70
        }
      ]
    },
    {
      "cell_type": "code",
      "source": [
        "l1 = [1,2,3,4,5,6,7]\n",
        "l1.append([11,12,13])\n",
        "l1\n",
        "\n"
      ],
      "metadata": {
        "colab": {
          "base_uri": "https://localhost:8080/"
        },
        "id": "vsK-hZYuShUN",
        "outputId": "c3943c40-c786-452c-c857-d6832ec68369"
      },
      "execution_count": null,
      "outputs": [
        {
          "output_type": "execute_result",
          "data": {
            "text/plain": [
              "[1, 2, 3, 4, 5, 6, 7, [11, 12, 13]]"
            ]
          },
          "metadata": {},
          "execution_count": 91
        }
      ]
    },
    {
      "cell_type": "code",
      "source": [
        "l1.reverse()\n",
        "l1"
      ],
      "metadata": {
        "colab": {
          "base_uri": "https://localhost:8080/"
        },
        "id": "MB1Yc_NoStpn",
        "outputId": "88db06dc-bb41-405a-c27b-f4b9c43214fe"
      },
      "execution_count": null,
      "outputs": [
        {
          "output_type": "execute_result",
          "data": {
            "text/plain": [
              "[[11, 12, 13], 7, 6, 5, 4, 3, 2, 1]"
            ]
          },
          "metadata": {},
          "execution_count": 92
        }
      ]
    },
    {
      "cell_type": "markdown",
      "source": [
        "## **Sorting**"
      ],
      "metadata": {
        "id": "KT6yVIf4UBFY"
      }
    },
    {
      "cell_type": "code",
      "source": [
        "l1.sort()\n",
        "l1"
      ],
      "metadata": {
        "colab": {
          "base_uri": "https://localhost:8080/",
          "height": 166
        },
        "id": "1QswCu3gTIho",
        "outputId": "e5ffe369-bc89-4a53-c29a-db7d4b35d95d"
      },
      "execution_count": null,
      "outputs": [
        {
          "output_type": "error",
          "ename": "TypeError",
          "evalue": "'<' not supported between instances of 'int' and 'list'",
          "traceback": [
            "\u001b[0;31m---------------------------------------------------------------------------\u001b[0m",
            "\u001b[0;31mTypeError\u001b[0m                                 Traceback (most recent call last)",
            "\u001b[0;32m<ipython-input-98-439623219>\u001b[0m in \u001b[0;36m<cell line: 0>\u001b[0;34m()\u001b[0m\n\u001b[0;32m----> 1\u001b[0;31m \u001b[0ml1\u001b[0m\u001b[0;34m.\u001b[0m\u001b[0msort\u001b[0m\u001b[0;34m(\u001b[0m\u001b[0;34m)\u001b[0m\u001b[0;34m\u001b[0m\u001b[0;34m\u001b[0m\u001b[0m\n\u001b[0m\u001b[1;32m      2\u001b[0m \u001b[0ml1\u001b[0m\u001b[0;34m\u001b[0m\u001b[0;34m\u001b[0m\u001b[0m\n",
            "\u001b[0;31mTypeError\u001b[0m: '<' not supported between instances of 'int' and 'list'"
          ]
        }
      ]
    },
    {
      "cell_type": "code",
      "source": [
        "l1 = [1,2,3,4,5,6,7]\n",
        "l1.reverse()\n",
        "l1"
      ],
      "metadata": {
        "colab": {
          "base_uri": "https://localhost:8080/"
        },
        "id": "MEln2CTYTqRG",
        "outputId": "641d1c5f-296b-4be9-dd7a-e9113426f688"
      },
      "execution_count": null,
      "outputs": [
        {
          "output_type": "execute_result",
          "data": {
            "text/plain": [
              "[7, 6, 5, 4, 3, 2, 1]"
            ]
          },
          "metadata": {},
          "execution_count": 99
        }
      ]
    },
    {
      "cell_type": "code",
      "source": [
        "l1.sort()\n",
        "l1"
      ],
      "metadata": {
        "colab": {
          "base_uri": "https://localhost:8080/"
        },
        "id": "5WMblranTtrC",
        "outputId": "b7a47dda-c3b7-4ff6-b7eb-5cc762e7db93"
      },
      "execution_count": null,
      "outputs": [
        {
          "output_type": "execute_result",
          "data": {
            "text/plain": [
              "[1, 2, 3, 4, 5, 6, 7]"
            ]
          },
          "metadata": {},
          "execution_count": 101
        }
      ]
    },
    {
      "cell_type": "code",
      "source": [
        "l2 = [\"ax\",\"gff\",\"a\",\"bz\",\"cccc\",\"de\"]\n",
        "l2"
      ],
      "metadata": {
        "colab": {
          "base_uri": "https://localhost:8080/"
        },
        "id": "VU8OG4RuTxmv",
        "outputId": "c0e1b812-6ffa-45ae-93c1-ac488ecc92da"
      },
      "execution_count": null,
      "outputs": [
        {
          "output_type": "execute_result",
          "data": {
            "text/plain": [
              "['ax', 'gff', 'a', 'bz', 'cccc', 'de']"
            ]
          },
          "metadata": {},
          "execution_count": 102
        }
      ]
    },
    {
      "cell_type": "code",
      "source": [
        "l2.sort()\n",
        "l2"
      ],
      "metadata": {
        "colab": {
          "base_uri": "https://localhost:8080/"
        },
        "id": "8IW_RZBKUE_y",
        "outputId": "797ea393-4428-4167-c997-19ee0423733a"
      },
      "execution_count": null,
      "outputs": [
        {
          "output_type": "execute_result",
          "data": {
            "text/plain": [
              "['a', 'ax', 'bz', 'cccc', 'de', 'gff']"
            ]
          },
          "metadata": {},
          "execution_count": 104
        }
      ]
    },
    {
      "cell_type": "code",
      "source": [
        "l2 = [\"ax\",\"gff\",\"a\",\"bz\",\"cccc\",\"de\",\"ab\"]\n",
        "print(l2)\n",
        "l2.sort(key=len)\n",
        "print(l2)"
      ],
      "metadata": {
        "colab": {
          "base_uri": "https://localhost:8080/"
        },
        "id": "HoQBjy-mUJ6e",
        "outputId": "fcdf04e6-4488-4fa1-beff-673bf9536b76"
      },
      "execution_count": null,
      "outputs": [
        {
          "output_type": "stream",
          "name": "stdout",
          "text": [
            "['ax', 'gff', 'a', 'bz', 'cccc', 'de', 'ab']\n",
            "['a', 'ax', 'bz', 'de', 'ab', 'gff', 'cccc']\n"
          ]
        }
      ]
    },
    {
      "cell_type": "code",
      "source": [
        "def cussort(str):\n",
        "  return str[-1]"
      ],
      "metadata": {
        "id": "jlzr_v20VUz2"
      },
      "execution_count": 12,
      "outputs": []
    },
    {
      "cell_type": "code",
      "source": [
        "def cussort2(str):\n",
        "  if len(str) >= 2:\n",
        "    return 1\n",
        "  else :\n",
        "    return 2"
      ],
      "metadata": {
        "id": "OR0-vmWvWU2d"
      },
      "execution_count": null,
      "outputs": []
    },
    {
      "cell_type": "code",
      "source": [
        "cussort(\"sandeep\")"
      ],
      "metadata": {
        "colab": {
          "base_uri": "https://localhost:8080/",
          "height": 36
        },
        "id": "nYBA0X1xVVgW",
        "outputId": "74a2bb09-5ec0-494d-bfc6-907c49dfcb26"
      },
      "execution_count": null,
      "outputs": [
        {
          "output_type": "execute_result",
          "data": {
            "text/plain": [
              "'p'"
            ],
            "application/vnd.google.colaboratory.intrinsic+json": {
              "type": "string"
            }
          },
          "metadata": {},
          "execution_count": 110
        }
      ]
    },
    {
      "cell_type": "code",
      "source": [
        "l2 = [\"ax\",\"gff\",\"a\",\"bz\",\"cccc\",\"de\",\"ab\"]\n",
        "print(l2)\n",
        "l2.sort(key=cussort)\n",
        "print(l2)"
      ],
      "metadata": {
        "colab": {
          "base_uri": "https://localhost:8080/"
        },
        "id": "yJEGsgGvUcO2",
        "outputId": "8427a051-9b9b-49e4-c93d-e5b87fa4386a"
      },
      "execution_count": null,
      "outputs": [
        {
          "output_type": "stream",
          "name": "stdout",
          "text": [
            "['ax', 'gff', 'a', 'bz', 'cccc', 'de', 'ab']\n",
            "['a', 'ab', 'cccc', 'de', 'gff', 'ax', 'bz']\n"
          ]
        }
      ]
    },
    {
      "cell_type": "code",
      "source": [
        "l2 = [\"ax\",\"gff\",\"a\",\"bz\",\"cccc\",\"de\",\"ab\"]\n",
        "print(l2)\n",
        "l2.sort(key=cussort2)\n",
        "print(l2)\n",
        "l2.sort(key=cussort2,reverse=True)\n",
        "print(l2)"
      ],
      "metadata": {
        "colab": {
          "base_uri": "https://localhost:8080/"
        },
        "id": "zyvCVHGkWsap",
        "outputId": "bd97875c-ffd3-4afb-c527-f74952fd92ac"
      },
      "execution_count": null,
      "outputs": [
        {
          "output_type": "stream",
          "name": "stdout",
          "text": [
            "['ax', 'gff', 'a', 'bz', 'cccc', 'de', 'ab']\n",
            "['ax', 'gff', 'bz', 'cccc', 'de', 'ab', 'a']\n",
            "['a', 'ax', 'gff', 'bz', 'cccc', 'de', 'ab']\n"
          ]
        }
      ]
    },
    {
      "cell_type": "code",
      "source": [
        "help([].sort)"
      ],
      "metadata": {
        "colab": {
          "base_uri": "https://localhost:8080/"
        },
        "id": "4i6THWjaXrOj",
        "outputId": "085b936d-eb0f-46d8-e349-930e32ada44f"
      },
      "execution_count": null,
      "outputs": [
        {
          "output_type": "stream",
          "name": "stdout",
          "text": [
            "Help on built-in function sort:\n",
            "\n",
            "sort(*, key=None, reverse=False) method of builtins.list instance\n",
            "    Sort the list in ascending order and return None.\n",
            "    \n",
            "    The sort is in-place (i.e. the list itself is modified) and stable (i.e. the\n",
            "    order of two equal elements is maintained).\n",
            "    \n",
            "    If a key function is given, apply it once to each list item and sort them,\n",
            "    ascending or descending, according to their function values.\n",
            "    \n",
            "    The reverse flag can be set to sort in descending order.\n",
            "\n"
          ]
        }
      ]
    },
    {
      "cell_type": "markdown",
      "source": [
        "# **Tuple**"
      ],
      "metadata": {
        "id": "Ybqwe0WMYSvB"
      }
    },
    {
      "cell_type": "markdown",
      "source": [
        "Same as list but tuple is immutable and delimiter is ()"
      ],
      "metadata": {
        "id": "QS87I53HYU7C"
      }
    },
    {
      "cell_type": "code",
      "source": [
        "l1 = [1,2,3,4,5,\"s\",[1,2,3]]\n",
        "l2 = (1,2,3,4,5,\"s\",[1,2,3])\n",
        "\n",
        "print(l1,type(l1))\n",
        "print(l2,type(l2))"
      ],
      "metadata": {
        "colab": {
          "base_uri": "https://localhost:8080/"
        },
        "id": "417K9nW6Yczh",
        "outputId": "938d8b25-9897-4b17-cf31-fbee91bf8b1a"
      },
      "execution_count": null,
      "outputs": [
        {
          "output_type": "stream",
          "name": "stdout",
          "text": [
            "[1, 2, 3, 4, 5, 's', [1, 2, 3]] <class 'list'>\n",
            "(1, 2, 3, 4, 5, 's', [1, 2, 3]) <class 'tuple'>\n"
          ]
        }
      ]
    },
    {
      "cell_type": "code",
      "source": [
        "l1[0]=0\n",
        "l1"
      ],
      "metadata": {
        "colab": {
          "base_uri": "https://localhost:8080/"
        },
        "id": "xtUwGYE-Y9BZ",
        "outputId": "31d7d069-f836-4d34-aa2a-a0c96ed61257"
      },
      "execution_count": null,
      "outputs": [
        {
          "output_type": "execute_result",
          "data": {
            "text/plain": [
              "[0, 2, 3, 4, 5, 's', [1, 2, 3]]"
            ]
          },
          "metadata": {},
          "execution_count": 146
        }
      ]
    },
    {
      "cell_type": "code",
      "source": [
        "l2[0]=0\n",
        "l2"
      ],
      "metadata": {
        "colab": {
          "base_uri": "https://localhost:8080/",
          "height": 166
        },
        "id": "lZsuHQihZCa3",
        "outputId": "3c5370d7-69bd-45e7-8f26-ccc52dfbae2c"
      },
      "execution_count": null,
      "outputs": [
        {
          "output_type": "error",
          "ename": "TypeError",
          "evalue": "'tuple' object does not support item assignment",
          "traceback": [
            "\u001b[0;31m---------------------------------------------------------------------------\u001b[0m",
            "\u001b[0;31mTypeError\u001b[0m                                 Traceback (most recent call last)",
            "\u001b[0;32m<ipython-input-148-1885949046>\u001b[0m in \u001b[0;36m<cell line: 0>\u001b[0;34m()\u001b[0m\n\u001b[0;32m----> 1\u001b[0;31m \u001b[0ml2\u001b[0m\u001b[0;34m[\u001b[0m\u001b[0;36m0\u001b[0m\u001b[0;34m]\u001b[0m\u001b[0;34m=\u001b[0m\u001b[0;36m0\u001b[0m\u001b[0;34m\u001b[0m\u001b[0;34m\u001b[0m\u001b[0m\n\u001b[0m\u001b[1;32m      2\u001b[0m \u001b[0ml2\u001b[0m\u001b[0;34m\u001b[0m\u001b[0;34m\u001b[0m\u001b[0m\n",
            "\u001b[0;31mTypeError\u001b[0m: 'tuple' object does not support item assignment"
          ]
        }
      ]
    },
    {
      "cell_type": "code",
      "source": [
        "l2[6][0]=0\n",
        "l2"
      ],
      "metadata": {
        "colab": {
          "base_uri": "https://localhost:8080/"
        },
        "id": "BjSqvzsDby3m",
        "outputId": "2d227b16-fc14-4286-c471-6a0d3e9ee476"
      },
      "execution_count": null,
      "outputs": [
        {
          "output_type": "execute_result",
          "data": {
            "text/plain": [
              "(1, 2, 3, 4, 5, 's', [0, 2, 3])"
            ]
          },
          "metadata": {},
          "execution_count": 147
        }
      ]
    },
    {
      "cell_type": "markdown",
      "source": [
        "So, We canot modify tuple elements but elements in a list within a tuple can be modified."
      ],
      "metadata": {
        "id": "o3AowMl3b58j"
      }
    },
    {
      "cell_type": "code",
      "source": [
        "# Accessed same way as list\n",
        "print(l1[2])\n",
        "print(l2[2])"
      ],
      "metadata": {
        "colab": {
          "base_uri": "https://localhost:8080/"
        },
        "id": "tss7z1wAZG0b",
        "outputId": "11d422b4-de95-4e3a-a9a1-c0a377202a60"
      },
      "execution_count": null,
      "outputs": [
        {
          "output_type": "stream",
          "name": "stdout",
          "text": [
            "3\n",
            "3\n"
          ]
        }
      ]
    },
    {
      "cell_type": "code",
      "source": [
        "print(type((\"sandeep\")))\n",
        "print(type((\"sandeep\",)))"
      ],
      "metadata": {
        "colab": {
          "base_uri": "https://localhost:8080/"
        },
        "id": "apoRS6riahM2",
        "outputId": "d3a5ea30-e9ce-486f-c284-81b0286f59e3"
      },
      "execution_count": null,
      "outputs": [
        {
          "output_type": "stream",
          "name": "stdout",
          "text": [
            "<class 'str'>\n",
            "<class 'tuple'>\n"
          ]
        }
      ]
    },
    {
      "cell_type": "markdown",
      "source": [
        "# **Range**"
      ],
      "metadata": {
        "id": "g_TzM6Zuc9g4"
      }
    },
    {
      "cell_type": "code",
      "source": [
        "l1 = list(range(0,10,3))\n",
        "l1"
      ],
      "metadata": {
        "colab": {
          "base_uri": "https://localhost:8080/"
        },
        "id": "4FnjRXT2c86p",
        "outputId": "a11ce463-2747-4940-e151-c84cda44e77c"
      },
      "execution_count": 14,
      "outputs": [
        {
          "output_type": "execute_result",
          "data": {
            "text/plain": [
              "[0, 3, 6, 9]"
            ]
          },
          "metadata": {},
          "execution_count": 14
        }
      ]
    },
    {
      "cell_type": "code",
      "source": [
        "l = [10, 20, 30, 40]\n",
        "for i in range(4):\n",
        "    print(f\"Index {i} = {l[i]}\")\n"
      ],
      "metadata": {
        "colab": {
          "base_uri": "https://localhost:8080/"
        },
        "id": "ZN29w1WUPdsc",
        "outputId": "b78cddf4-b2b0-4b6b-94a4-1587cce1f06f"
      },
      "execution_count": 21,
      "outputs": [
        {
          "output_type": "stream",
          "name": "stdout",
          "text": [
            "Index 0 = 10\n",
            "Index 1 = 20\n",
            "Index 2 = 30\n",
            "Index 3 = 40\n"
          ]
        }
      ]
    },
    {
      "cell_type": "markdown",
      "source": [
        "Python interprets it based on the number of arguments passed — thanks to function overloading behavior.\n",
        "\n",
        "| Usage                      | Meaning                       |\n",
        "| -------------------------- | ----------------------------- |\n",
        "| `range(stop)`              | `start=0`, `stop=5`, `step=1` |\n",
        "| `range(start, stop)`       | `step=1`                      |\n",
        "| `range(start, stop, step)` | All explicitly defined        |\n"
      ],
      "metadata": {
        "id": "WUbaG3KKP2vw"
      }
    },
    {
      "cell_type": "code",
      "source": [],
      "metadata": {
        "id": "QhgXBWqTPfYy"
      },
      "execution_count": null,
      "outputs": []
    },
    {
      "cell_type": "code",
      "source": [
        "s = \"python\"\n",
        "for i in range(len(s)):\n",
        "    print(s[i])\n"
      ],
      "metadata": {
        "colab": {
          "base_uri": "https://localhost:8080/"
        },
        "id": "TTMvNERxQFnw",
        "outputId": "f0a7c3c3-b0a5-48a5-eab6-cc9dfc02784c"
      },
      "execution_count": 17,
      "outputs": [
        {
          "output_type": "stream",
          "name": "stdout",
          "text": [
            "p\n",
            "y\n",
            "t\n",
            "h\n",
            "o\n",
            "n\n"
          ]
        }
      ]
    },
    {
      "cell_type": "code",
      "source": [
        "l = [10, 20, 30, 40]\n",
        "for i in range(4):\n",
        "    print(f\"Index {i} = {l[i]}\")\n",
        "\n",
        "for value in l:\n",
        "  print(f\"Value = {value}\")"
      ],
      "metadata": {
        "colab": {
          "base_uri": "https://localhost:8080/"
        },
        "id": "IAhHxdDIRoXY",
        "outputId": "586e776d-4f0c-4a86-a790-bef770641a0b"
      },
      "execution_count": 23,
      "outputs": [
        {
          "output_type": "stream",
          "name": "stdout",
          "text": [
            "Index 0 = 10\n",
            "Index 1 = 20\n",
            "Index 2 = 30\n",
            "Index 3 = 40\n",
            "Value = 10\n",
            "Value = 20\n",
            "Value = 30\n",
            "Value = 40\n"
          ]
        }
      ]
    },
    {
      "cell_type": "markdown",
      "source": [
        "### 🟢 When to Use `for item in data`?\n",
        "\n",
        "Use it when:\n",
        "\n",
        "* You only need the **values**.\n",
        "* You **don’t care** about the position (index) of the element.\n",
        "\n",
        "```python\n",
        "fruits = [\"apple\", \"banana\", \"cherry\"]\n",
        "for fruit in fruits:\n",
        "    print(fruit)\n",
        "```\n",
        "\n",
        "This is clean, fast, and **preferred**.\n",
        "\n",
        "---\n",
        "\n",
        "### 🔵 So Why Use `range(len(data))`?\n",
        "\n",
        "Only when:\n",
        "\n",
        "* You **need the index** (position).\n",
        "* You want to **modify** the original list by index.\n",
        "* You are doing some **logic based on position**.\n",
        "\n",
        "Example: Update only even-indexed items\n",
        "\n",
        "```python\n",
        "for i in range(len(fruits)):\n",
        "    if i % 2 == 0:\n",
        "        fruits[i] = fruits[i].upper()\n",
        "```\n",
        "\n",
        "Output:\n",
        "\n",
        "```python\n",
        "['APPLE', 'banana', 'CHERRY']\n",
        "```\n",
        "\n",
        "---\n",
        "\n",
        "### 🔶 In Short:\n",
        "\n",
        "| Situation          | Use                                |\n",
        "| ------------------ | ---------------------------------- |\n",
        "| Just values        | `for item in data` ✅               |\n",
        "| Need index         | `for i in range(len(data))` ✅      |\n",
        "| Need index + value | `for i, item in enumerate(data)` ✅ |\n",
        "\n",
        "---\n",
        "\n",
        "So, **`range()` is not useless**, it's just **not needed** when index is irrelevant.\n",
        "\n"
      ],
      "metadata": {
        "id": "PSmw28d4RiZb"
      }
    },
    {
      "cell_type": "code",
      "source": [
        "#Use Case: Print index and value of each item\n",
        "\n",
        "fruits = [\"apple\", \"banana\", \"cherry\"]\n",
        "\n",
        "for i, fruit in enumerate(fruits):\n",
        "    print(f\"Index {i} → {fruit}\")\n"
      ],
      "metadata": {
        "colab": {
          "base_uri": "https://localhost:8080/"
        },
        "id": "42VpCc6mRz02",
        "outputId": "3562941f-6f87-46ed-bb0f-f1943749dece"
      },
      "execution_count": 25,
      "outputs": [
        {
          "output_type": "stream",
          "name": "stdout",
          "text": [
            "Index 0 → apple\n",
            "Index 1 → banana\n",
            "Index 2 → cherry\n"
          ]
        }
      ]
    },
    {
      "cell_type": "markdown",
      "source": [
        "# **Enumerate()**"
      ],
      "metadata": {
        "id": "10ZFkqr7SMF1"
      }
    },
    {
      "cell_type": "markdown",
      "source": [
        "Perfect — let’s first understand **what `enumerate()` is**, then we’ll move to how to use it with filters.\n",
        "\n",
        "---\n",
        "\n",
        "### 🔍 What is `enumerate()` in Python?\n",
        "\n",
        "`enumerate()` is a built-in Python function that lets us loop over an **iterable** (like list, tuple, string) **while keeping track of the index automatically**.\n",
        "\n",
        "---\n",
        "\n",
        "### ✅ Syntax:\n",
        "\n",
        "```python\n",
        "enumerate(iterable, start=0)\n",
        "```\n",
        "\n",
        "* `iterable`: The sequence (like list or string) you want to loop through.\n",
        "* `start`: (optional) Starting index (default is 0)\n",
        "\n",
        "---\n",
        "\n",
        "### ✅ What it returns:\n",
        "\n",
        "It returns an **enumerate object**, which gives pairs of `(index, element)` on iteration.\n",
        "\n",
        "---\n",
        "\n",
        "### ✅ Basic Example:\n",
        "\n",
        "```python\n",
        "names = [\"Alice\", \"Bob\", \"Charlie\"]\n",
        "\n",
        "for index, name in enumerate(names):\n",
        "    print(index, name)\n",
        "```\n",
        "\n",
        "📤 Output:\n",
        "\n",
        "```\n",
        "0 Alice\n",
        "1 Bob\n",
        "2 Charlie\n",
        "```\n",
        "\n",
        "---\n",
        "\n",
        "### 🔧 With `start=1`:\n",
        "\n",
        "```python\n",
        "for index, name in enumerate(names, start=1):\n",
        "    print(index, name)\n",
        "```\n",
        "\n",
        "📤 Output:\n",
        "\n",
        "```\n",
        "1 Alice\n",
        "2 Bob\n",
        "3 Charlie"
      ],
      "metadata": {
        "id": "POsdtWrjSWbC"
      }
    },
    {
      "cell_type": "code",
      "source": [
        "colors = [\"red\", \"green\", \"blue\", \"yellow\", \"pink\"]\n",
        "\n",
        "for i, color in enumerate(colors):\n",
        "    if i % 2 == 0:\n",
        "        continue  # Skip even-indexed elements\n",
        "    print(f\"Index {i}: {color}\")\n"
      ],
      "metadata": {
        "colab": {
          "base_uri": "https://localhost:8080/"
        },
        "id": "ICugdQipSo-U",
        "outputId": "8b18d4e8-1aa2-4890-ad3f-755276ab73c5"
      },
      "execution_count": 29,
      "outputs": [
        {
          "output_type": "stream",
          "name": "stdout",
          "text": [
            "Index 1: green\n",
            "Index 3: yellow\n"
          ]
        }
      ]
    },
    {
      "cell_type": "code",
      "source": [
        "colors = [\"red\", \"green\", \"blue\", \"yellow\", \"pink\"]\n",
        "for i, color in enumerate(colors):\n",
        "    if i % 2 == 0 and color.startswith('b'):\n",
        "        print(f\"Index {i}: {color}\")\n"
      ],
      "metadata": {
        "colab": {
          "base_uri": "https://localhost:8080/"
        },
        "id": "XC2HK7rXSrmP",
        "outputId": "4f5d8e51-b194-4bcb-acc5-13e9a988a7e2"
      },
      "execution_count": 32,
      "outputs": [
        {
          "output_type": "stream",
          "name": "stdout",
          "text": [
            "Index 2: blue\n"
          ]
        }
      ]
    },
    {
      "cell_type": "code",
      "source": [
        "text = \"hello\"\n",
        "\n",
        "for i, ch in enumerate(text):\n",
        "    print(f\"Index {i}: {ch}\")\n"
      ],
      "metadata": {
        "colab": {
          "base_uri": "https://localhost:8080/"
        },
        "id": "6VBOfvrXTIS9",
        "outputId": "48c232bb-db90-4f95-a1e1-834b0148e334"
      },
      "execution_count": 33,
      "outputs": [
        {
          "output_type": "stream",
          "name": "stdout",
          "text": [
            "Index 0: h\n",
            "Index 1: e\n",
            "Index 2: l\n",
            "Index 3: l\n",
            "Index 4: o\n"
          ]
        }
      ]
    },
    {
      "cell_type": "code",
      "source": [
        "matrix = [\n",
        "    [1, 2, 3],\n",
        "    [4, 5, 6],\n",
        "    [7, 8, 9]\n",
        "]\n",
        "\n",
        "for row_index, row in enumerate(matrix):\n",
        "    for col_index, value in enumerate(row):\n",
        "        print(f\"matrix[{row_index}][{col_index}] = {value}\")\n"
      ],
      "metadata": {
        "colab": {
          "base_uri": "https://localhost:8080/"
        },
        "id": "A9E3jsOcTQo0",
        "outputId": "a46ff15c-a2e6-4f8c-c2e9-0f8829aa1432"
      },
      "execution_count": 34,
      "outputs": [
        {
          "output_type": "stream",
          "name": "stdout",
          "text": [
            "matrix[0][0] = 1\n",
            "matrix[0][1] = 2\n",
            "matrix[0][2] = 3\n",
            "matrix[1][0] = 4\n",
            "matrix[1][1] = 5\n",
            "matrix[1][2] = 6\n",
            "matrix[2][0] = 7\n",
            "matrix[2][1] = 8\n",
            "matrix[2][2] = 9\n"
          ]
        }
      ]
    },
    {
      "cell_type": "code",
      "source": [
        "text = \"hello\"\n",
        "text_list = list(text)\n",
        "\n",
        "for i, ch in enumerate(text_list):\n",
        "    if ch == 'l':\n",
        "        text_list[i] = '*'\n",
        "\n",
        "modified = ''.join(text_list)\n",
        "print(modified)\n"
      ],
      "metadata": {
        "colab": {
          "base_uri": "https://localhost:8080/"
        },
        "id": "mgFRYAlHTUDy",
        "outputId": "14497a2e-02ff-4983-ea2f-65f90e3533ec"
      },
      "execution_count": 35,
      "outputs": [
        {
          "output_type": "stream",
          "name": "stdout",
          "text": [
            "he**o\n"
          ]
        }
      ]
    },
    {
      "cell_type": "markdown",
      "source": [
        "## **Quick Tips**\n",
        "| Goal                       | Use this                            |\n",
        "| -------------------------- | ----------------------------------- |\n",
        "| Just values                | `for item in list`                  |\n",
        "| Need index                 | `for i in range(...)`               |\n",
        "| Index + value, cleanly     | `for i, val in enumerate(...)`      |\n",
        "| Conditional logic on index | Use `if i % ...` with `enumerate()` |\n"
      ],
      "metadata": {
        "id": "ry9tX1cmSl0K"
      }
    },
    {
      "cell_type": "code",
      "source": [],
      "metadata": {
        "id": "yifeRyJ7THxh"
      },
      "execution_count": null,
      "outputs": []
    },
    {
      "cell_type": "code",
      "source": [],
      "metadata": {
        "id": "skrTKN5hSlf7"
      },
      "execution_count": null,
      "outputs": []
    }
  ]
}