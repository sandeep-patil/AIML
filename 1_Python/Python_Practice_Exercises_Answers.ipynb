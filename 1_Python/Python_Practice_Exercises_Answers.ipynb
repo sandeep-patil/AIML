{
  "nbformat": 4,
  "nbformat_minor": 0,
  "metadata": {
    "colab": {
      "provenance": [],
      "collapsed_sections": [
        "IwMhoZwH6RKI"
      ]
    },
    "kernelspec": {
      "name": "python3",
      "display_name": "Python 3"
    },
    "language_info": {
      "name": "python"
    }
  },
  "cells": [
    {
      "cell_type": "markdown",
      "source": [
        "# **Character to Int**"
      ],
      "metadata": {
        "id": "DwwKpOBh7yWL"
      }
    },
    {
      "cell_type": "code",
      "source": [
        "char = '7'\n",
        "num = int(char)\n",
        "print(char ,type(char), num ,type(num))"
      ],
      "metadata": {
        "colab": {
          "base_uri": "https://localhost:8080/"
        },
        "id": "9cbiZQEs7xxY",
        "outputId": "0ef4ac92-873d-4c39-ccd0-34667f23f75b"
      },
      "execution_count": 52,
      "outputs": [
        {
          "output_type": "stream",
          "name": "stdout",
          "text": [
            "7 <class 'str'> 7 <class 'int'>\n"
          ]
        }
      ]
    },
    {
      "cell_type": "code",
      "source": [
        "char = 'a'\n",
        "num = int(char)    # Only works if the character is a digit ('0' to '9')\n",
        "print(char ,type(char), num ,type(num))"
      ],
      "metadata": {
        "colab": {
          "base_uri": "https://localhost:8080/",
          "height": 176
        },
        "id": "gfYLzBwQ8dSf",
        "outputId": "6a443659-2470-4c10-abf6-67f188f0c558"
      },
      "execution_count": 53,
      "outputs": [
        {
          "output_type": "error",
          "ename": "ValueError",
          "evalue": "invalid literal for int() with base 10: 'a'",
          "traceback": [
            "\u001b[0;31m---------------------------------------------------------------------------\u001b[0m",
            "\u001b[0;31mValueError\u001b[0m                                Traceback (most recent call last)",
            "\u001b[0;32m/tmp/ipython-input-53-4080028422.py\u001b[0m in \u001b[0;36m<cell line: 0>\u001b[0;34m()\u001b[0m\n\u001b[1;32m      1\u001b[0m \u001b[0mchar\u001b[0m \u001b[0;34m=\u001b[0m \u001b[0;34m'a'\u001b[0m\u001b[0;34m\u001b[0m\u001b[0;34m\u001b[0m\u001b[0m\n\u001b[0;32m----> 2\u001b[0;31m \u001b[0mnum\u001b[0m \u001b[0;34m=\u001b[0m \u001b[0mint\u001b[0m\u001b[0;34m(\u001b[0m\u001b[0mchar\u001b[0m\u001b[0;34m)\u001b[0m\u001b[0;34m\u001b[0m\u001b[0;34m\u001b[0m\u001b[0m\n\u001b[0m\u001b[1;32m      3\u001b[0m \u001b[0mprint\u001b[0m\u001b[0;34m(\u001b[0m\u001b[0mchar\u001b[0m \u001b[0;34m,\u001b[0m\u001b[0mtype\u001b[0m\u001b[0;34m(\u001b[0m\u001b[0mchar\u001b[0m\u001b[0;34m)\u001b[0m\u001b[0;34m,\u001b[0m \u001b[0mnum\u001b[0m \u001b[0;34m,\u001b[0m\u001b[0mtype\u001b[0m\u001b[0;34m(\u001b[0m\u001b[0mnum\u001b[0m\u001b[0;34m)\u001b[0m\u001b[0;34m)\u001b[0m\u001b[0;34m\u001b[0m\u001b[0;34m\u001b[0m\u001b[0m\n",
            "\u001b[0;31mValueError\u001b[0m: invalid literal for int() with base 10: 'a'"
          ]
        }
      ]
    },
    {
      "cell_type": "code",
      "source": [
        "char = 'a'\n",
        "num = ord(char)    # Only works if the character is a digit ('0' to '9')\n",
        "print(char ,type(char), num ,type(num))"
      ],
      "metadata": {
        "colab": {
          "base_uri": "https://localhost:8080/"
        },
        "id": "yoQMGJo08mF8",
        "outputId": "34fb9550-6764-4151-e140-02da9c25d028"
      },
      "execution_count": 54,
      "outputs": [
        {
          "output_type": "stream",
          "name": "stdout",
          "text": [
            "a <class 'str'> 97 <class 'int'>\n"
          ]
        }
      ]
    },
    {
      "cell_type": "markdown",
      "source": [
        "# **Strings**"
      ],
      "metadata": {
        "id": "IwMhoZwH6RKI"
      }
    },
    {
      "cell_type": "markdown",
      "source": [
        "---\n",
        "1. Extract the 6th character from the string \"Python programming is fun\" `\n"
      ],
      "metadata": {
        "id": "EFL5OAIn6Xvx"
      }
    },
    {
      "cell_type": "code",
      "source": [
        "str = \"Python programming is fun\"\n",
        "str[5]"
      ],
      "metadata": {
        "colab": {
          "base_uri": "https://localhost:8080/",
          "height": 36
        },
        "id": "4aP0Oj5f6bKv",
        "outputId": "024fd6fe-8402-45a7-f3fb-bed923a46d7f"
      },
      "execution_count": null,
      "outputs": [
        {
          "output_type": "execute_result",
          "data": {
            "text/plain": [
              "'n'"
            ],
            "application/vnd.google.colaboratory.intrinsic+json": {
              "type": "string"
            }
          },
          "metadata": {},
          "execution_count": 2
        }
      ]
    },
    {
      "cell_type": "markdown",
      "source": [
        "---\n",
        "2. Find the character 'g' from the string \"Python programming is fun\" `"
      ],
      "metadata": {
        "id": "gVtnrpLl6zcZ"
      }
    },
    {
      "cell_type": "code",
      "source": [
        "str.index('n')"
      ],
      "metadata": {
        "colab": {
          "base_uri": "https://localhost:8080/"
        },
        "id": "lgbtnESr9o7x",
        "outputId": "12c93226-4abb-42c5-c22f-d490e2b02259"
      },
      "execution_count": null,
      "outputs": [
        {
          "output_type": "execute_result",
          "data": {
            "text/plain": [
              "5"
            ]
          },
          "metadata": {},
          "execution_count": 12
        }
      ]
    },
    {
      "cell_type": "code",
      "source": [
        "str = \"Python programming is fun\"\n",
        "temp = 0\n",
        "pos = 0\n",
        "while temp == 0:\n",
        "  try:\n",
        "    a = str.index('n', pos)\n",
        "    print(a)\n",
        "    if a < len(str):\n",
        "      pos = a+1\n",
        "    else :\n",
        "      temp = 1\n",
        "\n",
        "  except ValueError:\n",
        "    break\n",
        "\n"
      ],
      "metadata": {
        "colab": {
          "base_uri": "https://localhost:8080/"
        },
        "id": "Io4LAUnp6zGf",
        "outputId": "39e8e08f-8cc3-422b-c303-eb91ea1cb606"
      },
      "execution_count": null,
      "outputs": [
        {
          "output_type": "stream",
          "name": "stdout",
          "text": [
            "5\n",
            "16\n",
            "24\n"
          ]
        }
      ]
    },
    {
      "cell_type": "markdown",
      "source": [
        "---\n",
        "4. From the string \"Coding every day makes you better\":\n",
        "\n",
        "a. Slice out the word every\n",
        "\n",
        "b. Retrieve the word day using a negative index range"
      ],
      "metadata": {
        "id": "Gi2-C5fbAKWd"
      }
    },
    {
      "cell_type": "code",
      "source": [
        "str1 = \"Coding every day makes you better\"\n",
        "words = str1.split()\n",
        "print(words[1])\n"
      ],
      "metadata": {
        "colab": {
          "base_uri": "https://localhost:8080/"
        },
        "id": "o61g7w95AY4y",
        "outputId": "f70d4263-4f8e-4fdc-b83d-d68e05679b1c"
      },
      "execution_count": null,
      "outputs": [
        {
          "output_type": "stream",
          "name": "stdout",
          "text": [
            "every\n"
          ]
        }
      ]
    },
    {
      "cell_type": "code",
      "source": [
        "print(words[-4])"
      ],
      "metadata": {
        "colab": {
          "base_uri": "https://localhost:8080/"
        },
        "id": "Zkuz4UL9BBgT",
        "outputId": "cf0ae1a2-c7ec-4fba-ae96-830011549650"
      },
      "execution_count": null,
      "outputs": [
        {
          "output_type": "stream",
          "name": "stdout",
          "text": [
            "day\n"
          ]
        }
      ]
    },
    {
      "cell_type": "markdown",
      "source": [
        "---\n",
        "5. Given the string \"Learning to code is a valuable skill\":\n",
        "\n",
        "a. Use slicing to print every second character\n",
        "\n",
        "b. Use slicing to print every third character"
      ],
      "metadata": {
        "id": "XpUTjHijBJTG"
      }
    },
    {
      "cell_type": "code",
      "source": [
        "str2 = \"Learning to code is a valuable skill\"\n",
        "words = str2.split()\n",
        "print(words)\n",
        "print(words[0][1:2:1])\n",
        "print(words[2][1:2:])\n",
        "\n",
        "print(words[0][2:3:1])\n",
        "print(words[2][2:3:])"
      ],
      "metadata": {
        "colab": {
          "base_uri": "https://localhost:8080/"
        },
        "id": "doakbjSDBMp7",
        "outputId": "0a60791d-f590-4962-d1ea-9005720c1e40"
      },
      "execution_count": null,
      "outputs": [
        {
          "output_type": "stream",
          "name": "stdout",
          "text": [
            "['Learning', 'to', 'code', 'is', 'a', 'valuable', 'skill']\n",
            "e\n",
            "o\n",
            "a\n",
            "d\n"
          ]
        }
      ]
    },
    {
      "cell_type": "markdown",
      "source": [
        "---\n",
        "6. For s = \"Practice makes perfect\", try these: a. s[:] b. s[0:] c. s[:18] d.\n",
        "Just s"
      ],
      "metadata": {
        "id": "BIcGiMlNCG5J"
      }
    },
    {
      "cell_type": "code",
      "source": [
        "s = \"Practice makes perfect\"\n",
        "print(s[:])\n",
        "print(s[0:])\n",
        "print( s[2:10:5])\n",
        "print( s )"
      ],
      "metadata": {
        "colab": {
          "base_uri": "https://localhost:8080/"
        },
        "id": "dh9Bv-NfCGcK",
        "outputId": "cc976d7b-c02a-431e-8336-322a4b5d2058"
      },
      "execution_count": null,
      "outputs": [
        {
          "output_type": "stream",
          "name": "stdout",
          "text": [
            "Practice makes perfect\n",
            "Practice makes perfect\n",
            "ae\n",
            "Practice makes perfect\n"
          ]
        }
      ]
    },
    {
      "cell_type": "markdown",
      "source": [
        "`**str[Start:End:Step]**`\n",
        "\n",
        "**If only two parameters are given in string slicing:\n",
        "Then the second one is always the end index, not the length**"
      ],
      "metadata": {
        "id": "FEogVBOaDTrc"
      }
    },
    {
      "cell_type": "markdown",
      "source": [
        "---\n",
        "7. Convert the string \"67890\" into an integer and verify the data type"
      ],
      "metadata": {
        "id": "02RgTQiVEP5q"
      }
    },
    {
      "cell_type": "code",
      "source": [
        "str3 = \"67890\"\n",
        "num = int(str3)\n",
        "print(num,type(num))\n"
      ],
      "metadata": {
        "id": "EqsLWsoBEUQF",
        "colab": {
          "base_uri": "https://localhost:8080/"
        },
        "outputId": "2e5cf84b-48a6-4f63-f232-4ef735aa9ab5"
      },
      "execution_count": null,
      "outputs": [
        {
          "output_type": "stream",
          "name": "stdout",
          "text": [
            "67890 <class 'int'>\n"
          ]
        }
      ]
    },
    {
      "cell_type": "code",
      "source": [
        "str3 = \"67890.6\"\n",
        "num = float(str3)\n",
        "print(num,type(num))"
      ],
      "metadata": {
        "colab": {
          "base_uri": "https://localhost:8080/"
        },
        "id": "rFvBgBCwFe20",
        "outputId": "d002df55-6f83-4f54-e27f-7179d046ca13"
      },
      "execution_count": null,
      "outputs": [
        {
          "output_type": "stream",
          "name": "stdout",
          "text": [
            "67890.6 <class 'float'>\n"
          ]
        }
      ]
    },
    {
      "cell_type": "markdown",
      "source": [
        "\n",
        "\n",
        "---\n",
        "---\n",
        "\n"
      ],
      "metadata": {
        "id": "2mYb5ZyQGIAp"
      }
    },
    {
      "cell_type": "markdown",
      "source": [
        "# **Lists**"
      ],
      "metadata": {
        "id": "8-z9slEcGDa7"
      }
    },
    {
      "cell_type": "markdown",
      "source": [
        "1. Create:\n",
        "\n",
        "a. A list of 5 numbers\n",
        "\n",
        "b. A list of 4 city names\n",
        "\n",
        "c. A mixed list with both strings\n",
        "and numbers"
      ],
      "metadata": {
        "id": "0xtKVnPZGGEA"
      }
    },
    {
      "cell_type": "code",
      "source": [
        "num = [1,2,3,4,5]\n",
        "num"
      ],
      "metadata": {
        "id": "GPqyYyvhGFgO",
        "colab": {
          "base_uri": "https://localhost:8080/"
        },
        "outputId": "142a97bd-74c3-416e-9e38-2b8e9f28ab3d"
      },
      "execution_count": null,
      "outputs": [
        {
          "output_type": "execute_result",
          "data": {
            "text/plain": [
              "[1, 2, 3, 4, 5]"
            ]
          },
          "metadata": {},
          "execution_count": 2
        }
      ]
    },
    {
      "cell_type": "code",
      "source": [
        "cities = [\"Pune\",\"Mumbai\",\"Delhi\",\"Chennai\"]\n",
        "cities"
      ],
      "metadata": {
        "colab": {
          "base_uri": "https://localhost:8080/"
        },
        "id": "nQF37_VxQCSv",
        "outputId": "6434f9be-b7bc-4de9-ef58-bad279bd9b77"
      },
      "execution_count": null,
      "outputs": [
        {
          "output_type": "execute_result",
          "data": {
            "text/plain": [
              "['Pune', 'Mumbai', 'Delhi', 'Chennai']"
            ]
          },
          "metadata": {},
          "execution_count": 3
        }
      ]
    },
    {
      "cell_type": "code",
      "source": [
        "mixed = [1,2,\"One\",\"Two\"]\n",
        "mixed"
      ],
      "metadata": {
        "colab": {
          "base_uri": "https://localhost:8080/"
        },
        "id": "kZffYAjPQJmE",
        "outputId": "88da921e-bab4-4ea3-a23e-ea5481c68129"
      },
      "execution_count": null,
      "outputs": [
        {
          "output_type": "execute_result",
          "data": {
            "text/plain": [
              "[1, 2, 'One', 'Two']"
            ]
          },
          "metadata": {},
          "execution_count": 5
        }
      ]
    },
    {
      "cell_type": "markdown",
      "source": [
        "## 2. Perform these list operations:"
      ],
      "metadata": {
        "id": "qTkx0Z9YQSJc"
      }
    },
    {
      "cell_type": "code",
      "source": [
        "l = [1,2,3,4,\"one\",\"two\",\"three\",\"four\",5]\n",
        "l"
      ],
      "metadata": {
        "colab": {
          "base_uri": "https://localhost:8080/"
        },
        "id": "9MXG2h4BQUi1",
        "outputId": "2b0f2a3c-850e-4f51-cdcc-8670186710f7"
      },
      "execution_count": null,
      "outputs": [
        {
          "output_type": "execute_result",
          "data": {
            "text/plain": [
              "[1, 2, 3, 4, 'one', 'two', 'three', 'four', 5]"
            ]
          },
          "metadata": {},
          "execution_count": 18
        }
      ]
    },
    {
      "cell_type": "markdown",
      "source": [
        "**a. Get the number of elements in the list**"
      ],
      "metadata": {
        "id": "l3t7TQjeQueQ"
      }
    },
    {
      "cell_type": "code",
      "source": [
        "len(l)"
      ],
      "metadata": {
        "colab": {
          "base_uri": "https://localhost:8080/"
        },
        "id": "2JaIgkSoQvcy",
        "outputId": "b7142138-485b-4e5e-ef47-3fd13d1851b0"
      },
      "execution_count": null,
      "outputs": [
        {
          "output_type": "execute_result",
          "data": {
            "text/plain": [
              "9"
            ]
          },
          "metadata": {},
          "execution_count": 19
        }
      ]
    },
    {
      "cell_type": "markdown",
      "source": [
        "**b. Display each element using a loop**"
      ],
      "metadata": {
        "id": "TkwFwkQTRHqj"
      }
    },
    {
      "cell_type": "code",
      "source": [
        "for item in l:\n",
        "  print(item)"
      ],
      "metadata": {
        "colab": {
          "base_uri": "https://localhost:8080/"
        },
        "id": "mCscOS58RJin",
        "outputId": "19639eee-0c1f-4b5f-c509-6dfeadc7a763"
      },
      "execution_count": null,
      "outputs": [
        {
          "output_type": "stream",
          "name": "stdout",
          "text": [
            "1\n",
            "2\n",
            "3\n",
            "4\n",
            "one\n",
            "two\n",
            "three\n",
            "four\n",
            "5\n"
          ]
        }
      ]
    },
    {
      "cell_type": "markdown",
      "source": [
        "**c. Add an element to the end**"
      ],
      "metadata": {
        "id": "IeSwY0-zRcT8"
      }
    },
    {
      "cell_type": "code",
      "source": [
        "l.append(6)\n",
        "l"
      ],
      "metadata": {
        "colab": {
          "base_uri": "https://localhost:8080/"
        },
        "id": "d_zyqE5xRcp0",
        "outputId": "007b7c62-3bb1-4c72-e58e-fe200ad34dc6"
      },
      "execution_count": null,
      "outputs": [
        {
          "output_type": "execute_result",
          "data": {
            "text/plain": [
              "[1, 2, 3, 4, 'one', 'two', 'three', 'four', 5, 6]"
            ]
          },
          "metadata": {},
          "execution_count": 21
        }
      ]
    },
    {
      "cell_type": "markdown",
      "source": [
        "**d. Insert an element at the beginning**"
      ],
      "metadata": {
        "id": "ORu_TPBMRknS"
      }
    },
    {
      "cell_type": "code",
      "source": [
        "l.insert(0,0)\n",
        "l"
      ],
      "metadata": {
        "colab": {
          "base_uri": "https://localhost:8080/"
        },
        "id": "WHjtZwvJRlB-",
        "outputId": "0c5ca2d9-570a-4df3-dc86-4387648c8ea8"
      },
      "execution_count": null,
      "outputs": [
        {
          "output_type": "execute_result",
          "data": {
            "text/plain": [
              "[0, 1, 2, 3, 4, 'one', 'two', 'three', 'four', 5, 6]"
            ]
          },
          "metadata": {},
          "execution_count": 22
        }
      ]
    },
    {
      "cell_type": "markdown",
      "source": [
        "**e. Insert an element at position 2**"
      ],
      "metadata": {
        "id": "OEFSmIswR8yf"
      }
    },
    {
      "cell_type": "code",
      "source": [
        "l.insert(2,\"zero\")\n",
        "l"
      ],
      "metadata": {
        "colab": {
          "base_uri": "https://localhost:8080/"
        },
        "id": "Rf5brKjJR9XZ",
        "outputId": "65246e27-796d-482c-8613-6c5308728a35"
      },
      "execution_count": null,
      "outputs": [
        {
          "output_type": "execute_result",
          "data": {
            "text/plain": [
              "[0, 1, 'zero', 2, 3, 4, 'one', 'two', 'three', 'four', 5, 6]"
            ]
          },
          "metadata": {},
          "execution_count": 23
        }
      ]
    },
    {
      "cell_type": "markdown",
      "source": [
        "**f. Combine two lists using both + and .extend() methods and observe differences**"
      ],
      "metadata": {
        "id": "PODP4qxDSSr5"
      }
    },
    {
      "cell_type": "markdown",
      "source": [
        "| Operation         | What it Does                                | In-place? | Example            | Output           |\n",
        "| ----------------- | ------------------------------------------- | --------- | ------------------ | ---------------- |\n",
        "| `+` (concatenate) | Joins two lists and returns a **new list**  | ❌ No      | `[1, 2] + [3, 4]`  | `[1, 2, 3, 4]`   |\n",
        "| `.append(x)`      | Adds `x` as a **single element** at the end | ✅ Yes     | `a.append([3, 4])` | `[1, 2, [3, 4]]` |\n",
        "| `.extend(x)`      | Adds each element of `x` **individually**   | ✅ Yes     | `a.extend([3, 4])` | `[1, 2, 3, 4]`   |\n"
      ],
      "metadata": {
        "id": "AeJ37wTPUkaI"
      }
    },
    {
      "cell_type": "code",
      "source": [
        "l1 = [1,2,3,4,\"one\",\"two\",\"three\",\"four\",5]\n",
        "l2 = [11,12,13]\n",
        "l3 = l1+l2\n",
        "l3"
      ],
      "metadata": {
        "colab": {
          "base_uri": "https://localhost:8080/"
        },
        "id": "Dn9dtG2iSSUo",
        "outputId": "c0826804-f343-4181-e815-4badf136b54d"
      },
      "execution_count": null,
      "outputs": [
        {
          "output_type": "execute_result",
          "data": {
            "text/plain": [
              "[1, 2, 3, 4, 'one', 'two', 'three', 'four', 5, 11, 12, 13]"
            ]
          },
          "metadata": {},
          "execution_count": 43
        }
      ]
    },
    {
      "cell_type": "code",
      "source": [
        "l1 = [1,2,3,4,\"one\",\"two\",\"three\",\"four\",5]\n",
        "l2 = [11,12,13]\n",
        "l1.append(l2)\n",
        "print(l1)"
      ],
      "metadata": {
        "colab": {
          "base_uri": "https://localhost:8080/"
        },
        "id": "LetE2PdGSmFV",
        "outputId": "eeb8e81a-ac4e-4749-d2b1-62cbb39bc8d1"
      },
      "execution_count": null,
      "outputs": [
        {
          "output_type": "stream",
          "name": "stdout",
          "text": [
            "[1, 2, 3, 4, 'one', 'two', 'three', 'four', 5, [11, 12, 13]]\n"
          ]
        }
      ]
    },
    {
      "cell_type": "code",
      "source": [
        "l1 = [1,2,3,4,\"one\",\"two\",\"three\",\"four\",5]\n",
        "l2 = [11,12,13]\n",
        "l1.extend(l2)\n",
        "print(l1)"
      ],
      "metadata": {
        "id": "Zq9y2G3VUaIA"
      },
      "execution_count": null,
      "outputs": []
    },
    {
      "cell_type": "code",
      "source": [
        "l1 = [1,2,3,4,\"one\",\"two\",\"three\",\"four\",5]\n",
        "l2 = \"san\"\n",
        "l1.append(l2)\n",
        "print(l1)"
      ],
      "metadata": {
        "colab": {
          "base_uri": "https://localhost:8080/"
        },
        "id": "01PWNl9cT1on",
        "outputId": "93563ef7-15df-4f61-9eb4-c69b9eca5db8"
      },
      "execution_count": null,
      "outputs": [
        {
          "output_type": "stream",
          "name": "stdout",
          "text": [
            "[1, 2, 3, 4, 'one', 'two', 'three', 'four', 5, 'san']\n"
          ]
        }
      ]
    },
    {
      "cell_type": "code",
      "source": [
        "l1 = [1,2,3,4,\"one\",\"two\",\"three\",\"four\",5]\n",
        "l2 = \"san\"\n",
        "l1.extend(l2)\n",
        "print(l1)"
      ],
      "metadata": {
        "colab": {
          "base_uri": "https://localhost:8080/"
        },
        "id": "2yzJoGN5UWHd",
        "outputId": "87f44161-47a7-4318-e4a8-1f43ab2f49c8"
      },
      "execution_count": null,
      "outputs": [
        {
          "output_type": "stream",
          "name": "stdout",
          "text": [
            "[1, 2, 3, 4, 'one', 'two', 'three', 'four', 5, 's', 'a', 'n']\n"
          ]
        }
      ]
    },
    {
      "cell_type": "markdown",
      "source": [
        "**g. Retrieve the 4th item from a list**"
      ],
      "metadata": {
        "id": "EXCmvQVuVsSC"
      }
    },
    {
      "cell_type": "code",
      "source": [
        "l1[3]"
      ],
      "metadata": {
        "colab": {
          "base_uri": "https://localhost:8080/"
        },
        "id": "I8hjLe8JTIyt",
        "outputId": "0e17d303-4975-41b7-cac0-4001de4d689a"
      },
      "execution_count": null,
      "outputs": [
        {
          "output_type": "execute_result",
          "data": {
            "text/plain": [
              "4"
            ]
          },
          "metadata": {},
          "execution_count": 49
        }
      ]
    },
    {
      "cell_type": "markdown",
      "source": [
        "**h. Retrieve items from index 1 to 3**"
      ],
      "metadata": {
        "id": "dgUhfAVHV5gv"
      }
    },
    {
      "cell_type": "code",
      "source": [
        "print(l1[1:3])"
      ],
      "metadata": {
        "colab": {
          "base_uri": "https://localhost:8080/"
        },
        "id": "3GmMqdFjV6B0",
        "outputId": "60fc12cb-cf50-4cf6-ac39-838f2486bccd"
      },
      "execution_count": null,
      "outputs": [
        {
          "output_type": "stream",
          "name": "stdout",
          "text": [
            "[2, 3]\n"
          ]
        }
      ]
    },
    {
      "cell_type": "markdown",
      "source": [
        "**i. Replace an item with a new one**"
      ],
      "metadata": {
        "id": "vdLH2p7HWGEH"
      }
    },
    {
      "cell_type": "code",
      "source": [
        "l1 = [1,2,3,4,\"one\",\"two\",\"three\",\"four\",5]\n",
        "print(l1)\n",
        "l1[4] = \"Eleven\"\n",
        "print(l1)"
      ],
      "metadata": {
        "colab": {
          "base_uri": "https://localhost:8080/"
        },
        "id": "R2lv4axeXeyS",
        "outputId": "9692f777-8ac7-4eca-8208-caa970d85e73"
      },
      "execution_count": null,
      "outputs": [
        {
          "output_type": "stream",
          "name": "stdout",
          "text": [
            "[1, 2, 3, 4, 'one', 'two', 'three', 'four', 5]\n",
            "[1, 2, 3, 4, 'Eleven', 'two', 'three', 'four', 5]\n"
          ]
        }
      ]
    },
    {
      "cell_type": "code",
      "source": [
        "l1 = [1,2,3,4,\"one\",\"two\",\"three\",\"four\",5]\n",
        "print(l1)\n",
        "l1.pop(4)\n",
        "l1.insert(4,'eleven')\n",
        "print(l1)"
      ],
      "metadata": {
        "colab": {
          "base_uri": "https://localhost:8080/"
        },
        "id": "LGaXpv8JWGXl",
        "outputId": "b01fd2ac-bec1-4a06-fbdf-212d9f76a877"
      },
      "execution_count": null,
      "outputs": [
        {
          "output_type": "stream",
          "name": "stdout",
          "text": [
            "[1, 2, 3, 4, 'one', 'two', 'three', 'four', 5]\n",
            "[1, 2, 3, 4, 'eleven', 'two', 'three', 'four', 5]\n"
          ]
        }
      ]
    },
    {
      "cell_type": "code",
      "source": [
        "l1 = [1,2,3,4,\"one\",\"two\",\"three\",\"four\",5]\n",
        "index = l1.index(\"one\")\n",
        "l1[index] = 'eleven'\n",
        "print(l1)"
      ],
      "metadata": {
        "colab": {
          "base_uri": "https://localhost:8080/"
        },
        "id": "kAv2SDmfW-if",
        "outputId": "b815b260-b9c6-407e-ba3e-7ab5778731d3"
      },
      "execution_count": null,
      "outputs": [
        {
          "output_type": "stream",
          "name": "stdout",
          "text": [
            "[1, 2, 3, 4, 'eleven', 'two', 'three', 'four', 5]\n"
          ]
        }
      ]
    },
    {
      "cell_type": "markdown",
      "source": [
        "## 3. Simulate a stack using list operations"
      ],
      "metadata": {
        "id": "bxoodCJ3XxdW"
      }
    },
    {
      "cell_type": "code",
      "source": [
        "def push(l,val):\n",
        "  l.append(val)\n",
        "  print(l)\n",
        "\n",
        "def pop(l):\n",
        "  print(l.pop())\n"
      ],
      "metadata": {
        "id": "4xAW2PrQX1aO"
      },
      "execution_count": null,
      "outputs": []
    },
    {
      "cell_type": "code",
      "source": [
        "l1 = []\n",
        "push(l1,1)"
      ],
      "metadata": {
        "colab": {
          "base_uri": "https://localhost:8080/"
        },
        "id": "Aj66rivfYhLz",
        "outputId": "0202a1f4-2315-43cb-ed3f-2b10f4abe237"
      },
      "execution_count": null,
      "outputs": [
        {
          "output_type": "stream",
          "name": "stdout",
          "text": [
            "[1]\n"
          ]
        }
      ]
    },
    {
      "cell_type": "code",
      "source": [
        "push(l1,3)"
      ],
      "metadata": {
        "colab": {
          "base_uri": "https://localhost:8080/"
        },
        "id": "BDQqrfuyYnP2",
        "outputId": "2c94dba5-70ce-4d37-bd43-7c8b9588da43"
      },
      "execution_count": null,
      "outputs": [
        {
          "output_type": "stream",
          "name": "stdout",
          "text": [
            "[1, 3]\n"
          ]
        }
      ]
    },
    {
      "cell_type": "code",
      "source": [
        "push(l1,33)"
      ],
      "metadata": {
        "colab": {
          "base_uri": "https://localhost:8080/"
        },
        "id": "4Gw1itFsYpWE",
        "outputId": "550cbadd-b8bd-41dc-d30c-426b7d5ec0fa"
      },
      "execution_count": null,
      "outputs": [
        {
          "output_type": "stream",
          "name": "stdout",
          "text": [
            "[1, 3, 33]\n"
          ]
        }
      ]
    },
    {
      "cell_type": "code",
      "source": [
        "pop(l1)"
      ],
      "metadata": {
        "colab": {
          "base_uri": "https://localhost:8080/"
        },
        "id": "mAvsN9F-Yqy-",
        "outputId": "1e3d4d20-8d21-4949-d7e6-ff94d2d7c97a"
      },
      "execution_count": null,
      "outputs": [
        {
          "output_type": "stream",
          "name": "stdout",
          "text": [
            "33\n"
          ]
        }
      ]
    },
    {
      "cell_type": "code",
      "source": [
        "push(l1,45)"
      ],
      "metadata": {
        "colab": {
          "base_uri": "https://localhost:8080/"
        },
        "id": "0Z-0yxJaYyim",
        "outputId": "6345e48d-217e-4005-dfda-1d3fa00e6e96"
      },
      "execution_count": null,
      "outputs": [
        {
          "output_type": "stream",
          "name": "stdout",
          "text": [
            "[1, 3, 45]\n"
          ]
        }
      ]
    },
    {
      "cell_type": "markdown",
      "source": [
        "## **4. Simulate a queue using list operations**"
      ],
      "metadata": {
        "id": "OuV0K_nTZh1E"
      }
    },
    {
      "cell_type": "code",
      "source": [
        "def q_push(l,val):\n",
        "  l.insert(0,val)\n",
        "  print(l)\n",
        "\n",
        "def q_pop(l):\n",
        "  print(l.pop())"
      ],
      "metadata": {
        "id": "PHqzqWu4ZobB"
      },
      "execution_count": null,
      "outputs": []
    },
    {
      "cell_type": "code",
      "source": [
        "l2=[]\n",
        "q_push(l2,1)"
      ],
      "metadata": {
        "colab": {
          "base_uri": "https://localhost:8080/"
        },
        "id": "fB4oYhBpZyoo",
        "outputId": "6e8f9c89-57c5-4b2d-c7d5-2dc1f9fb0d90"
      },
      "execution_count": null,
      "outputs": [
        {
          "output_type": "stream",
          "name": "stdout",
          "text": [
            "[1]\n"
          ]
        }
      ]
    },
    {
      "cell_type": "code",
      "source": [
        "q_push(l2,4)"
      ],
      "metadata": {
        "colab": {
          "base_uri": "https://localhost:8080/"
        },
        "id": "-pnNPYJ0Z33U",
        "outputId": "9676dcc7-93f6-4378-d030-e42b93001cae"
      },
      "execution_count": null,
      "outputs": [
        {
          "output_type": "stream",
          "name": "stdout",
          "text": [
            "[4, 1]\n"
          ]
        }
      ]
    },
    {
      "cell_type": "code",
      "source": [
        "q_push(l2,6)"
      ],
      "metadata": {
        "colab": {
          "base_uri": "https://localhost:8080/"
        },
        "id": "NeXiUPf2Z6Vk",
        "outputId": "020cc58d-6a1d-4e0b-c6e3-c8d366fa0449"
      },
      "execution_count": null,
      "outputs": [
        {
          "output_type": "stream",
          "name": "stdout",
          "text": [
            "[6, 4, 1]\n"
          ]
        }
      ]
    },
    {
      "cell_type": "code",
      "source": [
        "q_pop(l2)"
      ],
      "metadata": {
        "colab": {
          "base_uri": "https://localhost:8080/"
        },
        "id": "QHwEdSfZZ7tf",
        "outputId": "9c6ec08a-a3b7-4b63-a8fa-211f76cce444"
      },
      "execution_count": null,
      "outputs": [
        {
          "output_type": "stream",
          "name": "stdout",
          "text": [
            "1\n"
          ]
        }
      ]
    },
    {
      "cell_type": "code",
      "source": [
        "q_push(l2,56)"
      ],
      "metadata": {
        "colab": {
          "base_uri": "https://localhost:8080/"
        },
        "id": "7qFZiffLaThD",
        "outputId": "c6cb961c-24c0-4b4d-ccf6-b5cba8d7fdb9"
      },
      "execution_count": null,
      "outputs": [
        {
          "output_type": "stream",
          "name": "stdout",
          "text": [
            "[56, 6, 4]\n"
          ]
        }
      ]
    },
    {
      "cell_type": "markdown",
      "source": [
        "## **Sorting**\n",
        "5. Given URLs:\n",
        "urls = [\"www.alpha.edu\", \"www.search.com\", \"www.newsnet.com\", \"www.site.org\",\n",
        "\"www.tech.gov.in\"]\n",
        "\n"
      ],
      "metadata": {
        "id": "afH0FIjoajYT"
      }
    },
    {
      "cell_type": "code",
      "source": [
        "urls = [\"www.alpha.edu\", \"www.search.com\", \"www.newsnet.com\", \"www.site.org\",\n",
        "\"www.tech.gov.in\"]\n",
        "urls\n"
      ],
      "metadata": {
        "colab": {
          "base_uri": "https://localhost:8080/"
        },
        "id": "QkaLBRyhakLQ",
        "outputId": "be244ff9-4c05-440a-a878-f033edf00e30"
      },
      "execution_count": null,
      "outputs": [
        {
          "output_type": "execute_result",
          "data": {
            "text/plain": [
              "['www.alpha.edu',\n",
              " 'www.search.com',\n",
              " 'www.newsnet.com',\n",
              " 'www.site.org',\n",
              " 'www.tech.gov.in']"
            ]
          },
          "metadata": {},
          "execution_count": 91
        }
      ]
    },
    {
      "cell_type": "code",
      "source": [
        "#sort by len\n",
        "urls.sort(key=len,reverse=False)\n",
        "urls"
      ],
      "metadata": {
        "colab": {
          "base_uri": "https://localhost:8080/"
        },
        "id": "BnfaoiiDauMt",
        "outputId": "f561ede6-e1d9-488a-fe49-0ad6dba80044"
      },
      "execution_count": null,
      "outputs": [
        {
          "output_type": "execute_result",
          "data": {
            "text/plain": [
              "['www.site.org',\n",
              " 'www.alpha.edu',\n",
              " 'www.search.com',\n",
              " 'www.tech.gov.in',\n",
              " 'www.newsnet.com']"
            ]
          },
          "metadata": {},
          "execution_count": 98
        }
      ]
    },
    {
      "cell_type": "markdown",
      "source": [
        "**Sort based on their domain extension**"
      ],
      "metadata": {
        "id": "BcNyqijgd4gs"
      }
    },
    {
      "cell_type": "code",
      "source": [
        "def customsort(str):\n",
        "  return(str.split('.')[-1])\n",
        "\n",
        "\n",
        "urls.sort(key=customsort,reverse=False)\n",
        "urls"
      ],
      "metadata": {
        "colab": {
          "base_uri": "https://localhost:8080/"
        },
        "id": "9kb2OuFcbFC8",
        "outputId": "0aade482-efe2-42df-dbca-0e0c404f489a"
      },
      "execution_count": null,
      "outputs": [
        {
          "output_type": "execute_result",
          "data": {
            "text/plain": [
              "['www.search.com',\n",
              " 'www.newsnet.com',\n",
              " 'www.alpha.edu',\n",
              " 'www.tech.gov.in',\n",
              " 'www.site.org']"
            ]
          },
          "metadata": {},
          "execution_count": 110
        }
      ]
    },
    {
      "cell_type": "markdown",
      "source": [
        "## **So using \"key=\" another dummy list is created and that dummy list is sorted**"
      ],
      "metadata": {
        "id": "zTvT46OWc5Gc"
      }
    },
    {
      "cell_type": "markdown",
      "source": [
        "## 6.\n",
        "Given:\n",
        "color_names = [\"Cyan\", \"Magenta\", \"Yellow\", \"Black\"]\n",
        "\n",
        "color_codes = [202, 303, 404, 505]\n",
        "\n",
        "Perform:\n",
        "a. Print all colors, then print only the first color\n",
        "\n",
        "b. Print the list twice\n",
        "\n",
        "c. Combine color names and codes into a single list\n",
        "\n",
        "d. Print from 2nd code to last\n",
        "\n",
        "e. Show the data type of the final code item\n"
      ],
      "metadata": {
        "id": "RLL2D5Mvsqma"
      }
    },
    {
      "cell_type": "code",
      "source": [
        "color_names = [\"Cyan\", \"Magenta\", \"Yellow\", \"Black\"]\n",
        "color_codes = [202, 303, 404, 505]"
      ],
      "metadata": {
        "id": "N6_jw3mLcVv8"
      },
      "execution_count": null,
      "outputs": []
    },
    {
      "cell_type": "code",
      "source": [
        "print(color_names)\n",
        "print(color_names[0])"
      ],
      "metadata": {
        "colab": {
          "base_uri": "https://localhost:8080/"
        },
        "id": "0rSLA9W2swNO",
        "outputId": "6fd78103-4e02-4be8-aefc-3d097b45d27a"
      },
      "execution_count": null,
      "outputs": [
        {
          "output_type": "stream",
          "name": "stdout",
          "text": [
            "['Cyan', 'Magenta', 'Yellow', 'Black']\n",
            "Cyan\n"
          ]
        }
      ]
    },
    {
      "cell_type": "code",
      "source": [
        "print(color_names*2)"
      ],
      "metadata": {
        "colab": {
          "base_uri": "https://localhost:8080/"
        },
        "id": "5v73cc-2s4NI",
        "outputId": "b2d5ee98-08f0-407e-e161-7a67ca47512d"
      },
      "execution_count": null,
      "outputs": [
        {
          "output_type": "stream",
          "name": "stdout",
          "text": [
            "['Cyan', 'Magenta', 'Yellow', 'Black', 'Cyan', 'Magenta', 'Yellow', 'Black']\n"
          ]
        }
      ]
    },
    {
      "cell_type": "code",
      "source": [
        "mergedList = color_names + color_codes\n",
        "print(mergedList)"
      ],
      "metadata": {
        "colab": {
          "base_uri": "https://localhost:8080/"
        },
        "id": "sLHG0hg5s9gK",
        "outputId": "905903ca-0f3b-495c-bd7d-f5a4fd12d30a"
      },
      "execution_count": null,
      "outputs": [
        {
          "output_type": "stream",
          "name": "stdout",
          "text": [
            "['Cyan', 'Magenta', 'Yellow', 'Black', 202, 303, 404, 505]\n"
          ]
        }
      ]
    },
    {
      "cell_type": "code",
      "source": [
        "print(color_codes[1:])"
      ],
      "metadata": {
        "colab": {
          "base_uri": "https://localhost:8080/"
        },
        "id": "3kKNFnUrtGr5",
        "outputId": "b7e17ff6-4b46-4595-fa04-c0ed3aa05f40"
      },
      "execution_count": null,
      "outputs": [
        {
          "output_type": "stream",
          "name": "stdout",
          "text": [
            "[303, 404, 505]\n"
          ]
        }
      ]
    },
    {
      "cell_type": "code",
      "source": [
        "type(mergedList)"
      ],
      "metadata": {
        "colab": {
          "base_uri": "https://localhost:8080/"
        },
        "id": "Sc_wGvZbtRFS",
        "outputId": "b8aded3b-fd29-4431-b3e2-3989be187a8f"
      },
      "execution_count": null,
      "outputs": [
        {
          "output_type": "execute_result",
          "data": {
            "text/plain": [
              "list"
            ]
          },
          "metadata": {},
          "execution_count": 7
        }
      ]
    },
    {
      "cell_type": "markdown",
      "source": [
        "## 7.\n",
        "\n",
        "Write def count_same_ends(words) that returns the count of words with:\n",
        "* length ≥ 2, and\n",
        "* same starting and ending character"
      ],
      "metadata": {
        "id": "eioD2ZdEtzMl"
      }
    },
    {
      "cell_type": "code",
      "source": [
        "def countSameEnds(words):\n",
        "  words = words.split()\n",
        "  cnt = 0\n",
        "  cnt1 = 0\n",
        "  for word in words:\n",
        "    if len(word) >= 2:\n",
        "      cnt = cnt + 1\n",
        "\n",
        "    if word[0] == word[-1]:\n",
        "      print(word)\n",
        "      cnt1 = cnt1 + 1\n",
        "\n",
        "  print(\"Words with lenght >= 2: \",cnt)\n",
        "  print(\"Words with same starting and ending character : \",cnt1)"
      ],
      "metadata": {
        "id": "wgxjQPZSt5Dn"
      },
      "execution_count": null,
      "outputs": []
    },
    {
      "cell_type": "code",
      "source": [
        "countSameEnds(\"I am Sandeep patil. I am Sneha's dad . \")"
      ],
      "metadata": {
        "colab": {
          "base_uri": "https://localhost:8080/"
        },
        "id": "_AlWANzoud5a",
        "outputId": "ca3f5d23-6193-42c5-ab95-7620f92736ae"
      },
      "execution_count": null,
      "outputs": [
        {
          "output_type": "stream",
          "name": "stdout",
          "text": [
            "I\n",
            "I\n",
            "dad\n",
            ".\n",
            "Words with lenght >= 2:  6\n",
            "Words with same starting and ending character :  4\n"
          ]
        }
      ]
    },
    {
      "cell_type": "markdown",
      "source": [],
      "metadata": {
        "id": "ZE-58BCQwxcn"
      }
    },
    {
      "cell_type": "markdown",
      "source": [
        "# **Tuple**"
      ],
      "metadata": {
        "id": "dahtC-mKzQnu"
      }
    },
    {
      "cell_type": "markdown",
      "source": [
        "1. Create an empty tuple\n",
        "2. Create a tuple with a single value\n",
        "3. Create one tuple with numbers and one with strings\n",
        "4. Create a tuple of lists and a list of tuples"
      ],
      "metadata": {
        "id": "QE9rUdIczXaZ"
      }
    },
    {
      "cell_type": "code",
      "source": [
        "t = ()\n",
        "type(t)"
      ],
      "metadata": {
        "colab": {
          "base_uri": "https://localhost:8080/"
        },
        "id": "y6GjV1QMzf4E",
        "outputId": "0d5613f7-5965-4e49-c1fb-d4a1fbc2fde4"
      },
      "execution_count": null,
      "outputs": [
        {
          "output_type": "execute_result",
          "data": {
            "text/plain": [
              "tuple"
            ]
          },
          "metadata": {},
          "execution_count": 1
        }
      ]
    },
    {
      "cell_type": "code",
      "source": [
        "t1 = (1)\n",
        "print(type(t1))\n",
        "t1 = (1,)      # , is necessor fo r single element\n",
        "print(type(t1))\n",
        "t1 = (1,2)\n",
        "print(type(t1))"
      ],
      "metadata": {
        "colab": {
          "base_uri": "https://localhost:8080/"
        },
        "id": "trqFXBcozWI6",
        "outputId": "a18329a6-5870-483e-b4cc-340a2f878ffb"
      },
      "execution_count": null,
      "outputs": [
        {
          "output_type": "stream",
          "name": "stdout",
          "text": [
            "<class 'int'>\n",
            "<class 'tuple'>\n",
            "<class 'tuple'>\n"
          ]
        }
      ]
    },
    {
      "cell_type": "code",
      "source": [
        "t2=(1,2,3)\n",
        "t3=(\"One\",\"Two\",\"Three\")\n",
        "print(type(t2),t2)\n",
        "print(type(t3),t3)"
      ],
      "metadata": {
        "colab": {
          "base_uri": "https://localhost:8080/"
        },
        "id": "NJCtM0h70Dt7",
        "outputId": "8b73c88e-5359-44ad-84d1-35678ae8375a"
      },
      "execution_count": null,
      "outputs": [
        {
          "output_type": "stream",
          "name": "stdout",
          "text": [
            "<class 'tuple'> (1, 2, 3)\n",
            "<class 'tuple'> ('One', 'Two', 'Three')\n"
          ]
        }
      ]
    },
    {
      "cell_type": "code",
      "source": [
        "t5=([1,2],[\"One\",\"Two\"])\n",
        "t6=[(1,2),(\"One\",\"Two\")]\n",
        "\n",
        "print(type(t5),t5)\n",
        "print(type(t6),t6)"
      ],
      "metadata": {
        "colab": {
          "base_uri": "https://localhost:8080/"
        },
        "id": "-kBf3w8c05bI",
        "outputId": "48b2cf7a-94f0-45b1-8959-d37f8ad510b9"
      },
      "execution_count": null,
      "outputs": [
        {
          "output_type": "stream",
          "name": "stdout",
          "text": [
            "<class 'tuple'> ([1, 2], ['One', 'Two'])\n",
            "<class 'list'> [(1, 2), ('One', 'Two')]\n"
          ]
        }
      ]
    },
    {
      "cell_type": "markdown",
      "source": [
        "## 5. Access the 4th element of a tuple"
      ],
      "metadata": {
        "id": "olFNONsX1WtP"
      }
    },
    {
      "cell_type": "code",
      "source": [
        "t1 = (1,2,3,4,5,6,7,8,9)\n",
        "t1[3]"
      ],
      "metadata": {
        "colab": {
          "base_uri": "https://localhost:8080/"
        },
        "id": "1NiKOyRC1cT0",
        "outputId": "f5a30656-59bc-4092-f18a-2a73f965eb17"
      },
      "execution_count": null,
      "outputs": [
        {
          "output_type": "execute_result",
          "data": {
            "text/plain": [
              "4"
            ]
          },
          "metadata": {},
          "execution_count": 16
        }
      ]
    },
    {
      "cell_type": "markdown",
      "source": [
        "## 6. Access elements from index 1 to 3"
      ],
      "metadata": {
        "id": "kwwJ2eUn1sXp"
      }
    },
    {
      "cell_type": "code",
      "source": [
        "t1[1:4]"
      ],
      "metadata": {
        "colab": {
          "base_uri": "https://localhost:8080/"
        },
        "id": "LKqFVFZu1uu5",
        "outputId": "77736a15-62cd-44c6-e762-7a3a174c6461"
      },
      "execution_count": null,
      "outputs": [
        {
          "output_type": "execute_result",
          "data": {
            "text/plain": [
              "(2, 3, 4)"
            ]
          },
          "metadata": {},
          "execution_count": 18
        }
      ]
    },
    {
      "cell_type": "markdown",
      "source": [
        "## 7."
      ],
      "metadata": {
        "id": "qzEFZxtZ2AJ9"
      }
    },
    {
      "cell_type": "code",
      "source": [
        "def sort_by_last(tuples):\n",
        "  return sorted(tuples, key=lambda x: x[-1])\n"
      ],
      "metadata": {
        "id": "e-GeCmyD1_e1"
      },
      "execution_count": null,
      "outputs": []
    },
    {
      "cell_type": "code",
      "source": [
        "t1=[(3,4,4),(1,2,3),(21,22),(11,12),(2,5)]\n",
        "sort_by_last(t1)"
      ],
      "metadata": {
        "colab": {
          "base_uri": "https://localhost:8080/"
        },
        "id": "K8UxvFyz2J--",
        "outputId": "38d4cb80-9dc4-4d42-dbc3-a96af5014d3d"
      },
      "execution_count": null,
      "outputs": [
        {
          "output_type": "execute_result",
          "data": {
            "text/plain": [
              "[(1, 2, 3), (3, 4, 4), (2, 5), (11, 12), (21, 22)]"
            ]
          },
          "metadata": {},
          "execution_count": 29
        }
      ]
    },
    {
      "cell_type": "code",
      "source": [
        "def anothersort_by_last(tuples):\n",
        "  return tuples[-1]"
      ],
      "metadata": {
        "id": "ABe9c4je2_TA"
      },
      "execution_count": null,
      "outputs": []
    },
    {
      "cell_type": "code",
      "source": [
        "t1=[(3,4,4),(1,2,3),(21,22),(11,12),(2,5)]\n",
        "t1.sort(key=anothersort_by_last)\n",
        "t1"
      ],
      "metadata": {
        "colab": {
          "base_uri": "https://localhost:8080/"
        },
        "id": "BkqddWlE3QBv",
        "outputId": "aa0a514b-0e76-4c8f-e6a3-503acfdd0853"
      },
      "execution_count": null,
      "outputs": [
        {
          "output_type": "execute_result",
          "data": {
            "text/plain": [
              "[(1, 2, 3), (3, 4, 4), (2, 5), (11, 12), (21, 22)]"
            ]
          },
          "metadata": {},
          "execution_count": 31
        }
      ]
    },
    {
      "cell_type": "markdown",
      "source": [
        "# **Dictionaries**"
      ],
      "metadata": {
        "id": "fRBB8nJE4Lew"
      }
    },
    {
      "cell_type": "markdown",
      "source": [
        "## 1\n",
        "\n",
        "paint_codes = {\n",
        "'p01': 'sky blue', 'p02': 'crimson red', 'p03': 'ice gray',\n",
        "'p04': 'sunshine yellow', 'p05': 'lime green'\n",
        "}\n",
        "\n",
        "**Perform**:\n",
        "\n",
        "a. Print only the color values\n",
        "\n",
        "b. Print only the keys\n",
        "\n",
        "c. Get value for key 'p02'\n",
        "\n",
        "d. Fetch a value using .get()\n",
        "\n",
        "e. Combine keys and values into a list\n",
        "\n",
        "f. Print from second item onward\n",
        "\n",
        "g. Change the value of 'p04' and verify\n"
      ],
      "metadata": {
        "id": "vHPEV5nlSBq9"
      }
    },
    {
      "cell_type": "code",
      "source": [
        "paint_codes = {\n",
        "'p01': 'sky blue', 'p02': 'crimson red', 'p03': 'ice gray',\n",
        "'p04': 'sunshine yellow', 'p05': 'lime green'\n",
        "}"
      ],
      "metadata": {
        "id": "_D9x5vcpSBAL"
      },
      "execution_count": 22,
      "outputs": []
    },
    {
      "cell_type": "code",
      "source": [
        "print(list(paint_codes.values()))"
      ],
      "metadata": {
        "colab": {
          "base_uri": "https://localhost:8080/"
        },
        "id": "wnEGrEE1SlA1",
        "outputId": "d4ad39ce-4989-4521-af50-878a67ad8672"
      },
      "execution_count": 23,
      "outputs": [
        {
          "output_type": "stream",
          "name": "stdout",
          "text": [
            "['sky blue', 'crimson red', 'ice gray', 'sunshine yellow', 'lime green']\n"
          ]
        }
      ]
    },
    {
      "cell_type": "code",
      "source": [
        "print(list(paint_codes.keys()))\n"
      ],
      "metadata": {
        "colab": {
          "base_uri": "https://localhost:8080/"
        },
        "id": "tHqWTKpZSCym",
        "outputId": "f6a64720-db64-4e39-cc12-0ce14a21d37c"
      },
      "execution_count": 24,
      "outputs": [
        {
          "output_type": "stream",
          "name": "stdout",
          "text": [
            "['p01', 'p02', 'p03', 'p04', 'p05']\n"
          ]
        }
      ]
    },
    {
      "cell_type": "code",
      "source": [
        "paint_codes['p02']"
      ],
      "metadata": {
        "colab": {
          "base_uri": "https://localhost:8080/",
          "height": 36
        },
        "id": "GaqjuaopTJcg",
        "outputId": "27f41749-714c-4f04-8a40-d86646566680"
      },
      "execution_count": 29,
      "outputs": [
        {
          "output_type": "execute_result",
          "data": {
            "text/plain": [
              "'crimson red'"
            ],
            "application/vnd.google.colaboratory.intrinsic+json": {
              "type": "string"
            }
          },
          "metadata": {},
          "execution_count": 29
        }
      ]
    },
    {
      "cell_type": "code",
      "source": [
        "paint_codes.get('p02')"
      ],
      "metadata": {
        "colab": {
          "base_uri": "https://localhost:8080/",
          "height": 36
        },
        "id": "HRQF04E8TRkl",
        "outputId": "972eaca5-b6b7-4b51-9873-2d604d873c57"
      },
      "execution_count": 30,
      "outputs": [
        {
          "output_type": "execute_result",
          "data": {
            "text/plain": [
              "'crimson red'"
            ],
            "application/vnd.google.colaboratory.intrinsic+json": {
              "type": "string"
            }
          },
          "metadata": {},
          "execution_count": 30
        }
      ]
    },
    {
      "cell_type": "code",
      "source": [
        "list(paint_codes.items())"
      ],
      "metadata": {
        "colab": {
          "base_uri": "https://localhost:8080/"
        },
        "id": "Si8oH9DQTe2V",
        "outputId": "70e4119d-d829-4a9f-9814-aa7289d9932b"
      },
      "execution_count": 31,
      "outputs": [
        {
          "output_type": "execute_result",
          "data": {
            "text/plain": [
              "[('p01', 'sky blue'),\n",
              " ('p02', 'crimson red'),\n",
              " ('p03', 'ice gray'),\n",
              " ('p04', 'sunshine yellow'),\n",
              " ('p05', 'lime green')]"
            ]
          },
          "metadata": {},
          "execution_count": 31
        }
      ]
    },
    {
      "cell_type": "code",
      "source": [
        "#f. Print from second item onward\n",
        "l = list(paint_codes.items()) #f. Print from second item onward\n",
        "l[1:]"
      ],
      "metadata": {
        "colab": {
          "base_uri": "https://localhost:8080/"
        },
        "id": "ztjU8MvRTkAY",
        "outputId": "03f3040b-d2c2-4af1-ddd4-358e36dcbebf"
      },
      "execution_count": 40,
      "outputs": [
        {
          "output_type": "execute_result",
          "data": {
            "text/plain": [
              "[('p02', 'crimson red'),\n",
              " ('p03', 'ice gray'),\n",
              " ('p04', 'sunshine yellow'),\n",
              " ('p05', 'lime green')]"
            ]
          },
          "metadata": {},
          "execution_count": 40
        }
      ]
    },
    {
      "cell_type": "code",
      "source": [
        "paint_codes['p04'] = 'Orange'\n",
        "paint_codes\n"
      ],
      "metadata": {
        "colab": {
          "base_uri": "https://localhost:8080/"
        },
        "id": "_oG03eWxUDkN",
        "outputId": "3417fcc6-e974-4cde-ae5c-bf5694832331"
      },
      "execution_count": 42,
      "outputs": [
        {
          "output_type": "execute_result",
          "data": {
            "text/plain": [
              "{'p01': 'sky blue',\n",
              " 'p02': 'crimson red',\n",
              " 'p03': 'ice gray',\n",
              " 'p04': 'Orange',\n",
              " 'p05': 'lime green'}"
            ]
          },
          "metadata": {},
          "execution_count": 42
        }
      ]
    },
    {
      "cell_type": "markdown",
      "source": [
        "## 2.\n",
        "\n",
        "students =\n",
        "\n",
        "{\n",
        "\"alice\": {\"math\": 90, \"science\": 85},\n",
        "\n",
        "\"bob\": {\"math\": 78, \"english\": 88},\n",
        "\n",
        "\"carol\": {\"math\": 92, \"english\": 95,\n",
        " \"science\": 89}\n",
        "}\n",
        "\n",
        "**Access**:\n",
        "\n",
        "a. alice's science marks\n",
        "\n",
        "b. bob's english marks\n",
        "\n",
        "c. carol's math marks"
      ],
      "metadata": {
        "id": "s5uv05FeVx0T"
      }
    },
    {
      "cell_type": "code",
      "source": [
        "students = {\n",
        "\"alice\": {\"math\": 90, \"science\": 85},\n",
        "\"bob\": {\"math\": 78, \"english\": 88},\n",
        "\"carol\": {\"math\": 92, \"english\": 95, \"science\": 89}\n",
        "}"
      ],
      "metadata": {
        "id": "m4qWv8SfV1H1"
      },
      "execution_count": 43,
      "outputs": []
    },
    {
      "cell_type": "code",
      "source": [
        "students[\"alice\"][\"science\"]"
      ],
      "metadata": {
        "colab": {
          "base_uri": "https://localhost:8080/"
        },
        "id": "ShOHp8o8V2qX",
        "outputId": "0dde57d1-8f08-4533-8eec-e64b6f184d79"
      },
      "execution_count": 45,
      "outputs": [
        {
          "output_type": "execute_result",
          "data": {
            "text/plain": [
              "85"
            ]
          },
          "metadata": {},
          "execution_count": 45
        }
      ]
    },
    {
      "cell_type": "code",
      "source": [
        "students[\"bob\"][\"english\"]"
      ],
      "metadata": {
        "colab": {
          "base_uri": "https://localhost:8080/"
        },
        "id": "pxhXYoZcWHPE",
        "outputId": "fda41289-0815-4685-bde7-1e79e6cd8bd2"
      },
      "execution_count": 46,
      "outputs": [
        {
          "output_type": "execute_result",
          "data": {
            "text/plain": [
              "88"
            ]
          },
          "metadata": {},
          "execution_count": 46
        }
      ]
    },
    {
      "cell_type": "code",
      "source": [
        "students[\"carol\"][\"math\"]"
      ],
      "metadata": {
        "colab": {
          "base_uri": "https://localhost:8080/"
        },
        "id": "AWuyUcskWJqE",
        "outputId": "1b3e9acc-4b07-4c4c-ac4a-10eb81d7bb70"
      },
      "execution_count": 47,
      "outputs": [
        {
          "output_type": "execute_result",
          "data": {
            "text/plain": [
              "92"
            ]
          },
          "metadata": {},
          "execution_count": 47
        }
      ]
    },
    {
      "cell_type": "markdown",
      "source": [
        "# **Sets**"
      ],
      "metadata": {
        "id": "lZkq9uWXWwqV"
      }
    },
    {
      "cell_type": "markdown",
      "source": [
        "primary_colors = [\"red\", \"blue\", \"yellow\", \"blue\"]\n",
        "\n",
        "secondary_colors = [\"green\", \"purple\", \"orange\", \"red\"]\n",
        "\n",
        "**Perform:**\n",
        "\n",
        " a. Print unique primary colors\n",
        "\n",
        "b. Print each color in a separate line\n",
        "\n",
        "c. Merge both lists and show the combined set\n",
        "\n",
        "d. Print colors that exist in both"
      ],
      "metadata": {
        "id": "vro-4VZXWzlm"
      }
    },
    {
      "cell_type": "code",
      "source": [
        "primary_colors = [\"red\", \"blue\", \"yellow\", \"blue\"]\n",
        "secondary_colors = [\"green\", \"purple\", \"orange\", \"red\"]"
      ],
      "metadata": {
        "id": "8eTdpRIpW1or"
      },
      "execution_count": 48,
      "outputs": []
    },
    {
      "cell_type": "code",
      "source": [
        "# a. Print unique primary colors\n",
        "colorP = set(primary_colors)\n",
        "colorP"
      ],
      "metadata": {
        "colab": {
          "base_uri": "https://localhost:8080/"
        },
        "id": "hKiT4-5ZW4PY",
        "outputId": "2709c5c4-57a5-4178-d919-cd60e9fd2a10"
      },
      "execution_count": 51,
      "outputs": [
        {
          "output_type": "execute_result",
          "data": {
            "text/plain": [
              "{'blue', 'red', 'yellow'}"
            ]
          },
          "metadata": {},
          "execution_count": 51
        }
      ]
    },
    {
      "cell_type": "code",
      "source": [
        "#b. Print each color in a separate line\n",
        "for i in range(0, len(colorP)):\n",
        "  print(list(colorP)[i])"
      ],
      "metadata": {
        "colab": {
          "base_uri": "https://localhost:8080/"
        },
        "id": "av2PyXfTXBRW",
        "outputId": "53485096-485a-4014-be17-fca183f7128e"
      },
      "execution_count": 57,
      "outputs": [
        {
          "output_type": "stream",
          "name": "stdout",
          "text": [
            "yellow\n",
            "blue\n",
            "red\n"
          ]
        }
      ]
    },
    {
      "cell_type": "code",
      "source": [
        "#c. Merge both lists and show the combined set\n",
        "mergedlist = primary_colors + secondary_colors\n",
        "print(mergedlist)\n",
        "\n",
        "mergedSet = set(mergedlist)\n",
        "print(mergedSet)"
      ],
      "metadata": {
        "colab": {
          "base_uri": "https://localhost:8080/"
        },
        "id": "r97Tu-qtX_vr",
        "outputId": "29b84742-6a09-4b94-9a5d-3e0f2c349c8d"
      },
      "execution_count": 61,
      "outputs": [
        {
          "output_type": "stream",
          "name": "stdout",
          "text": [
            "['red', 'blue', 'yellow', 'blue', 'green', 'purple', 'orange', 'red']\n",
            "{'blue', 'purple', 'yellow', 'green', 'red', 'orange'}\n"
          ]
        }
      ]
    },
    {
      "cell_type": "code",
      "source": [
        "colorP = set(primary_colors)\n",
        "colorS = set(secondary_colors)\n",
        "print(colorP,colorS)\n",
        "\n",
        "#d. Print colors that exist in both\n",
        "colorP.intersection(colorS)"
      ],
      "metadata": {
        "colab": {
          "base_uri": "https://localhost:8080/"
        },
        "id": "P1iqR0-_YksP",
        "outputId": "9fd017ec-7668-4b3d-a7f3-12e7ded92dd8"
      },
      "execution_count": 64,
      "outputs": [
        {
          "output_type": "stream",
          "name": "stdout",
          "text": [
            "{'yellow', 'blue', 'red'} {'green', 'orange', 'purple', 'red'}\n"
          ]
        },
        {
          "output_type": "execute_result",
          "data": {
            "text/plain": [
              "{'red'}"
            ]
          },
          "metadata": {},
          "execution_count": 64
        }
      ]
    },
    {
      "cell_type": "code",
      "source": [
        "colorS.difference(colorP)"
      ],
      "metadata": {
        "colab": {
          "base_uri": "https://localhost:8080/"
        },
        "id": "h2BjYe65ZHKh",
        "outputId": "3585e590-a4d1-4d3a-a716-dc05c9d76e16"
      },
      "execution_count": 66,
      "outputs": [
        {
          "output_type": "execute_result",
          "data": {
            "text/plain": [
              "{'green', 'orange', 'purple'}"
            ]
          },
          "metadata": {},
          "execution_count": 66
        }
      ]
    },
    {
      "cell_type": "code",
      "source": [
        "colorP.difference(colorS)"
      ],
      "metadata": {
        "colab": {
          "base_uri": "https://localhost:8080/"
        },
        "id": "94BYvCIIZR1M",
        "outputId": "64f8ea82-baed-45c2-a9db-dfc3b6a8af9c"
      },
      "execution_count": 67,
      "outputs": [
        {
          "output_type": "execute_result",
          "data": {
            "text/plain": [
              "{'blue', 'yellow'}"
            ]
          },
          "metadata": {},
          "execution_count": 67
        }
      ]
    },
    {
      "cell_type": "code",
      "source": [
        "colorP.issubset(colorS)"
      ],
      "metadata": {
        "colab": {
          "base_uri": "https://localhost:8080/"
        },
        "id": "cc9sSVXtZUIg",
        "outputId": "8f6a045b-9273-4924-8e29-6347e3a27ca3"
      },
      "execution_count": 68,
      "outputs": [
        {
          "output_type": "execute_result",
          "data": {
            "text/plain": [
              "False"
            ]
          },
          "metadata": {},
          "execution_count": 68
        }
      ]
    },
    {
      "cell_type": "code",
      "source": [
        "colorS2={'green', 'orange'}\n",
        "colorS2.issubset(colorS)"
      ],
      "metadata": {
        "colab": {
          "base_uri": "https://localhost:8080/"
        },
        "id": "CAWYsmO8Zg3v",
        "outputId": "ed2f6b5f-5bc5-466f-d24f-43f206b36f35"
      },
      "execution_count": 69,
      "outputs": [
        {
          "output_type": "execute_result",
          "data": {
            "text/plain": [
              "True"
            ]
          },
          "metadata": {},
          "execution_count": 69
        }
      ]
    }
  ]
}