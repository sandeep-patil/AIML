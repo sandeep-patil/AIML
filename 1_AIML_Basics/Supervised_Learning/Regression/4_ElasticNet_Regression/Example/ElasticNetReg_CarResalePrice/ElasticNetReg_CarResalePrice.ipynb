{
  "nbformat": 4,
  "nbformat_minor": 0,
  "metadata": {
    "colab": {
      "provenance": []
    },
    "kernelspec": {
      "name": "python3",
      "display_name": "Python 3"
    },
    "language_info": {
      "name": "python"
    }
  },
  "cells": [
    {
      "cell_type": "markdown",
      "source": [
        "# **ElasticNet - Comparison**"
      ],
      "metadata": {
        "id": "dnVj-109Sgqv"
      }
    },
    {
      "cell_type": "markdown",
      "source": [
        "## ✅ Why ElasticNet is Suitable for CarDekho Dataset\n",
        "\n",
        "### 🔁 **ElasticNet = Lasso (L1) + Ridge (L2)**\n",
        "\n",
        "* It combines feature selection (Lasso) and coefficient shrinkage (Ridge).\n",
        "* Works well when:\n",
        "\n",
        "  * You have **multicollinearity** (some features are correlated).\n",
        "  * You suspect that **some features are irrelevant**.\n",
        "\n",
        "### 📊 **CarDekho Dataset Characteristics**\n",
        "\n",
        "* Moderate number of **numerical + categorical features**.\n",
        "* Some features (e.g. `Year`, `Kms_Driven`, `Present_Price`) may be correlated.\n",
        "* `Fuel_Type`, `Seller_Type`, and `Transmission` are **categorical**, which after encoding, increase dimensionality.\n",
        "* Great for observing **how ElasticNet balances feature selection and stability**.\n",
        "\n",
        "---\n",
        "\n",
        "## 🔍 ElasticNet Helps You:\n",
        "\n",
        "| Challenge in Dataset            | How ElasticNet Helps                 |\n",
        "| ------------------------------- | ------------------------------------ |\n",
        "| Feature redundancy (correlated) | L2 penalty stabilizes coefficients   |\n",
        "| Some features irrelevant        | L1 penalty drives them to zero       |\n",
        "| Overfitting risk                | Regularization reduces complexity    |\n",
        "| Need model interpretation       | Coefficients show feature importance |\n",
        "\n",
        "---\n",
        "\n"
      ],
      "metadata": {
        "id": "oaOxwTxDSci4"
      }
    },
    {
      "cell_type": "markdown",
      "source": [
        "# **Step 1 : Dataset Download**"
      ],
      "metadata": {
        "id": "4cxOiuR6S8IX"
      }
    },
    {
      "cell_type": "code",
      "execution_count": 7,
      "metadata": {
        "id": "bzHd7A60SbM1"
      },
      "outputs": [],
      "source": [
        "# Step 1: Import libraries\n",
        "import pandas as pd\n",
        "import numpy as np\n",
        "import matplotlib.pyplot as plt\n",
        "import seaborn as sns\n",
        "\n",
        "from sklearn.model_selection import train_test_split\n",
        "from sklearn.linear_model import ElasticNet, ElasticNetCV\n",
        "from sklearn.metrics import mean_squared_error, r2_score\n",
        "import joblib\n"
      ]
    },
    {
      "cell_type": "code",
      "source": [
        "import pandas as pd\n",
        "\n",
        "# Load the dataset\n",
        "df = pd.read_csv(\"car data.csv\")\n",
        "\n",
        "# Show the first few rows\n",
        "print(df.head())\n"
      ],
      "metadata": {
        "colab": {
          "base_uri": "https://localhost:8080/"
        },
        "id": "3nihI2V1S1xo",
        "outputId": "7568a3ab-61b2-4d1e-dad2-77a34cd1d992"
      },
      "execution_count": 8,
      "outputs": [
        {
          "output_type": "stream",
          "name": "stdout",
          "text": [
            "  Car_Name  Year  Selling_Price  Present_Price  Kms_Driven Fuel_Type  \\\n",
            "0     ritz  2014           3.35           5.59       27000    Petrol   \n",
            "1      sx4  2013           4.75           9.54       43000    Diesel   \n",
            "2     ciaz  2017           7.25           9.85        6900    Petrol   \n",
            "3  wagon r  2011           2.85           4.15        5200    Petrol   \n",
            "4    swift  2014           4.60           6.87       42450    Diesel   \n",
            "\n",
            "  Seller_Type Transmission  Owner  \n",
            "0      Dealer       Manual      0  \n",
            "1      Dealer       Manual      0  \n",
            "2      Dealer       Manual      0  \n",
            "3      Dealer       Manual      0  \n",
            "4      Dealer       Manual      0  \n"
          ]
        }
      ]
    },
    {
      "cell_type": "markdown",
      "source": [
        "# **Step 2: Preprocessing and Feature Engineering**"
      ],
      "metadata": {
        "id": "iNqmFpv-b23h"
      }
    },
    {
      "cell_type": "code",
      "source": [
        "from sklearn.compose import ColumnTransformer\n",
        "from sklearn.preprocessing import StandardScaler, OneHotEncoder\n",
        "\n",
        "# Step 1: Create Car_Age\n",
        "df['Car_Age'] = 2024 - df['Year']\n",
        "\n",
        "df.drop(['Car_Name', 'Year'], axis=1, inplace=True) # axis=1, drops columns\n",
        "\n",
        "# Separate features\n",
        "X = df.drop('Selling_Price', axis=1)\n",
        "y = df['Selling_Price']\n",
        "\n",
        "# Identify feature types\n",
        "numerical_features = ['Present_Price', 'Kms_Driven', 'Owner', 'Car_Age']\n",
        "categorical_features = ['Fuel_Type', 'Seller_Type', 'Transmission']\n",
        "\n",
        "# Create preprocessor\n",
        "preprocessor = ColumnTransformer(\n",
        "    transformers=[\n",
        "        ('num', StandardScaler(), numerical_features),\n",
        "        ('cat', OneHotEncoder(drop='first'), categorical_features)\n",
        "    ]\n",
        ")\n",
        "\n",
        "# Train-test split\n",
        "X_train, X_test, y_train, y_test = train_test_split(X, y, test_size=0.2, random_state=42)\n"
      ],
      "metadata": {
        "id": "l8mA8g70cBe5"
      },
      "execution_count": 11,
      "outputs": []
    },
    {
      "cell_type": "markdown",
      "source": [
        "# **Step 3: Build and Train ElasticNet Model (Fixed Alpha & L1 Ratio)**"
      ],
      "metadata": {
        "id": "TfpPp-5zcjHo"
      }
    },
    {
      "cell_type": "code",
      "source": [
        "from sklearn.linear_model import ElasticNet\n",
        "from sklearn.pipeline import Pipeline\n",
        "\n",
        "# Create ElasticNet model with fixed hyperparameters\n",
        "elastic_model = ElasticNet(alpha=1.0, l1_ratio=0.5, random_state=42)\n",
        "\n",
        "# Combine preprocessing and model into a pipeline\n",
        "elastic_pipeline = Pipeline(steps=[\n",
        "    ('preprocessor', preprocessor),\n",
        "    ('regressor', elastic_model)\n",
        "])\n",
        "\n",
        "# Train the pipeline\n",
        "elastic_pipeline.fit(X_train, y_train)\n",
        "\n",
        "# Predict on test data\n",
        "y_pred = elastic_pipeline.predict(X_test)\n",
        "\n",
        "# Evaluate\n",
        "from sklearn.metrics import mean_squared_error, r2_score\n",
        "\n",
        "\n",
        "print(\"Mean Squared Error:\", mean_squared_error(y_test, y_pred))\n",
        "print(\"R² Score:\", r2_score(y_test, y_pred))\n"
      ],
      "metadata": {
        "colab": {
          "base_uri": "https://localhost:8080/"
        },
        "id": "n5W6IXSHclx-",
        "outputId": "dc3a6765-e936-4d0d-f59e-9e6c9e0b2050"
      },
      "execution_count": 13,
      "outputs": [
        {
          "output_type": "stream",
          "name": "stdout",
          "text": [
            "Mean Squared Error: 8.615067247359855\n",
            "R² Score: 0.6260104778425954\n"
          ]
        }
      ]
    },
    {
      "cell_type": "markdown",
      "source": [
        "## **Explaination for l1_ratio=0.5**"
      ],
      "metadata": {
        "id": "ckISA-WvfKIB"
      }
    },
    {
      "cell_type": "markdown",
      "source": [
        "### 🎯 Imagine You're Predicting Car Prices\n",
        "\n",
        "You have these features:\n",
        "\n",
        "```\n",
        "['Present_Price', 'Kms_Driven', 'Owner', 'Car_Age',\n",
        " 'Fuel_Type_Diesel', 'Fuel_Type_Petrol',\n",
        " 'Seller_Type_Individual', 'Transmission_Manual']\n",
        "```\n",
        "\n",
        "You’re trying to **learn the importance of each feature**, but:\n",
        "\n",
        "* **Some features are correlated** → e.g., `Car_Age` and `Present_Price`\n",
        "* **Some features might be useless** → e.g., `Owner` or `Fuel_Type_Petrol` might add noise\n",
        "\n",
        "---\n",
        "\n",
        "## 🧮 Ridge vs Lasso vs ElasticNet\n",
        "\n",
        "### 🟩 **Ridge (L2)**\n",
        "\n",
        "* **Penalizes large coefficients** (shrinks them)\n",
        "* But **keeps all features** (none become zero)\n",
        "\n",
        "> 📌 Problem: Can’t remove irrelevant features.\n",
        "\n",
        "---\n",
        "\n",
        "### 🟨 **Lasso (L1)**\n",
        "\n",
        "* **Drives some coefficients exactly to 0** → automatic **feature selection**\n",
        "* But if features are **highly correlated**, it picks one and drops others arbitrarily\n",
        "\n",
        "> 📌 Problem: Unstable when features are correlated.\n",
        "\n",
        "---\n",
        "\n",
        "### 🟦 **ElasticNet (L1 + L2)**\n",
        "\n",
        "* **Balances both worlds**:\n",
        "\n",
        "  * L1 → forces some coefficients to 0 (feature selection)\n",
        "  * L2 → stabilizes model and handles multicollinearity\n",
        "\n",
        "---\n",
        "\n",
        "## 🔢 Let’s say your model learned these weights:\n",
        "\n",
        "| Feature                  | Ridge Coef | Lasso Coef | ElasticNet Coef |\n",
        "| ------------------------ | ---------- | ---------- | --------------- |\n",
        "| Present\\_Price           | 2.8        | 2.4        | 2.6             |\n",
        "| Kms\\_Driven              | -0.1       | 0          | 0               |\n",
        "| Owner                    | -0.05      | 0          | 0               |\n",
        "| Car\\_Age                 | -0.7       | -0.6       | -0.65           |\n",
        "| Fuel\\_Type\\_Diesel       | 0.4        | 0.2        | 0.3             |\n",
        "| Fuel\\_Type\\_Petrol       | -0.2       | 0          | 0               |\n",
        "| Seller\\_Type\\_Individual | -0.9       | -0.7       | -0.8            |\n",
        "| Transmission\\_Manual     | -0.6       | -0.3       | -0.4            |\n",
        "\n",
        "---\n",
        "\n",
        "## 🎛️ What Does `l1_ratio=0.5` Do?\n",
        "\n",
        "* Uses **50% Ridge** and **50% Lasso**\n",
        "* This gives you:\n",
        "\n",
        "  * Shrinking of big coefficients\n",
        "  * Removal of weak/irrelevant ones\n",
        "* More stable than Lasso alone, smarter than Ridge alone\n",
        "\n",
        "---\n",
        "\n",
        "## 🧪 Summary Table of Behavior\n",
        "\n",
        "| l1\\_ratio | Effect              | Usage Suggestion                       |\n",
        "| --------- | ------------------- | -------------------------------------- |\n",
        "| 0         | Ridge-only          | You want all features, with shrinkage  |\n",
        "| 1         | Lasso-only          | You want to remove irrelevant features |\n",
        "| 0.1-0.9   | ElasticNet (hybrid) | Mixed scenarios, preferred in practice |\n",
        "\n",
        "---\n",
        "\n",
        "Do you want a visual graph or try a few different `l1_ratio` values and compare results?\n"
      ],
      "metadata": {
        "id": "3D0pQgdjdMg3"
      }
    },
    {
      "cell_type": "code",
      "source": [],
      "metadata": {
        "id": "tq-oeWHyfOPR"
      },
      "execution_count": null,
      "outputs": []
    },
    {
      "cell_type": "markdown",
      "source": [
        "# **Step 4: ElasticNetCV – Automatic Hyperparameter Tuning**"
      ],
      "metadata": {
        "id": "ZtTHM-CxfRUK"
      }
    },
    {
      "cell_type": "code",
      "source": [
        "from sklearn.linear_model import ElasticNetCV\n",
        "\n",
        "# Define the ElasticNetCV model\n",
        "elastic_cv = ElasticNetCV(\n",
        "    l1_ratio=[.1, .3, .5, .7, .9, .95, .99, 1],\n",
        "    alphas=np.logspace(-3, 2, 50),\n",
        "    cv=5,\n",
        "    max_iter=10000,\n",
        "    random_state=42\n",
        ")\n",
        "\n",
        "# Create pipeline with preprocessor and ElasticNetCV\n",
        "from sklearn.pipeline import Pipeline\n",
        "\n",
        "elastic_cv_pipeline = Pipeline(steps=[\n",
        "    ('preprocessor', preprocessor),\n",
        "    ('regressor', elastic_cv)\n",
        "])\n",
        "\n",
        "# Train with cross-validation\n",
        "elastic_cv_pipeline.fit(X_train, y_train)\n",
        "\n",
        "# Predict\n",
        "y_cv_pred = elastic_cv_pipeline.predict(X_test)\n",
        "\n",
        "# Evaluate\n",
        "print(\"Best Alpha:\", elastic_cv.alpha_)\n",
        "print(\"Best L1 Ratio:\", elastic_cv.l1_ratio_)\n",
        "\n",
        "print(\"MSE:\", mean_squared_error(y_test, y_cv_pred))\n",
        "print(\"R² Score:\", r2_score(y_test, y_cv_pred))\n"
      ],
      "metadata": {
        "colab": {
          "base_uri": "https://localhost:8080/"
        },
        "id": "rNorgpIFfcmw",
        "outputId": "9a350548-9c8f-44a6-c0ed-a8fa76a10c2a"
      },
      "execution_count": 16,
      "outputs": [
        {
          "output_type": "stream",
          "name": "stdout",
          "text": [
            "Best Alpha: 0.08685113737513529\n",
            "Best L1 Ratio: 0.1\n",
            "MSE: 3.686532986791784\n",
            "R² Score: 0.8399635579663887\n"
          ]
        }
      ]
    },
    {
      "cell_type": "markdown",
      "source": [
        "\n",
        "### Results Analysis\n",
        "\n",
        "| Metric             | Value                               |\n",
        "| ------------------ | ----------------------------------- |\n",
        "| **Best α (Alpha)** | `0.087`                             |\n",
        "| **Best L1 Ratio**  | `0.1` → mostly Ridge + little Lasso |\n",
        "| **MSE**            | `3.69` ✅                            |\n",
        "| **R² Score**       | `0.84` ✅                            |\n",
        "\n",
        "---\n",
        "\n",
        "### 🧠 Interpretation\n",
        "\n",
        "* `l1_ratio = 0.1` → the model learned that **most features are useful**, so it prefers **Ridge-style regularization** and uses only a **small touch of Lasso**.\n",
        "* It tuned `alpha` down to ≈ 0.09, meaning **light regularization** was enough to improve generalization.\n",
        "\n",
        "---"
      ],
      "metadata": {
        "id": "uCd_NObdgczW"
      }
    },
    {
      "cell_type": "markdown",
      "source": [
        "# **Step 5: Plot Actual vs Predicted Values**"
      ],
      "metadata": {
        "id": "Rt395bqygqvP"
      }
    },
    {
      "cell_type": "code",
      "source": [
        "import matplotlib.pyplot as plt\n",
        "\n",
        "# Scatter plot\n",
        "plt.figure(figsize=(8, 6))\n",
        "plt.scatter(y_test, y_cv_pred, alpha=0.7, color='blue')\n",
        "plt.plot([y_test.min(), y_test.max()], [y_test.min(), y_test.max()], 'r--', linewidth=2)\n",
        "plt.xlabel(\"Actual Selling Price\")\n",
        "plt.ylabel(\"Predicted Selling Price\")\n",
        "plt.title(\"ElasticNetCV - Actual vs Predicted\")\n",
        "plt.grid(True)\n",
        "plt.show()\n"
      ],
      "metadata": {
        "colab": {
          "base_uri": "https://localhost:8080/",
          "height": 564
        },
        "id": "LzyVEyTSgw2s",
        "outputId": "33738be9-1c7a-4bef-ab60-4c530be97c3b"
      },
      "execution_count": 17,
      "outputs": [
        {
          "output_type": "display_data",
          "data": {
            "text/plain": [
              "<Figure size 800x600 with 1 Axes>"
            ],
            "image/png": "[encoded data removed]"
          },
          "metadata": {}
        }
      ]
    },
    {
      "cell_type": "markdown",
      "source": [
        "The predicted values follow the actual values closely and hug the diagonal line, which means your model is well calibrated."
      ],
      "metadata": {
        "id": "HExaSIF3hAde"
      }
    },
    {
      "cell_type": "markdown",
      "source": [
        "# **Step 6: Save the Trained ElasticNetCV Model**"
      ],
      "metadata": {
        "id": "fPIv6crmhF0T"
      }
    },
    {
      "cell_type": "code",
      "source": [
        "import joblib\n",
        "\n",
        "# Save the pipeline\n",
        "joblib.dump(elastic_cv_pipeline, \"ElasticNetReg_CarResalePrice_cv_model.pkl\")\n",
        "\n",
        "print(\"Model saved as 'ElasticNetReg_CarResalePrice_cv_model.pkl'\")\n"
      ],
      "metadata": {
        "colab": {
          "base_uri": "https://localhost:8080/"
        },
        "id": "SdLaavQ_hH3G",
        "outputId": "24b11510-48c8-4d9a-dec5-bbb96db0a99b"
      },
      "execution_count": 18,
      "outputs": [
        {
          "output_type": "stream",
          "name": "stdout",
          "text": [
            "Model saved as 'ElasticNetReg_CarResalePrice_cv_model.pkl'\n"
          ]
        }
      ]
    }
  ]
}