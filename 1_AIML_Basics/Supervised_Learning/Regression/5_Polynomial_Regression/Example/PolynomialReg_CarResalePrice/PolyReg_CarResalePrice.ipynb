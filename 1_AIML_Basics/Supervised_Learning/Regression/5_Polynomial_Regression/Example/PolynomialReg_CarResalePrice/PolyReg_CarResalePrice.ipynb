{
  "nbformat": 4,
  "nbformat_minor": 0,
  "metadata": {
    "colab": {
      "provenance": []
    },
    "kernelspec": {
      "name": "python3",
      "display_name": "Python 3"
    },
    "language_info": {
      "name": "python"
    }
  },
  "cells": [
    {
      "cell_type": "markdown",
      "source": [
        "# **Polynomial Regression - Comparison**\n",
        "\n",
        "## 📊 Regression Models Comparison\n",
        "\n",
        "| Model           | Regularization | Handles Non-Linearity | Feature Selection | Best Use Case |\n",
        "|----------------|----------------|------------------------|-------------------|----------------|\n",
        "| **Linear**      | ❌ No           | ❌ No                  | ❌ No              | Simple, linear datasets |\n",
        "| **Ridge**       | ✅ L2           | ❌ No                  | ❌ No              | Multicollinearity, no irrelevant features |\n",
        "| **Lasso**       | ✅ L1           | ❌ No                  | ✅ Yes             | Sparse solutions, feature selection |\n",
        "| **ElasticNet**  | ✅ L1 + L2      | ❌ No                  | ✅ Yes (partial)   | Mix of collinearity + irrelevant features |\n",
        "| **Polynomial**  | ❌ No (basic)   | ✅ Yes                 | ❌ No              | Non-linear patterns in features |\n",
        "\n",
        "- ✅ Polynomial Regression stands out by introducing **non-linear terms** (like x²) directly into the feature set.\n",
        "- In this model, we applied `PolynomialFeatures(degree=2)` only to `Present_Price` and `Car_Age`, which showed non-linear relationships with the target.\n",
        "\n",
        "---"
      ],
      "metadata": {
        "id": "gQ9is67nlpic"
      }
    },
    {
      "cell_type": "markdown",
      "source": [
        "# **Polynomial Regression - Model Summery**"
      ],
      "metadata": {
        "id": "AamnWAYalvN1"
      }
    },
    {
      "cell_type": "markdown",
      "source": [
        "\n",
        "This notebook demonstrates how to build a polynomial regression pipeline using the CarDekho dataset. It includes:\n",
        "- Exploratory plots to detect non-linear relationships\n",
        "- Application of polynomial feature transformation to selected numeric variables\n",
        "- Full pipeline including preprocessing and model training\n",
        "- Evaluation with R² and MSE, and visualization of prediction performance\n",
        "\n",
        "### 🔧 Key Details:\n",
        "- **Polynomial Degree**: 2\n",
        "- **Transformed Features**: `Present_Price`, `Car_Age`\n",
        "- **Final R² Score**: ~0.965\n",
        "- **Final MSE**: ~0.81\n",
        "- **Final Output**: `polynomial_model.pkl`"
      ],
      "metadata": {
        "id": "DRS2OLhjnDMY"
      }
    },
    {
      "cell_type": "markdown",
      "source": [
        "# **Step 1: Import Tools**"
      ],
      "metadata": {
        "id": "XdBhlwQuiGAA"
      }
    },
    {
      "cell_type": "code",
      "execution_count": 4,
      "metadata": {
        "id": "AFh31fK-h46i"
      },
      "outputs": [],
      "source": [
        "from sklearn.preprocessing import PolynomialFeatures, StandardScaler, OneHotEncoder\n",
        "from sklearn.compose import ColumnTransformer\n",
        "from sklearn.pipeline import Pipeline\n",
        "from sklearn.linear_model import LinearRegression\n",
        "from sklearn.model_selection import train_test_split\n"
      ]
    },
    {
      "cell_type": "markdown",
      "source": [
        "# **Step 2: Reload and Prepare Dataset**"
      ],
      "metadata": {
        "id": "dHVoiKbpiItt"
      }
    },
    {
      "cell_type": "code",
      "source": [
        "import pandas as pd\n",
        "\n",
        "df = pd.read_csv(\"car data.csv\")\n",
        "df['Car_Age'] = 2025 - df['Year']\n",
        "df.drop(['Year', 'Car_Name'], axis=1, inplace=True)\n",
        "\n",
        "X = df.drop('Selling_Price', axis=1)\n",
        "y = df['Selling_Price']\n",
        "\n",
        "X_train, X_test, y_train, y_test = train_test_split(X, y, test_size=0.2, random_state=42)\n"
      ],
      "metadata": {
        "id": "h5CxgVSRiPMk"
      },
      "execution_count": 6,
      "outputs": []
    },
    {
      "cell_type": "markdown",
      "source": [
        "# **Step 3: Define Feature Groups**"
      ],
      "metadata": {
        "id": "fbMOC9fqigIy"
      }
    },
    {
      "cell_type": "code",
      "source": [
        "# Columns for transformation\n",
        "poly_features = ['Present_Price', 'Car_Age']       # Polynomial transform\n",
        "num_features = ['Kms_Driven', 'Owner']             # Linear numeric features\n",
        "cat_features = ['Fuel_Type', 'Seller_Type', 'Transmission']  # Categorical\n"
      ],
      "metadata": {
        "id": "mcQnPDVMiD1v"
      },
      "execution_count": 7,
      "outputs": []
    },
    {
      "cell_type": "markdown",
      "source": [
        "# **Step 4: Define Preprocessor with ColumnTransformer**\n",
        "\n"
      ],
      "metadata": {
        "id": "r0JJQb5Gi1DM"
      }
    },
    {
      "cell_type": "markdown",
      "source": [
        "Setting up the ColumnTransformer that includes:\n",
        "\n",
        "* PolynomialFeatures for Present_Price and Car_Age\n",
        "\n",
        "* StandardScaler for Kms_Driven and Owner\n",
        "\n",
        "* OneHotEncoder for categorical features"
      ],
      "metadata": {
        "id": "3OK9mmZcjYB-"
      }
    },
    {
      "cell_type": "code",
      "source": [
        "from sklearn.compose import make_column_transformer\n",
        "\n",
        "# Create preprocessor with:\n",
        "# - PolynomialFeatures for selected columns\n",
        "# - StandardScaler for linear numeric features\n",
        "# - OneHotEncoder for categoricals\n",
        "\n",
        "preprocessor = ColumnTransformer(transformers=[\n",
        "    ('poly', Pipeline([\n",
        "        ('poly_features', PolynomialFeatures(degree=2, include_bias=False)),\n",
        "        ('poly_scaler', StandardScaler())\n",
        "    ]), poly_features),\n",
        "\n",
        "    ('num', Pipeline([\n",
        "        ('num_scaler', StandardScaler())\n",
        "    ]), num_features),\n",
        "\n",
        "    ('cat', OneHotEncoder(drop='first'), cat_features)\n",
        "])\n"
      ],
      "metadata": {
        "id": "DKWUeH_Ri2uQ"
      },
      "execution_count": 8,
      "outputs": []
    },
    {
      "cell_type": "markdown",
      "source": [
        "This will:\n",
        "\n",
        "Expand Present_Price and Car_Age to include squared terms\n",
        "\n",
        "Scale all numeric features properly\n",
        "\n",
        "Encode categoricals without repeating levels"
      ],
      "metadata": {
        "id": "ZNzzt1NJjLsA"
      }
    },
    {
      "cell_type": "markdown",
      "source": [
        "# **Step 5: Build the Full Polynomial Regression Pipeline**"
      ],
      "metadata": {
        "id": "Ly3LuKrUjaPM"
      }
    },
    {
      "cell_type": "markdown",
      "source": [
        " Let’s now build the full pipeline using the preprocessor and a simple LinearRegression model to perform polynomial regression."
      ],
      "metadata": {
        "id": "9j8sqsJQkUF9"
      }
    },
    {
      "cell_type": "code",
      "source": [
        "from sklearn.pipeline import Pipeline\n",
        "from sklearn.linear_model import LinearRegression\n",
        "\n",
        "# Final pipeline\n",
        "polyreg_pipeline = Pipeline(steps=[\n",
        "    ('preprocessing', preprocessor),\n",
        "    ('regressor', LinearRegression())\n",
        "])\n"
      ],
      "metadata": {
        "id": "_zDNkw1ujgTZ"
      },
      "execution_count": 10,
      "outputs": []
    },
    {
      "cell_type": "markdown",
      "source": [
        " This pipeline now:\n",
        "\n",
        "Expands selected features into polynomial terms\n",
        "\n",
        "Scales everything correctly\n",
        "\n",
        "Applies a linear regression model on the transformed features\n",
        "\n"
      ],
      "metadata": {
        "id": "SVfQ6DyfkQp4"
      }
    },
    {
      "cell_type": "markdown",
      "source": [
        "# **Step 6: Training, prediction, and evaluation?**"
      ],
      "metadata": {
        "id": "LcLTvHeqka0D"
      }
    },
    {
      "cell_type": "code",
      "source": [
        "from sklearn.metrics import mean_squared_error, r2_score\n",
        "\n",
        "# Train the model\n",
        "polyreg_pipeline.fit(X_train, y_train)\n",
        "\n",
        "# Predict on test set\n",
        "y_pred_poly = polyreg_pipeline.predict(X_test)\n",
        "\n",
        "# Evaluate the model\n",
        "print(\"Mean Squared Error:\", mean_squared_error(y_test, y_pred_poly))\n",
        "print(\"R² Score:\", r2_score(y_test, y_pred_poly))\n"
      ],
      "metadata": {
        "colab": {
          "base_uri": "https://localhost:8080/"
        },
        "id": "O8rZYYpKkeVw",
        "outputId": "d85cd15c-cb02-4342-c870-0dfd9271b528"
      },
      "execution_count": 12,
      "outputs": [
        {
          "output_type": "stream",
          "name": "stdout",
          "text": [
            "Mean Squared Error: 0.8097152869143679\n",
            "R² Score: 0.9648493709286537\n"
          ]
        }
      ]
    },
    {
      "cell_type": "markdown",
      "source": [
        "This means model is explaining ~96.5% of the variance in selling prices — and that’s because you captured the non-linear relationships using polynomial terms!"
      ],
      "metadata": {
        "id": "4mdsfIBgk3AZ"
      }
    },
    {
      "cell_type": "markdown",
      "source": [
        "# **Step 7: Plot Actual vs Predicted**"
      ],
      "metadata": {
        "id": "kjQbG8Elk-pU"
      }
    },
    {
      "cell_type": "code",
      "source": [
        "import matplotlib.pyplot as plt\n",
        "\n",
        "# Scatter plot: Actual vs Predicted\n",
        "plt.figure(figsize=(8, 6))\n",
        "plt.scatter(y_test, y_pred_poly, alpha=0.7, color='purple')\n",
        "plt.plot([y_test.min(), y_test.max()], [y_test.min(), y_test.max()], 'r--', linewidth=2)\n",
        "plt.xlabel(\"Actual Selling Price\")\n",
        "plt.ylabel(\"Predicted Selling Price\")\n",
        "plt.title(\"Polynomial Regression - Actual vs Predicted\")\n",
        "plt.grid(True)\n",
        "plt.show()\n"
      ],
      "metadata": {
        "colab": {
          "base_uri": "https://localhost:8080/",
          "height": 564
        },
        "id": "eDVLcZtlk9xj",
        "outputId": "e633deec-0538-4139-a1a8-8945410e035b"
      },
      "execution_count": 13,
      "outputs": [
        {
          "output_type": "display_data",
          "data": {
            "text/plain": [
              "<Figure size 800x600 with 1 Axes>"
            ],
            "image/png": "[encoded data removed]"
          },
          "metadata": {}
        }
      ]
    },
    {
      "cell_type": "markdown",
      "source": [
        "The purple points are very close to the red line, meaning your polynomial regression model is predicting accurately across the range of actual car prices."
      ],
      "metadata": {
        "id": "WxZfR_sdlat8"
      }
    },
    {
      "cell_type": "markdown",
      "source": [
        "# **Step 8: Save the Polynomial Regression Model**"
      ],
      "metadata": {
        "id": "jP8Jg7Ndlcjl"
      }
    },
    {
      "cell_type": "code",
      "source": [
        "import joblib\n",
        "\n",
        "# Save the trained pipeline\n",
        "joblib.dump(polyreg_pipeline, \"PolyReg_CarResalePrice.pkl\")\n",
        "\n",
        "print(\"Polynomial regression model saved as 'PolyReg_CarResalePrice.pkl'\")\n"
      ],
      "metadata": {
        "colab": {
          "base_uri": "https://localhost:8080/"
        },
        "id": "UAPhOPlHleEV",
        "outputId": "15c3bbb6-e4f7-4e4a-a71b-0e95f245aefd"
      },
      "execution_count": 14,
      "outputs": [
        {
          "output_type": "stream",
          "name": "stdout",
          "text": [
            "Polynomial regression model saved as 'PolyReg_CarResalePrice.pkl'\n"
          ]
        }
      ]
    },
    {
      "cell_type": "code",
      "source": [
        "from sklearn.preprocessing import PolynomialFeatures\n",
        "import pandas as pd\n",
        "\n",
        "# Simulate a small DataFrame with example data\n",
        "X_poly_sim = pd.DataFrame({\n",
        "    'Present_Price': [5],\n",
        "    'Car_Age': [3]\n",
        "})\n",
        "\n",
        "# Create polynomial transformer\n",
        "poly = PolynomialFeatures(degree=2, include_bias=False)\n",
        "\n",
        "# Fit the transformer\n",
        "poly.fit(X_poly_sim)\n",
        "\n",
        "# Get feature names after fitting\n",
        "feature_names = poly.get_feature_names_out(['Present_Price', 'Car_Age'])\n",
        "\n",
        "# Print them\n",
        "print(\"Polynomial features generated:\")\n",
        "for i, name in enumerate(feature_names):\n",
        "    print(f\"{i+1}: {name}\")\n"
      ],
      "metadata": {
        "colab": {
          "base_uri": "https://localhost:8080/"
        },
        "id": "Gj_0574gnkID",
        "outputId": "ab61e2a2-72f7-473c-ff72-896e79ebc24f"
      },
      "execution_count": 16,
      "outputs": [
        {
          "output_type": "stream",
          "name": "stdout",
          "text": [
            "Polynomial features generated:\n",
            "1: Present_Price\n",
            "2: Car_Age\n",
            "3: Present_Price^2\n",
            "4: Present_Price Car_Age\n",
            "5: Car_Age^2\n"
          ]
        }
      ]
    },
    {
      "cell_type": "markdown",
      "source": [
        "\n",
        "## ✅ Why We Say Polynomial Degree = 2\n",
        "\n",
        "We explicitly set the polynomial degree to 2 in the following part of the pipeline:\n",
        "\n",
        "```python\n",
        "from sklearn.preprocessing import PolynomialFeatures\n",
        "\n",
        "PolynomialFeatures(degree=2, include_bias=False)\n",
        "```\n",
        "\n",
        "This transformation adds:\n",
        "\n",
        "* **x** → the original feature\n",
        "* **x²** → the square of the feature\n",
        "* **x1·x2** → interaction terms between features\n",
        "\n",
        "So for `Present_Price` and `Car_Age`, the model was trained on:\n",
        "\n",
        "* `Present_Price`\n",
        "* `Car_Age`\n",
        "* `Present_Price²`\n",
        "* `Car_Age²`\n",
        "* `Present_Price × Car_Age`\n",
        "\n",
        "That’s a **2nd-degree polynomial** transformation.\n",
        "\n",
        "---\n",
        "\n",
        "### 🧠 What Degree 2 Actually Means:\n",
        "\n",
        "If input is `[x1, x2]` → output becomes:\n",
        "\n",
        "```\n",
        "[x1, x2, x1², x1·x2, x2²]\n",
        "```\n",
        "\n",
        "So \"Polynomial Degree: 2\" means:\n",
        "\n",
        "* You capture all features **up to quadratic (2nd power)** including interaction terms.\n",
        "\n",
        "---\n",
        "\n"
      ],
      "metadata": {
        "id": "EubXdoW6p1Jo"
      }
    }
  ]
}